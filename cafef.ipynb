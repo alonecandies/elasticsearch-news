{
 "cells": [
  {
   "cell_type": "code",
   "execution_count": 1,
   "metadata": {},
   "outputs": [
    {
     "name": "stderr",
     "output_type": "stream",
     "text": [
      "/usr/lib/python3/dist-packages/requests/__init__.py:89: RequestsDependencyWarning: urllib3 (1.26.9) or chardet (3.0.4) doesn't match a supported version!\n",
      "  warnings.warn(\"urllib3 ({}) or chardet ({}) doesn't match a supported \"\n"
     ]
    }
   ],
   "source": [
    "import trafilatura\n",
    "import requests\n",
    "import lxml\n",
    "from elasticsearch import Elasticsearch, helpers\n"
   ]
  },
  {
   "cell_type": "code",
   "execution_count": 2,
   "metadata": {},
   "outputs": [],
   "source": [
    "cafef = {\n",
    "    \"life\": [\"https://cafef.vn/song.chn\",\n",
    "             \"https://cafef.vn/lifestyle.chn\"],\n",
    "    \"news\": [\"https://cafef.vn/thoi-su.chn\"],\n",
    "    \"world\": [\"https://cafef.vn/tai-chinh-quoc-te.chn\"]\n",
    "}\n"
   ]
  },
  {
   "cell_type": "code",
   "execution_count": 3,
   "metadata": {},
   "outputs": [
    {
     "name": "stdout",
     "output_type": "stream",
     "text": [
      "{'life': ['https://cafef.vn/5-thoi-quen-khien-dan-ong-lao-hoa-nhanh-can-khong-noi-tu-30-tuoi-rat-nen-chu-y-bo-sung-3-thuc-pham-quen-thuoc-de-niu-giu-tuoi-tre-20220406150231827.chn', 'https://cafef.vn/bi-quyet-song-tho-nam-o-trai-tim-thu-hai-cua-co-the-la-ang-ten-bao-benh-nuoi-song-mot-nua-so-mach-mau-nhung-nhieu-nguoi-khong-quan-tam-20220405215952369.chn', 'https://cafef.vn/trong-lang-tan-thuy-hoang-co-mot-ngon-den-chay-ngan-nam-khong-tat-nguyen-lieu-lam-nen-anh-sang-bat-tu-khien-nguoi-doi-phai-kinh-hai-20220406150656494.chn', 'https://cafef.vn/chang-trai-dung-xe-tai-cho-260000-dong-xu-di-mua-mo-to-mo-uoc-bay-lau-tien-vat-va-tich-cop-trong-hon-3-nam-suyt-bi-nguoi-ban-hang-tu-choi-20220406151835965.chn', 'https://cafef.vn/tron-mat-ong-cung-loai-hat-nay-se-thanh-sieu-thuc-pham-tri-benh-da-day-bao-ve-xuong-va-rat-tot-cho-benh-nhan-tieu-duong-20220406134901942.chn', 'https://cafef.vn/ly-giai-loi-don-an-nhung-thuc-pham-nay-cung-nhau-se-gay-chet-nguoi-20220406155156106.chn', 'https://cafef.vn/than-dong-viet-nam-8-tuoi-biet-giai-toan-cap-ba-ghi-danh-noi-tieng-the-gioi-nam-15-tuoi-cuoc-song-hien-tai-ra-sao-20220406135518929.chn', 'https://cafef.vn/mot-nganh-hoc-dang-phat-trien-manh-khong-thieu-viec-lam-luong-co-the-len-toi-60-trieu-quan-trong-nhat-la-diem-chuan-khong-qua-cao-20220406155510063.chn', 'https://cafef.vn/dung-7-thang-sau-buc-hinh-lich-su-hieu-pho-phat-bieu-mot-minh-giua-san-truong-co-giao-tam-su-1-cau-day-xuc-dong-tren-mxh-20220406141359099.chn', 'https://cafef.vn/gay-mac-ket-trong-bun-1-trong-7-kieu-nguoi-du-cham-chi-cung-khong-co-cua-thanh-cong-o-noi-lam-viec-20220406141957333.chn', 'https://cafef.vn/10-tuoi-tro-thanh-sinh-vien-13-tuoi-tot-nghiep-dai-hoc-cuoc-song-cua-co-be-dinh-dam-nay-hien-tai-chi-co-the-tom-gon-bang-2-tu-bi-kich-20220406135147415.chn', 'https://cafef.vn/bac-si-dh-tu-van-truc-tuyen-hau-covid-khong-dang-so-20220406142249153.chn', 'https://cafef.vn/3-trieu-chung-tren-ngon-tay-canh-bao-co-the-tich-tu-toan-chat-doc-sap-bung-phat-ung-thu-gan-phoi-dang-rinh-rap-20220406142625883.chn', 'https://cafef.vn/dau-tu-cho-con-nhu-hoa-hau-ha-kieu-anh-chiu-chi-hang-ty-dong-moi-nam-dich-than-cung-chong-dai-gia-di-khao-sat-truong-va-khuyen-khich-con-theo-duoi-uoc-mo-20220406132723803.chn', 'https://cafef.vn/tu-doi-dep-xau-nhat-the-gioi-thanh-xu-huong-thoi-trang-thiet-ke-kho-di-co-gia-gan-20-trieu-dong-nhung-van-duoc-nguoi-noi-tieng-lang-xe-20220405113311452.chn', 'https://cafef.vn/ba-me-tre-trong-ca-vuon-hong-tren-san-thuong-rong-33m-20220406090851393.chn', 'https://cafef.vn/choi-lon-nhu-doanh-nhan-chi-bao-chi-20-ty-dong-tau-xe-sang-bentley-lam-qua-tang-vo-sinh-quy-tu-20220406170748997.chn', 'https://cafef.vn/su-khac-biet-ro-rang-giua-can-ho-studio-va-can-ho-mot-phong-ngu-20220406200111977.chn', 'https://cafef.vn/6-tuyet-chieu-giup-warren-buffett-van-vung-nhu-ban-thach-giua-thoi-lam-phat-cu-kien-dinh-mua-va-trung-thanh-co-phieu-tot-se-cung-ban-vuot-qua-ca-thuan-loi-lan-kho-khan-20220406112137835.chn', 'https://cafef.vn/so-ke-bst-tien-ty-cua-2-mc-btv-chiu-choi-nhat-vtv-dat-toan-do-hieu-xa-xi-dong-ho-tui-xach-moi-ngay-chon-mot-chiec-20220405112443343.chn', 'https://cafef.vn/cap-vo-chong-tre-quyet-mua-nha-co-san-thuong-de-lam-vuon-rau-nhung-sau-4-nam-lai-bien-thanh-khu-vuon-hoa-ruc-ro-sac-mau-20220406132849184.chn', 'https://cafef.vn/hoi-nha-giau-viet-nuom-nuop-do-ve-chau-au-sam-sanh-huong-thu-da-doi-rieng-me-con-tien-nguyen-chiem-song-tuyet-doi-o-khoan-nhan-sac-20220406141054695.chn', 'https://cafef.vn/ly-do-huong-giang-lien-tuc-mua-tui-hermes-cang-mua-cang-lai-lai-it-cung-gan-200-trieu-co-khi-loi-toi-gan-nua-ty-20220406155046917.chn', 'https://cafef.vn/vi-sao-mac-van-khoa-thue-nha-50-ty-de-o-du-truoc-do-da-tau-chung-cu-neu-do-het-tien-mua-nha-bay-gio-se-bi-chon-von-20220406150355546.chn', 'https://cafef.vn/dai-gia-ca-phe-trung-nguyen-sam-porsche-911-gt3-2022-giong-cua-nguyen-quoc-cuong-vua-nhan-xe-da-gan-mot-chi-tiet-nhan-dien-20220406135519398.chn', 'https://cafef.vn/day-la-cach-choi-sieu-xe-cua-nguoi-giau-suu-tap-du-loai-bugatti-ferrari-nhung-hang-ngay-chi-lai-xe-co-20220406090608332.chn', 'https://cafef.vn/tau-chung-cu-to-dung-nam-25-tuoi-3-lan-doi-xe-sang-toan-tien-ty-bi-kip-tai-chinh-cua-vo-chong-trang-lou-tung-son-la-gi-20220406091027933.chn', 'https://cafef.vn/trang-nemo-noi-gi-sau-khi-nuong-tien-tau-xe-vespa-946-christian-dior-ai-mua-lai-1-ty-hay-5-ty-deu-khong-ban-nhung-10-ty-thi-se-suy-nghi-20220406092905258.chn'], 'news': ['https://cafef.vn/lam-ro-viec-phi-cong-goi-hon-10-cuoc-nhung-khong-lien-lac-duoc-voi-khong-luu-20220406180839239.chn', 'https://cafef.vn/dieu-tra-vu-tai-nan-khien-2-vo-chong-nguyen-bi-thu-tinh-uy-ninh-binh-qua-doi-20220406085326488.chn', 'https://cafef.vn/phi-cong-goi-hon-10-cuoc-khong-lien-lac-duoc-kiem-soat-vien-khong-luu-lam-viec-rieng-20220406210902134.chn', 'https://cafef.vn/tu-0h-ngay-8-4-ha-noi-mo-lai-quan-karaoke-massage-bar-tro-choi-dien-tu-20220406210558773.chn', 'https://cafef.vn/khoi-to-vu-an-sai-pham-dat-dai-lien-quan-den-tong-cong-ty-tin-nghia-20220406181433849.chn', 'https://cafef.vn/nu-nhan-vien-moi-gioi-bat-dong-san-tu-vong-trong-tu-the-treo-co-o-phong-tro-20220406151625365.chn', 'https://cafef.vn/toa-nha-phap-co-4-mat-tien-bi-pha-do-de-xay-cao-oc-bi-thu-ha-noi-yeu-cau-tam-dung-thi-cong-20220406151152349.chn', 'https://cafef.vn/chu-tich-ha-noi-chu-ngoc-anh-thanh-pho-da-qua-dinh-dich-benh-covid-19-20220406142109138.chn', 'https://cafef.vn/chiem-nguong-dai-tuong-phat-cao-nhat-dong-nam-a-o-ha-noi-co-trai-tim-ngoc-nang-hon-1-tan-20220406140225895.chn', 'https://cafef.vn/le-tang-nguyen-bi-thu-tinh-uy-ninh-binh-pham-minh-tuyen-to-chuc-theo-nghi-thuc-cap-cao-20220406132553168.chn', 'https://cafef.vn/anh-nhieu-tuyen-duong-ha-noi-un-tac-ngay-dau-hoc-sinh-lop-1-6-den-truong-20220406111220526.chn', 'https://cafef.vn/giai-ma-tam-ly-toi-pham-vu-phong-hoa-o-phu-do-hanh-vi-da-tro-thanh-thoi-quen-2022040610350012.chn', 'https://cafef.vn/anh-gan-1-trieu-hoc-sinh-lop-1-6-o-ha-noi-di-hoc-nhieu-em-mat-ngu-vi-vui-qua-hon-11-thang-moi-gap-mat-thay-co-ban-be-20220406095249178.chn', 'https://cafef.vn/anh-hang-tram-phat-tu-va-nguoi-dan-xuong-song-lam-phong-sinh-12-tan-ca-20220406092105981.chn'], 'world': ['https://cafef.vn/so-huu-quy-dau-tu-co-ty-suat-sinh-loi-hon-3700-day-la-cach-vi-ty-phu-cuoi-song-tren-thi-truong-20220406142246197.chn', 'https://cafef.vn/lan-dau-tro-lai-nha-trang-sau-hon-5-nam-ong-obama-cam-on-pho-tong-thong-biden-20220406142541004.chn', 'https://cafef.vn/lam-5-tieng-tuan-van-dut-tui-gan-4-ty-moi-thang-nguoi-dan-ong-38-tuoi-tiet-lo-3-bi-quyet-kiem-tien-cho-nhung-doanh-nhan-tham-vong-20220406163148412.chn', 'https://cafef.vn/day-la-viec-dau-tien-elon-musk-lam-sau-khi-nam-quyen-tai-twitter-20220406113804197.chn', 'https://cafef.vn/xot-xa-hinh-anh-trong-khu-cach-ly-tre-em-o-thuong-hai-cac-be-gao-khoc-bo-vo-khong-ai-cham-soc-va-canh-bao-dang-lo-tu-chuyen-gia-y-te-20220406154640553.chn', 'https://cafef.vn/nhung-hinh-anh-tai-hien-ac-mong-vu-han-nam-2020-thuong-hai-phon-hoa-bien-thanh-thanh-pho-hoang-toan-bo-cuoc-song-nhu-chung-lai-2022040614024449.chn', 'https://cafef.vn/khong-ai-thanh-ty-phu-bds-nho-phan-lo-ban-nen-ong-trump-chua-tung-bo-hoang-1-manh-dat-nao-mua-la-de-kinh-doanh-lam-giau-tren-manh-dat-do-20220406153409269.chn', 'https://cafef.vn/cctv-giua-khung-hoang-nang-luong-nguoi-duc-da-lo-cho-nam-sau-do-xo-di-tich-tru-1-thu-20220406140629923.chn', 'https://cafef.vn/tuyen-bo-thuoc-cua-minh-co-kha-nang-lam-giam-ty-le-tu-vong-vi-covid-19-co-phieu-mot-hang-duoc-tang-gan-230-20220406112140181.chn', 'https://cafef.vn/diem-danh-10-ty-phu-giau-nhat-the-gioi-nam-2022-ong-chu-facebook-vang-mat-20220406084956795.chn', 'https://cafef.vn/mat-toi-dang-sau-con-song-than-do-vao-nganh-xe-dien-loat-tan-binh-chim-nghim-trong-dia-nguc-san-xuat-ao-tuong-co-the-thanh-cong-nhu-tesla-20220406101753035.chn', 'https://cafef.vn/chan-lam-dien-dao-thi-truong-tien-so-elon-musk-gia-nhap-hoi-dong-quan-tri-twitter-khien-du-luan-doan-gia-doan-non-don-gian-la-khoan-dau-tu-hay-muu-ke-tham-sau-20220406100637638.chn', 'https://cafef.vn/tong-thong-ukraine-zelensky-sap-co-cuoc-dien-dam-voi-chu-tich-trung-quoc-tap-can-binh-20220405172234654.chn', 'https://cafef.vn/eu-ap-lenh-trung-phat-moi-voi-nga-nhung-van-ne-khi-dot-va-dau-luc-dia-gia-lieu-co-vuot-qua-con-tung-thieu-nang-luong-hay-khong-2022040610091492.chn']}\n"
     ]
    }
   ],
   "source": [
    "cafefLinks = {\n",
    "    \"life\": [],\n",
    "    \"news\": [],\n",
    "    \"world\": []\n",
    "}\n",
    "for key, value in cafef.items():\n",
    "    for url in value:\n",
    "        response = requests.get(url)\n",
    "        tree = lxml.html.fromstring(response.content)\n",
    "        title_elem = tree.cssselect('h3 a')\n",
    "        for elem in title_elem:\n",
    "            cafefLinks[key].append(\"https://cafef.vn\"+elem.get('href'))\n",
    "\n",
    "print(cafefLinks)"
   ]
  },
  {
   "cell_type": "code",
   "execution_count": 4,
   "metadata": {},
   "outputs": [
    {
     "name": "stdout",
     "output_type": "stream",
     "text": [
      "56\n"
     ]
    }
   ],
   "source": [
    "cafefContent = {\n",
    "    \"life\": [],\n",
    "    \"news\": [],\n",
    "    \"world\": []\n",
    "}\n",
    "for key, value in cafefLinks.items():\n",
    "    for url in value:\n",
    "        if(url.startswith('https://cafef.vn/')):\n",
    "            id = url.split('-')[-1].replace('.chn', '')\n",
    "            downloaded = trafilatura.fetch_url(url)\n",
    "            tree = lxml.html.fromstring(str(downloaded))\n",
    "            date_elem = tree.cssselect(\".pdate\")[0]\n",
    "            content = trafilatura.extract(downloaded)\n",
    "            content = content.replace('\\n', ' ')\n",
    "            item = {\"domain\": \"https://cafef.vn\", \"URL\": url,\"content\": content, \"date\": date_elem.text, \"id\": id}\n",
    "            cafefContent[key].append(item)\n",
    "\n",
    "print(len(cafefContent[\"life\"]) + len(cafefContent[\"news\"]) + len(cafefContent[\"world\"]))"
   ]
  },
  {
   "cell_type": "code",
   "execution_count": 5,
   "metadata": {},
   "outputs": [
    {
     "name": "stderr",
     "output_type": "stream",
     "text": [
      "/home/hplong/.local/lib/python3.8/site-packages/elasticsearch/connection/base.py:209: ElasticsearchWarning: Elasticsearch built-in security features are not enabled. Without authentication, your cluster could be accessible to anyone. See https://www.elastic.co/guide/en/elasticsearch/reference/7.17/security-minimal-setup.html to enable security.\n",
      "  warnings.warn(message, category=ElasticsearchWarning)\n"
     ]
    },
    {
     "data": {
      "text/plain": [
       "{'name': 'HoangPhiLong-20182651',\n",
       " 'cluster_name': 'elasticsearch',\n",
       " 'cluster_uuid': 'jF2zfdDdQqueQik2u6h9Ug',\n",
       " 'version': {'number': '7.17.2',\n",
       "  'build_flavor': 'default',\n",
       "  'build_type': 'deb',\n",
       "  'build_hash': 'de7261de50d90919ae53b0eff9413fd7e5307301',\n",
       "  'build_date': '2022-03-28T15:12:21.446567561Z',\n",
       "  'build_snapshot': False,\n",
       "  'lucene_version': '8.11.1',\n",
       "  'minimum_wire_compatibility_version': '6.8.0',\n",
       "  'minimum_index_compatibility_version': '6.0.0-beta1'},\n",
       " 'tagline': 'You Know, for Search'}"
      ]
     },
     "execution_count": 5,
     "metadata": {},
     "output_type": "execute_result"
    }
   ],
   "source": [
    "client = Elasticsearch(\"http://localhost:9200\")\n",
    "\n",
    "client.info()\n"
   ]
  },
  {
   "cell_type": "code",
   "execution_count": 6,
   "metadata": {},
   "outputs": [],
   "source": [
    "def gendata():\n",
    "    for key,value in cafefContent.items():\n",
    "         for item in value:\n",
    "            temp_item = {k: item[k] for k in set(list(item.keys())) - set(['id'])}\n",
    "            temp_item['category'] = key\n",
    "            client.index(index=\"journal\", id=item['id'], document=temp_item)\n",
    "\n",
    "gendata()"
   ]
  }
 ],
 "metadata": {
  "interpreter": {
   "hash": "b3ba2566441a7c06988d0923437866b63cedc61552a5af99d1f4fb67d367b25f"
  },
  "kernelspec": {
   "display_name": "Python 3.9.7 ('base')",
   "language": "python",
   "name": "python3"
  },
  "language_info": {
   "codemirror_mode": {
    "name": "ipython",
    "version": 3
   },
   "file_extension": ".py",
   "mimetype": "text/x-python",
   "name": "python",
   "nbconvert_exporter": "python",
   "pygments_lexer": "ipython3",
   "version": "3.8.10"
  },
  "orig_nbformat": 4
 },
 "nbformat": 4,
 "nbformat_minor": 2
}
