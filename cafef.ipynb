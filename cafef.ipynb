{
 "cells": [
  {
   "cell_type": "code",
   "execution_count": 1,
   "metadata": {},
   "outputs": [],
   "source": [
    "import trafilatura\n",
    "import requests\n",
    "import lxml\n",
    "from elasticsearch import Elasticsearch\n"
   ]
  },
  {
   "cell_type": "code",
   "execution_count": 2,
   "metadata": {},
   "outputs": [],
   "source": [
    "cafef = {\n",
    "    \"Đời sống\":\n",
    "    [\"https://cafef.vn/song.chn\",\n",
    "     \"https://cafef.vn/lifestyle.chn\", ],\n",
    "    \"Thời sự\":\n",
    "    [\"https://cafef.vn/thoi-su.chn\", ],\n",
    "    \"Chứng khoán\":\n",
    "    [\"https://cafef.vn/thi-truong-chung-khoan.chn\", ],\n",
    "    \"Bất động sản\":\n",
    "    [\"https://cafef.vn/bat-dong-san.chn\", ],\n",
    "    \"Doanh nghiệp\":\n",
    "    [\"https://cafef.vn/doanh-nghiep.chn\", ],\n",
    "    \"Tài chính\":\n",
    "    [\"https://cafef.vn/tai-chinh-ngan-hang.chn\",\n",
    "     \"https://cafef.vn/tai-chinh-quoc-te.chn\",\n",
    "     \"https://cafef.vn/vi-mo-dau-tu.chn\",\n",
    "     \"https://cafef.vn/kinh-te-so.chn\",\n",
    "     \"https://cafef.vn/thi-truong.chn\", ]\n",
    "}\n"
   ]
  },
  {
   "cell_type": "code",
   "execution_count": 3,
   "metadata": {},
   "outputs": [],
   "source": [
    "cafefLinks = {}\n",
    "for key in cafef:\n",
    "    cafefLinks[key] = []\n",
    "for key, value in cafef.items():\n",
    "    for url in value:\n",
    "        try:\n",
    "            response = requests.get(url)\n",
    "            tree = lxml.html.fromstring(response.content)\n",
    "            title_elem = tree.cssselect('h3 a')\n",
    "            for elem in title_elem:\n",
    "                cafefLinks[key].append(\"https://cafef.vn\"+elem.get('href'))\n",
    "        except:\n",
    "            pass\n",
    "\n",
    "for key in cafefLinks:\n",
    "    print(key, len(cafefLinks[key]))"
   ]
  },
  {
   "cell_type": "code",
   "execution_count": 4,
   "metadata": {},
   "outputs": [
    {
     "name": "stdout",
     "output_type": "stream",
     "text": [
      "Đời sống 28\n",
      "Thời sự 14\n",
      "Chứng khoán 14\n",
      "Bất động sản 14\n",
      "Doanh nghiệp 14\n",
      "Tài chính 70\n"
     ]
    }
   ],
   "source": [
    "cafefContent = {}\n",
    "for key in cafef:\n",
    "    cafefContent[key] = []\n",
    "for key, value in cafefLinks.items():\n",
    "    for url in value:\n",
    "        if(url.startswith('https://cafef.vn/')):\n",
    "            try:\n",
    "                id = url.split('-')[-1].replace('.chn', '')\n",
    "                downloaded = trafilatura.fetch_url(url)\n",
    "                tree = lxml.html.fromstring(str(downloaded))\n",
    "                date_elem = tree.cssselect(\".pdate\")[0]\n",
    "                content = trafilatura.extract(downloaded)\n",
    "                content = content.replace('\\n', ' ')\n",
    "                item = {\"domain\": \"https://cafef.vn\", \"URL\": url,\"content\": content, \"date\": date_elem.text, \"id\": id}\n",
    "                cafefContent[key].append(item)\n",
    "            except:\n",
    "                pass\n",
    "\n",
    "for key in cafefContent:\n",
    "    print(key, len(cafefContent[key]))\n"
   ]
  },
  {
   "cell_type": "code",
   "execution_count": 5,
   "metadata": {},
   "outputs": [
    {
     "name": "stderr",
     "output_type": "stream",
     "text": [
      "/home/hplong/.local/lib/python3.8/site-packages/elasticsearch/connection/base.py:209: ElasticsearchWarning: Elasticsearch built-in security features are not enabled. Without authentication, your cluster could be accessible to anyone. See https://www.elastic.co/guide/en/elasticsearch/reference/7.17/security-minimal-setup.html to enable security.\n",
      "  warnings.warn(message, category=ElasticsearchWarning)\n"
     ]
    },
    {
     "data": {
      "text/plain": [
       "{'name': 'HoangPhiLong-20182651',\n",
       " 'cluster_name': 'elasticsearch',\n",
       " 'cluster_uuid': 'jF2zfdDdQqueQik2u6h9Ug',\n",
       " 'version': {'number': '7.17.2',\n",
       "  'build_flavor': 'default',\n",
       "  'build_type': 'deb',\n",
       "  'build_hash': 'de7261de50d90919ae53b0eff9413fd7e5307301',\n",
       "  'build_date': '2022-03-28T15:12:21.446567561Z',\n",
       "  'build_snapshot': False,\n",
       "  'lucene_version': '8.11.1',\n",
       "  'minimum_wire_compatibility_version': '6.8.0',\n",
       "  'minimum_index_compatibility_version': '6.0.0-beta1'},\n",
       " 'tagline': 'You Know, for Search'}"
      ]
     },
     "execution_count": 5,
     "metadata": {},
     "output_type": "execute_result"
    }
   ],
   "source": [
    "client = Elasticsearch(\"http://localhost:9200\")\n",
    "\n",
    "client.info()\n"
   ]
  },
  {
   "cell_type": "code",
   "execution_count": 6,
   "metadata": {},
   "outputs": [],
   "source": [
    "def gendata():\n",
    "    for key,value in cafefContent.items():\n",
    "         for item in value:\n",
    "            temp_item = {k: item[k] for k in set(list(item.keys())) - set(['id'])}\n",
    "            temp_item['category'] = key\n",
    "            client.index(index=\"journal\", id=item['id'], document=temp_item)\n",
    "\n",
    "gendata()"
   ]
  }
 ],
 "metadata": {
  "interpreter": {
   "hash": "b3ba2566441a7c06988d0923437866b63cedc61552a5af99d1f4fb67d367b25f"
  },
  "kernelspec": {
   "display_name": "Python 3.9.7 ('base')",
   "language": "python",
   "name": "python3"
  },
  "language_info": {
   "codemirror_mode": {
    "name": "ipython",
    "version": 3
   },
   "file_extension": ".py",
   "mimetype": "text/x-python",
   "name": "python",
   "nbconvert_exporter": "python",
   "pygments_lexer": "ipython3",
   "version": "3.9.7"
  },
  "orig_nbformat": 4
 },
 "nbformat": 4,
 "nbformat_minor": 2
}
