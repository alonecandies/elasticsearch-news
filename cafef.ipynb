{
 "cells": [
  {
   "cell_type": "code",
   "execution_count": 1,
   "metadata": {},
   "outputs": [],
   "source": [
    "import trafilatura\n",
    "import requests\n",
    "import lxml\n",
    "from elasticsearch import Elasticsearch, helpers\n"
   ]
  },
  {
   "cell_type": "code",
   "execution_count": 2,
   "metadata": {},
   "outputs": [],
   "source": [
    "cafef = {\n",
    "    \"life\": [\"https://cafef.vn/song.chn\",\n",
    "             \"https://cafef.vn/lifestyle.chn\"],\n",
    "    \"news\": [\"https://cafef.vn/thoi-su.chn\"],\n",
    "    \"world\": [\"https://cafef.vn/tai-chinh-quoc-te.chn\"]\n",
    "}\n"
   ]
  },
  {
   "cell_type": "code",
   "execution_count": 3,
   "metadata": {},
   "outputs": [
    {
     "name": "stdout",
     "output_type": "stream",
     "text": [
      "{'life': ['https://cafef.vn/so-phan-chim-noi-cua-vien-da-minh-chau-gia-3000-ty-dat-trong-mieng-tu-hi-thai-hau-luc-qua-doi-noi-cat-giu-hien-tai-vo-cung-ly-ky-2022040508350304.chn', 'https://cafef.vn/toi-do-gay-chan-dong-pho-wall-bill-hwang-kiem-15-ty-usd-trong-9-nam-sau-cung-toan-bo-tai-san-boc-hoi-trong-2-ngay-tro-thanh-ke-no-nan-chong-chat-20220405103701801.chn', 'https://cafef.vn/4-giac-mo-ky-la-duoc-tin-la-diem-bao-cho-viec-than-tai-chieu-co-tai-loc-nhay-vot-20220302115701746.chn', 'https://cafef.vn/dinh-cao-tri-tue-gia-cat-luong-ngam-7-hat-gao-sau-khi-qua-doi-bai-binh-bo-tran-doa-tu-ma-y-mot-phen-hon-sieu-phach-lac-20220405203157503.chn', 'https://cafef.vn/loai-rau-gia-vai-nghin-mot-bo-dang-ban-day-cho-vua-bo-mau-vua-chua-2-loai-vitamin-san-xuat-collagen-chi-em-an-deu-se-giam-can-chong-lao-hoa-20220405202131672.chn', 'https://cafef.vn/nu-nhan-vien-van-phong-23-tuoi-dot-nhien-dau-tai-liet-mat-sau-khi-tang-ca-ve-khuya-bac-si-canh-bao-nguoi-tre-nen-can-trong-trong-thoi-tiet-giao-mua-20220405140929974.chn', 'https://cafef.vn/vi-tri-tot-nhat-trong-cay-dinh-lang-giup-gia-chu-hut-tai-loc-may-man-20220405200825003.chn', 'https://cafef.vn/chuyen-gia-noi-tieng-tre-ua-bao-luc-hon-hao-deu-bat-nguon-tu-3-thoi-quen-vo-tu-cua-cha-me-20220405145257116.chn', 'https://cafef.vn/nu-ceo-khoi-ung-thu-sau-3-thang-2-dieu-quan-trong-lam-te-bao-ac-tinh-khong-canh-ma-bay-20220405150313144.chn', 'https://cafef.vn/hoa-hau-tung-mac-benh-cuong-giap-cham-dut-hon-nhan-6-nam-voi-chong-doanh-nhan-hien-song-ra-sao-20220405151217812.chn', 'https://cafef.vn/tai-sao-cong-nuong-diana-rat-it-khi-de-toc-dai-nguyen-nhan-lien-quan-den-nu-hoang-anh-20220405155232314.chn', 'https://cafef.vn/loai-hoa-quet-sach-mo-mau-ho-tro-tieu-hoa-rat-tot-nguoi-viet-da-dung-tu-lau-20220405145555582.chn', 'https://cafef.vn/7-thoi-quen-an-uong-nuoi-sat-thu-ung-thu-khong-thay-doi-thi-tu-than-go-cua-90-nguoi-viet-mac-phai-dieu-so-3-20220405135636484.chn', 'https://cafef.vn/phu-nu-song-tho-thuong-co-dac-diem-2-do-2-ngan-tren-co-the-qua-tuoi-40-ma-van-co-du-thi-rat-dang-de-an-mung-20220405074021245.chn', 'https://cafef.vn/cung-lay-chong-dai-gia-cuoc-song-cua-2-nu-mc-tai-sac-vtv-hoan-toan-doi-lap-nguoi-tiep-tuc-su-nghiep-thang-hoa-nguoi-nghi-viec-luon-chi-sau-thoi-gian-ngan-20220405011712148.chn', 'https://cafef.vn/nghi-le-di-du-lich-o-dau-tranh-dong-duc-dung-bo-qua-7-dia-diem-tuyet-dep-ma-it-nguoi-biet-1-noi-thuong-duoc-cac-dai-gia-uu-tien-nho-rieng-tu-ma-hap-dan-20220404153955688.chn', 'https://cafef.vn/can-ho-nho-tro-nen-dep-thanh-lich-nho-chon-gam-mau-trung-tinh-de-trang-tri-2022040520414739.chn', 'https://cafef.vn/so-ke-2-nang-dau-hao-mon-ha-tang-dang-thu-thao-khi-du-su-kien-nguoi-don-gian-nguoi-mau-me-doi-lap-20220405201814585.chn', 'https://cafef.vn/sap-tron-100000km-bmw-640i-van-co-gia-2-ty-dong-nho-mot-chi-tiet-khac-biet-2022040520252149.chn', 'https://cafef.vn/cdm-hoi-lam-the-nao-de-giau-nhu-shark-chu-tich-intracom-nguyen-thanh-viet-tiet-lo-bi-quyet-don-gian-nhung-la-chan-ly-ngan-nam-khong-sai-tien-nhieu-hay-it-phu-thuoc-ca-vao-day-20220405201340699.chn', 'https://cafef.vn/can-ho-rong-120m2-cua-minh-huong-nhat-ki-vang-anh-20220405195153769.chn', 'https://cafef.vn/co-gi-trong-ngoi-truong-dat-do-nhat-the-gioi-duoc-xem-nhu-lo-luyen-quy-toc-tien-nghi-xa-hoa-xung-dang-hoc-phi-3-ty-vnd-nam-chuong-trinh-dao-tao-chuan-tinh-hoa-2022040514355329.chn', 'https://cafef.vn/mot-nam-trong-duoc-hon-200-chau-cay-nguoi-me-tre-bien-hien-nha-thanh-khu-vuon-tren-cao-khien-ai-nay-deu-thay-ngo-ngang-20220405155305721.chn', 'https://cafef.vn/tu-nha-thue-sang-nha-mua-3-thay-doi-cot-loi-trong-van-de-tai-chinh-ma-neu-chua-nam-ro-thi-dung-dai-lao-vao-20220405155804653.chn', 'https://cafef.vn/chang-trai-travel-blogger-tiet-lo-muc-thu-nhap-mot-thang-gom-9-chu-so-chia-se-cach-phan-bo-dong-tien-chia-trung-lam-nhieu-gio-20220405160701881.chn', 'https://cafef.vn/10-quy-tac-tai-chinh-neu-vuong-vao-co-the-mat-diem-tram-trong-trong-mat-nguoi-khac-2022040515492821.chn', 'https://cafef.vn/tram-tro-voi-vuon-rau-sach-xanh-muot-thich-me-an-khong-het-cua-ba-me-2-con-tai-dak-lak-2022040509012539.chn', 'https://cafef.vn/3-mau-lamborghini-thuan-chung-cuoi-cung-ra-mat-ngay-trong-nam-nay-loi-vinh-biet-toi-nhung-co-may-uong-xang-20220405094103793.chn'], 'news': ['https://cafef.vn/giam-doc-va-pho-giam-doc-hoc-vien-quan-y-bi-cach-tat-ca-chuc-vu-trong-dang-20220405145919461.chn', 'https://cafef.vn/ba-vaccine-made-in-vietnam-dang-tiep-tuc-hoan-thien-ho-so-20220405070640645.chn', 'https://cafef.vn/clip-kham-xet-tru-so-tap-doan-tan-hoang-minh-20220405205912407.chn', 'https://cafef.vn/hien-truong-vu-tai-nan-khien-vo-chong-nguyen-bi-thu-tinh-uy-ninh-binh-qua-doi-20220405205427784.chn', 'https://cafef.vn/tiep-tuc-siet-viec-mua-ban-thuoc-dieu-tri-covid-19-20220405173917278.chn', 'https://cafef.vn/pho-co-hoi-an-ron-rang-don-khach-quoc-te-sau-hai-nam-dong-bang-vi-covid-19-20220405165659788.chn', 'https://cafef.vn/truong-tieu-hoc-o-ha-noi-gap-rut-chuan-bi-don-hoc-sinh-hoc-truc-tiep-20220405153218186.chn', 'https://cafef.vn/metro-ga-ha-noi-hoang-mai-hon-40000-ty-dong-cho-duoc-bao-khach-mot-ngay-20220405145714011.chn', 'https://cafef.vn/can-canh-cong-trinh-gan-100-nam-trung-tam-quan-ba-dinh-bi-pha-do-xay-cao-oc-20220405134520752.chn', 'https://cafef.vn/thu-tuong-yeu-cau-trong-quy-ii-hoan-thanh-tiem-vaccine-covid-19-cho-tre-em-20220405134034402.chn', 'https://cafef.vn/nong-5-nu-sinh-12-tuoi-cung-mat-tich-tren-song-cong-an-da-tim-thay-2-thi-the-20220405102901547.chn', 'https://cafef.vn/tu-nghiep-sinh-viet-nam-mat-tich-bi-an-6-nam-o-israel-manh-moi-trong-hang-nui-sau-20220405092420664.chn', 'https://cafef.vn/via-he-duoc-rao-chan-de-danh-cho-nguoi-di-bo-nhung-bi-chiem-dung-thanh-bai-giu-xe-o-bv-cho-ray-20220405085050081.chn', 'https://cafef.vn/bat-2-nhan-vien-cong-ty-dau-gia-o-thanh-hoa-20220405071632969.chn'], 'world': ['https://cafef.vn/bat-chap-ap-luc-khung-khiep-tu-phuong-tay-nga-van-co-dong-minh-ngay-giua-long-eu-va-nato-20220405142216209.chn', 'https://cafef.vn/duc-se-roi-vao-suy-thoai-neu-hoat-dong-nhap-khau-va-van-chuyen-dau-khi-tu-nga-bi-dinh-tre-20220405093215359.chn', 'https://cafef.vn/vi-ty-phu-30-tuoi-ky-la-ca-tuan-ngu-tren-ghe-beanbag-khong-o-nha-rieng-muon-dung-gan-nhu-toan-bo-tai-san-20-ty-do-de-lam-tu-thien-20220404154413631.chn', 'https://cafef.vn/dong-thai-bat-ngo-cua-duc-voi-cong-ty-dau-khi-nga-20220405174600837.chn', 'https://cafef.vn/chau-a-doi-mat-3-cu-soc-kinh-te-khung-khiep-cung-luc-chung-la-gi-20220405180212206.chn', 'https://cafef.vn/maldives-bien-hinh-dao-rac-20220405174911434.chn', 'https://cafef.vn/nha-dau-tu-se-co-bao-nhieu-tien-neu-rot-1000-usd-vao-co-phieu-twitter-5-nam-truoc-20220405162708469.chn', 'https://cafef.vn/tich-thu-sieu-du-thuyen-my-cao-buoc-tai-phiet-nga-gian-lan-va-rua-tien-20220405145047215.chn', 'https://cafef.vn/wb-ha-du-bao-tang-truong-khu-vuc-dong-a-thai-binh-duong-20220405120852429.chn', 'https://cafef.vn/doc-het-von-lieng-gia-toc-samsung-van-thieu-gan-3-nghin-ty-won-thue-thua-ke-20220405105648543.chn', 'https://cafef.vn/ba-lan-do-loi-cho-duc-lam-can-tro-cac-lenh-trung-phat-voi-nga-20220405111158292.chn', 'https://cafef.vn/chan-dung-canh-tay-trai-cua-elon-musk-xin-nghi-phep-cung-khien-ong-chu-phai-len-twitter-thong-bao-dan-mang-thi-lo-lang-khon-nguoi-20220405093221102.chn', 'https://cafef.vn/facebook-tro-thanh-quai-vat-kho-kiem-soat-truyen-tai-noi-dung-sai-lech-toi-hang-ty-nguoi-dung-moi-ngay-vo-toi-va-bat-luc-truoc-nhung-gi-dang-dien-ra-20220405085214858.chn', 'https://cafef.vn/chi-gan-3-ty-do-de-tro-thanh-co-dong-lon-nhat-cua-twitter-elon-musk-dang-u-muu-gi-20220405100457946.chn']}\n"
     ]
    }
   ],
   "source": [
    "cafefLinks = {\n",
    "    \"life\": [],\n",
    "    \"news\": [],\n",
    "    \"world\": []\n",
    "}\n",
    "for key, value in cafef.items():\n",
    "    for url in value:\n",
    "        response = requests.get(url)\n",
    "        tree = lxml.html.fromstring(response.content)\n",
    "        title_elem = tree.cssselect('h3 a')\n",
    "        for elem in title_elem:\n",
    "            cafefLinks[key].append(\"https://cafef.vn\"+elem.get('href'))\n",
    "\n",
    "print(cafefLinks)"
   ]
  },
  {
   "cell_type": "code",
   "execution_count": 4,
   "metadata": {},
   "outputs": [
    {
     "name": "stdout",
     "output_type": "stream",
     "text": [
      "2022040508350304\n",
      "20220405103701801\n",
      "20220302115701746\n",
      "20220405203157503\n",
      "20220405202131672\n",
      "20220405140929974\n",
      "20220405200825003\n",
      "20220405145257116\n",
      "20220405150313144\n",
      "20220405151217812\n",
      "20220405155232314\n",
      "20220405145555582\n",
      "20220405135636484\n",
      "20220405074021245\n",
      "20220405011712148\n",
      "20220404153955688\n",
      "2022040520414739\n",
      "20220405201814585\n",
      "2022040520252149\n"
     ]
    },
    {
     "ename": "KeyboardInterrupt",
     "evalue": "",
     "output_type": "error",
     "traceback": [
      "\u001b[1;31m---------------------------------------------------------------------------\u001b[0m",
      "\u001b[1;31mKeyboardInterrupt\u001b[0m                         Traceback (most recent call last)",
      "\u001b[1;32m~\\AppData\\Local\\Temp/ipykernel_5992/1058171428.py\u001b[0m in \u001b[0;36m<module>\u001b[1;34m\u001b[0m\n\u001b[0;32m      9\u001b[0m             \u001b[0mid\u001b[0m \u001b[1;33m=\u001b[0m \u001b[0murl\u001b[0m\u001b[1;33m.\u001b[0m\u001b[0msplit\u001b[0m\u001b[1;33m(\u001b[0m\u001b[1;34m'-'\u001b[0m\u001b[1;33m)\u001b[0m\u001b[1;33m[\u001b[0m\u001b[1;33m-\u001b[0m\u001b[1;36m1\u001b[0m\u001b[1;33m]\u001b[0m\u001b[1;33m.\u001b[0m\u001b[0mreplace\u001b[0m\u001b[1;33m(\u001b[0m\u001b[1;34m'.chn'\u001b[0m\u001b[1;33m,\u001b[0m \u001b[1;34m''\u001b[0m\u001b[1;33m)\u001b[0m\u001b[1;33m\u001b[0m\u001b[1;33m\u001b[0m\u001b[0m\n\u001b[0;32m     10\u001b[0m             \u001b[0mprint\u001b[0m\u001b[1;33m(\u001b[0m\u001b[0mid\u001b[0m\u001b[1;33m)\u001b[0m\u001b[1;33m\u001b[0m\u001b[1;33m\u001b[0m\u001b[0m\n\u001b[1;32m---> 11\u001b[1;33m             \u001b[0mdownloaded\u001b[0m \u001b[1;33m=\u001b[0m \u001b[0mtrafilatura\u001b[0m\u001b[1;33m.\u001b[0m\u001b[0mfetch_url\u001b[0m\u001b[1;33m(\u001b[0m\u001b[0murl\u001b[0m\u001b[1;33m)\u001b[0m\u001b[1;33m\u001b[0m\u001b[1;33m\u001b[0m\u001b[0m\n\u001b[0m\u001b[0;32m     12\u001b[0m             \u001b[0mtree\u001b[0m \u001b[1;33m=\u001b[0m \u001b[0mlxml\u001b[0m\u001b[1;33m.\u001b[0m\u001b[0mhtml\u001b[0m\u001b[1;33m.\u001b[0m\u001b[0mfromstring\u001b[0m\u001b[1;33m(\u001b[0m\u001b[0mstr\u001b[0m\u001b[1;33m(\u001b[0m\u001b[0mdownloaded\u001b[0m\u001b[1;33m)\u001b[0m\u001b[1;33m)\u001b[0m\u001b[1;33m\u001b[0m\u001b[1;33m\u001b[0m\u001b[0m\n\u001b[0;32m     13\u001b[0m             \u001b[0mdate_elem\u001b[0m \u001b[1;33m=\u001b[0m \u001b[0mtree\u001b[0m\u001b[1;33m.\u001b[0m\u001b[0mcssselect\u001b[0m\u001b[1;33m(\u001b[0m\u001b[1;34m\".pdate\"\u001b[0m\u001b[1;33m)\u001b[0m\u001b[1;33m[\u001b[0m\u001b[1;36m0\u001b[0m\u001b[1;33m]\u001b[0m\u001b[1;33m\u001b[0m\u001b[1;33m\u001b[0m\u001b[0m\n",
      "\u001b[1;32mC:\\ProgramData\\Anaconda3\\lib\\site-packages\\trafilatura\\downloads.py\u001b[0m in \u001b[0;36mfetch_url\u001b[1;34m(url, decode, no_ssl, config)\u001b[0m\n\u001b[0;32m    156\u001b[0m         \u001b[0mresponse\u001b[0m \u001b[1;33m=\u001b[0m \u001b[0m_send_request\u001b[0m\u001b[1;33m(\u001b[0m\u001b[0murl\u001b[0m\u001b[1;33m,\u001b[0m \u001b[0mno_ssl\u001b[0m\u001b[1;33m,\u001b[0m \u001b[0mconfig\u001b[0m\u001b[1;33m)\u001b[0m\u001b[1;33m\u001b[0m\u001b[1;33m\u001b[0m\u001b[0m\n\u001b[0;32m    157\u001b[0m     \u001b[1;32melse\u001b[0m\u001b[1;33m:\u001b[0m\u001b[1;33m\u001b[0m\u001b[1;33m\u001b[0m\u001b[0m\n\u001b[1;32m--> 158\u001b[1;33m         \u001b[0mresponse\u001b[0m \u001b[1;33m=\u001b[0m \u001b[0m_send_pycurl_request\u001b[0m\u001b[1;33m(\u001b[0m\u001b[0murl\u001b[0m\u001b[1;33m,\u001b[0m \u001b[0mno_ssl\u001b[0m\u001b[1;33m,\u001b[0m \u001b[0mconfig\u001b[0m\u001b[1;33m)\u001b[0m\u001b[1;33m\u001b[0m\u001b[1;33m\u001b[0m\u001b[0m\n\u001b[0m\u001b[0;32m    159\u001b[0m     \u001b[1;32mif\u001b[0m \u001b[0mresponse\u001b[0m \u001b[1;32mis\u001b[0m \u001b[1;32mnot\u001b[0m \u001b[1;32mNone\u001b[0m\u001b[1;33m:\u001b[0m\u001b[1;33m\u001b[0m\u001b[1;33m\u001b[0m\u001b[0m\n\u001b[0;32m    160\u001b[0m         \u001b[1;32mif\u001b[0m \u001b[0mresponse\u001b[0m \u001b[1;33m!=\u001b[0m \u001b[1;34m''\u001b[0m\u001b[1;33m:\u001b[0m\u001b[1;33m\u001b[0m\u001b[1;33m\u001b[0m\u001b[0m\n",
      "\u001b[1;32mC:\\ProgramData\\Anaconda3\\lib\\site-packages\\trafilatura\\downloads.py\u001b[0m in \u001b[0;36m_send_pycurl_request\u001b[1;34m(url, no_ssl, config)\u001b[0m\n\u001b[0;32m    301\u001b[0m     \u001b[1;31m# send request\u001b[0m\u001b[1;33m\u001b[0m\u001b[1;33m\u001b[0m\u001b[0m\n\u001b[0;32m    302\u001b[0m     \u001b[1;32mtry\u001b[0m\u001b[1;33m:\u001b[0m\u001b[1;33m\u001b[0m\u001b[1;33m\u001b[0m\u001b[0m\n\u001b[1;32m--> 303\u001b[1;33m         \u001b[0mbufferbytes\u001b[0m \u001b[1;33m=\u001b[0m \u001b[0mcurl\u001b[0m\u001b[1;33m.\u001b[0m\u001b[0mperform_rb\u001b[0m\u001b[1;33m(\u001b[0m\u001b[1;33m)\u001b[0m\u001b[1;33m\u001b[0m\u001b[1;33m\u001b[0m\u001b[0m\n\u001b[0m\u001b[0;32m    304\u001b[0m     \u001b[1;32mexcept\u001b[0m \u001b[0mpycurl\u001b[0m\u001b[1;33m.\u001b[0m\u001b[0merror\u001b[0m \u001b[1;32mas\u001b[0m \u001b[0merr\u001b[0m\u001b[1;33m:\u001b[0m\u001b[1;33m\u001b[0m\u001b[1;33m\u001b[0m\u001b[0m\n\u001b[0;32m    305\u001b[0m         \u001b[0mlogging\u001b[0m\u001b[1;33m.\u001b[0m\u001b[0merror\u001b[0m\u001b[1;33m(\u001b[0m\u001b[1;34m'pycurl: %s %s'\u001b[0m\u001b[1;33m,\u001b[0m \u001b[0murl\u001b[0m\u001b[1;33m,\u001b[0m \u001b[0merr\u001b[0m\u001b[1;33m)\u001b[0m\u001b[1;33m\u001b[0m\u001b[1;33m\u001b[0m\u001b[0m\n",
      "\u001b[1;31mKeyboardInterrupt\u001b[0m: "
     ]
    }
   ],
   "source": [
    "cafefContent = {\n",
    "    \"life\": [],\n",
    "    \"news\": [],\n",
    "    \"world\": []\n",
    "}\n",
    "for key, value in cafefLinks.items():\n",
    "    for url in value:\n",
    "        if(url.startswith('https://cafef.vn/')):\n",
    "            id = url.split('-')[-1].replace('.chn', '')\n",
    "            downloaded = trafilatura.fetch_url(url)\n",
    "            tree = lxml.html.fromstring(str(downloaded))\n",
    "            date_elem = tree.cssselect(\".pdate\")[0]\n",
    "            content = trafilatura.extract(downloaded)\n",
    "            content = content.replace('\\n', ' ')\n",
    "            item = {\"domain\": \"https://cafef.vn\", \"URL\": url,\"content\": content, \"date\": date_elem.text, \"id\": id}\n",
    "            cafefContent[key].append(item)\n",
    "\n",
    "print(len(cafefContent[\"life\"]) + len(cafefContent[\"news\"]) + len(cafefContent[\"world\"]))"
   ]
  },
  {
   "cell_type": "code",
   "execution_count": null,
   "metadata": {},
   "outputs": [],
   "source": [
    "client = Elasticsearch(\"http://localhost:9200\")\n",
    "\n",
    "client.info()\n"
   ]
  },
  {
   "cell_type": "code",
   "execution_count": null,
   "metadata": {},
   "outputs": [],
   "source": [
    "def gendata():\n",
    "    for key, value in cafefContent.items():\n",
    "        for item in value:\n",
    "            yield {\n",
    "                \"_index\": \"journal\",\n",
    "                \"_type\": key,\n",
    "                \"_id\": item['id'],\n",
    "                \"doc\": item\n",
    "            }\n",
    "\n",
    "\n",
    "helpers.bulk(es, gendata())\n"
   ]
  }
 ],
 "metadata": {
  "interpreter": {
   "hash": "b3ba2566441a7c06988d0923437866b63cedc61552a5af99d1f4fb67d367b25f"
  },
  "kernelspec": {
   "display_name": "Python 3.9.7 ('base')",
   "language": "python",
   "name": "python3"
  },
  "language_info": {
   "codemirror_mode": {
    "name": "ipython",
    "version": 3
   },
   "file_extension": ".py",
   "mimetype": "text/x-python",
   "name": "python",
   "nbconvert_exporter": "python",
   "pygments_lexer": "ipython3",
   "version": "3.9.7"
  },
  "orig_nbformat": 4
 },
 "nbformat": 4,
 "nbformat_minor": 2
}
