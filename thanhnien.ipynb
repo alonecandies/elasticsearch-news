{
 "cells": [
  {
   "cell_type": "code",
   "execution_count": 1,
   "metadata": {},
   "outputs": [],
   "source": [
    "import trafilatura\n",
    "import requests\n",
    "import lxml\n",
    "from elasticsearch import Elasticsearch\n"
   ]
  },
  {
   "cell_type": "code",
   "execution_count": 2,
   "metadata": {},
   "outputs": [],
   "source": [
    "thanhnien = {\n",
    "    \"Đời sống\":\n",
    "    [\"https://thanhnien.vn/doi-song\",\n",
    "     \"https://thanhnien.vn/doi-song/nguoi-song-quanh-ta\",\n",
    "     \"https://thanhnien.vn/doi-song/gia-dinh\",\n",
    "     \"https://thanhnien.vn/doi-song/am-thuc\",\n",
    "     \"https://thanhnien.vn/du-lich\",\n",
    "     \"https://thanhnien.vn/doi-song/cong-dong\",\n",
    "     ],\n",
    "    \"Thời sự\":\n",
    "    [\"https://thanhnien.vn/thoi-su\",\n",
    "     \"https://thanhnien.vn/thoi-su/chinh-tri\"\n",
    "     \"https://thanhnien.vn/thoi-su/phap-luat\",\n",
    "     \"https://thanhnien.vn/thoi-su/dan-sinh\",\n",
    "     \"https://thanhnien.vn/thoi-su/lao-dong-viec-lam\",\n",
    "     \"https://thanhnien.vn/thoi-su/quyen-duoc-biet\",\n",
    "     \"https://thanhnien.vn/thoi-su/phong-su-dieu-tra\",\n",
    "     \"https://thanhnien.vn/thoi-su/quoc-phong\",``\n",
    "     \"https://thanhnien.vn/thoi-su/chong-tin-gia\"\n",
    "     ],\n",
    "    \"Thế giới\":\n",
    "    [\"https://thanhnien.vn/the-gioi\",\n",
    "     \"https://thanhnien.vn/the-gioi/kinh-te-the-gioi\",\n",
    "     \"https://thanhnien.vn/the-gioi/quan-su\",\n",
    "     \"https://thanhnien.vn/the-gioi/goc-nhin\",\n",
    "     \"https://thanhnien.vn/the-gioi/ho-so\",\n",
    "     \"https://thanhnien.vn/the-gioi/nguoi-viet-nam-chau\",\n",
    "     \"https://thanhnien.vn/the-gioi/chuyen-la\",\n",
    "     ],\n",
    "    \"Tài chính - Kinh doanh\":\n",
    "    [\"https://thanhnien.vn/tai-chinh-kinh-doanh\",\n",
    "     \"https://thanhnien.vn/tai-chinh-kinh-doanh/kinh-te-xanh\",\n",
    "     \"https://thanhnien.vn/kinh-doanh/chinh-sach-phat-trien\",\n",
    "     \"https://thanhnien.vn/tai-chinh-kinh-doanh/ngan-hang\",\n",
    "     \"https://thanhnien.vn/tai-chinh-kinh-doanh/chung-khoan\",\n",
    "     \"https://thanhnien.vn/tai-chinh-kinh-doanh/doanh-nghiep\",\n",
    "     \"https://thanhnien.vn/tai-chinh-kinh-doanh/doanh-nhan\",\n",
    "     \"https://thanhnien.vn/tai-chinh-kinh-doanh/tieu-dung\",\n",
    "     \"https://thanhnien.vn/tai-chinh-kinh-doanh/lam-giau\",\n",
    "     \"https://thanhnien.vn/tai-chinh-kinh-doanh/dia-oc\",\n",
    "     ],\n",
    "    \"Giải trí\":\n",
    "    [\"https://thanhnien.vn/giai-tri\",\n",
    "     \"https://thanhnien.vn/giai-tri/phim\",\n",
    "     \"https://thanhnien.vn/giai-tri/truyen-hinh\",\n",
    "     \"https://thanhnien.vn/giai-tri/doi-nghe-si\",\n",
    "     ],\n",
    "    \"Thể thao\":\n",
    "    [\"https://thanhnien.vn/the-thao\",\n",
    "     \"https://thanhnien.vn/the-thao/sea-games-31\",\n",
    "     \"https://thanhnien.vn/the-thao/bong-da-viet-nam\",\n",
    "     \"https://thanhnien.vn/the-thao/bong-da-quoc-te\",\n",
    "     \"https://thanhnien.vn/the-thao/tin-chuyen-nhuong\",\n",
    "     \"https://thanhnien.vn/the-thao/bong-ro\",\n",
    "     \"https://thanhnien.vn/the-thao/the-thao-cong-dong\",\n",
    "     \"https://thanhnien.vn/the-thao/toan-canh-the-thao\",\n",
    "     ],\n",
    "    \"Giáo dục\":\n",
    "    [\"https://thanhnien.vn/giao-duc\",\n",
    "     \"https://thanhnien.vn/giao-duc/tuyen-sinh\",\n",
    "     \"https://thanhnien.vn/giao-duc/hop-thu-tu-van-24-7\",\n",
    "     \"https://thanhnien.vn/giao-duc/du-hoc\",\n",
    "     \"https://thanhnien.vn/giao-duc/chon-nghe\",\n",
    "     \"https://thanhnien.vn/giao-duc/chon-truong\",\n",
    "     \"https://thanhnien.vn/giao-duc/nguoi-thay\",\n",
    "     ],\n",
    "    \"Sức khỏe\":\n",
    "    [\"https://thanhnien.vn/suc-khoe\"\n",
    "     \"https://thanhnien.vn/suc-khoe/lam-dep\",\n",
    "     \"https://thanhnien.vn/suc-khoe/gioi-tinh\",\n",
    "     \"https://thanhnien.vn/suc-khoe/khoe-dep-moi-ngay\",\n",
    "     ],\n",
    "    \"Xe\":\n",
    "    [\"https://thanhnien.vn/xe\",\n",
    "     \"https://thanhnien.vn/xe/thi-truong-xe\",\n",
    "     \"https://thanhnien.vn/xe/tu-van-xe\",\n",
    "     \"https://thanhnien.vn/xe/dien-dan-xe\",\n",
    "     \"https://thanhnien.vn/xe/danh-gia-xe\",\n",
    "     \"https://thanhnien.vn/xe/kham-pha\",\n",
    "     \"https://thanhnien.vn/xe/video-xe\",\n",
    "     ],\n",
    "    \"Văn hóa\":\n",
    "    [\"https://thanhnien.vn/van-hoa\",\n",
    "     \"https://thanhnien.vn/van-hoa/cau-chuyen\",\n",
    "     \"https://thanhnien.vn/van-hoa/khao-cuu\",\n",
    "     \"https://thanhnien.vn/van-hoa/xem-nghe\",\n",
    "     \"https://thanhnien.vn/van-hoa/song-dep\",\n",
    "     \"https://thanhnien.vn/van-hoa/mon-ngon-ha-noi\",\n",
    "     ],\n",
    "    \"Giới trẻ\":\n",
    "    [\"https://thanhnien.vn/gioi-tre\",\n",
    "        \"https://thanhnien.vn/gioi-tre/song-yeu-an-choi\",\n",
    "        \"https://thanhnien.vn/gioi-tre/the-gioi-mang\",\n",
    "        \"https://thanhnien.vn/gioi-tre/ket-noi\",\n",
    "        \"https://thanhnien.vn/gioi-tre/doan-hoi\",\n",
    "     ],\n",
    "    \"Công nghệ - Game\":\n",
    "    [\"https://thanhnien.vn/cong-nghe-game\",\n",
    "     \"https://thanhnien.vn/cong-nghe-game/tin-tuc\",\n",
    "     \"https://thanhnien.vn/cong-nghe-game/blockchain\",\n",
    "     \"https://thanhnien.vn/cong-nghe-game/san-pham\",\n",
    "     \"https://thanhnien.vn/cong-nghe-game/xu-huong-chuyen-doi-so\",\n",
    "     \"https://thanhnien.vn/cong-nghe-game/thu-thuat\",\n",
    "     \"https://thanhnien.vn/cong-nghe-game/esports\",\n",
    "     \"https://thanhnien.vn/cong-nghe-game/gaming-house\",\n",
    "     \"https://thanhnien.vn/cong-nghe-game/game-moi\",\n",
    "     ],\n",
    "    \"Bạn đọc\":\n",
    "    [\"https://thanhnien.vn/ban-doc\",\n",
    "     \"https://thanhnien.vn/ban-doc/am-ap-mua-gian-cach\",\n",
    "     \"https://thanhnien.vn/ban-doc/tu-don-thu-ban-doc\",\n",
    "     \"https://thanhnien.vn/ban-doc/hoi-va-dap\",\n",
    "     \"https://thanhnien.vn/ban-doc/ban-doc-viet\",\n",
    "     \"https://thanhnien.vn/ban-doc/co-quan-chua-tra-loi-ban-doc\",\n",
    "     \"https://thanhnien.vn/ban-doc/tra-loi-ban-doc\",\n",
    "     \"https://thanhnien.vn/ban-doc/la-lanh-dum-la-rach\",\n",
    "     \"https://thanhnien.vn/ban-doc/tam-long-vang\",\n",
    "     ]\n",
    "}\n"
   ]
  },
  {
   "cell_type": "code",
   "execution_count": 3,
   "metadata": {},
   "outputs": [],
   "source": [
    "for key, value in thanhnien.items():\n",
    "    url_array = []\n",
    "    for url in value:\n",
    "        for i in range(2, 20):\n",
    "            url_array.append(url + \"/?trang=\" + str(i))\n",
    "    thanhnien[key]+=url_array\n"
   ]
  },
  {
   "cell_type": "markdown",
   "metadata": {},
   "source": [
    "### Lấy link bài viết từ các link chuyên mục trên"
   ]
  },
  {
   "cell_type": "code",
   "execution_count": 4,
   "metadata": {},
   "outputs": [
    {
     "name": "stdout",
     "output_type": "stream",
     "text": [
      "Đời sống 2908\n",
      "Thời sự 2811\n",
      "Thế giới 2850\n",
      "Podcast 1813\n",
      "Kinh doanh 5728\n",
      "Khoa học 3985\n",
      "Giải trí 4581\n",
      "Thể thao 6867\n",
      "Pháp luật 1154\n",
      "Giáo dục 4546\n",
      "Sức khỏe 6078\n",
      "Du lịch 3485\n",
      "Số hóa 2335\n",
      "Ô tô 2298\n"
     ]
    }
   ],
   "source": [
    "thanhnienLinks = {}\n",
    "for key in thanhnien:\n",
    "    thanhnienLinks[key] = []\n",
    "for key, value in thanhnien.items():\n",
    "    for url in value:\n",
    "        try:\n",
    "            response = requests.get(url)\n",
    "            tree = lxml.html.fromstring(response.content)\n",
    "            title_elem = tree.cssselect('.cms-link')\n",
    "            for elem in title_elem:\n",
    "                thanhnienLinks[key].append(elem.get('href'))\n",
    "        except:\n",
    "            pass\n",
    "for key in thanhnienLinks:\n",
    "    print(key, len(thanhnienLinks[key]))\n"
   ]
  },
  {
   "cell_type": "markdown",
   "metadata": {},
   "source": [
    "### Lấy phần nội dung trong các bài viết"
   ]
  },
  {
   "cell_type": "code",
   "execution_count": 4,
   "metadata": {},
   "outputs": [],
   "source": [
    "thanhnienContent = {}\n",
    "for key in thanhnien:\n",
    "    thanhnienContent[key] = []\n",
    "for key, value in thanhnienLinks.items():\n",
    "    for url in value:\n",
    "        if(url.startswith('https://thanhnien.vn/')):\n",
    "            try:\n",
    "                id = url.split('-')[-1].replace('.html', '').replace(\"post\",\"\")\n",
    "                downloaded = trafilatura.fetch_url(url)\n",
    "                tree = lxml.html.fromstring(str(downloaded))\n",
    "                date_elem = len(tree.cssselect(\"time\")) and tree.cssselect(\"time\")[0].text or \"\"\n",
    "                content = trafilatura.extract(downloaded)\n",
    "                content = content.replace('\\n', ' ')\n",
    "                item = {\"domain\": \"https://thanhnien.vn\", \"URL\": url,\"content\": content, \"date\": date_elem,\"id\": id}\n",
    "                thanhnienContent[key].append(item)\n",
    "            except:\n",
    "                pass\n",
    "for key in thanhnienContent:\n",
    "    print(key, len(thanhnienContent[key]))"
   ]
  },
  {
   "cell_type": "code",
   "execution_count": 23,
   "metadata": {},
   "outputs": [
    {
     "data": {
      "text/plain": [
       "{'name': 'HoangPhiLong-20182651',\n",
       " 'cluster_name': 'elasticsearch',\n",
       " 'cluster_uuid': 'jF2zfdDdQqueQik2u6h9Ug',\n",
       " 'version': {'number': '7.17.2',\n",
       "  'build_flavor': 'default',\n",
       "  'build_type': 'deb',\n",
       "  'build_hash': 'de7261de50d90919ae53b0eff9413fd7e5307301',\n",
       "  'build_date': '2022-03-28T15:12:21.446567561Z',\n",
       "  'build_snapshot': False,\n",
       "  'lucene_version': '8.11.1',\n",
       "  'minimum_wire_compatibility_version': '6.8.0',\n",
       "  'minimum_index_compatibility_version': '6.0.0-beta1'},\n",
       " 'tagline': 'You Know, for Search'}"
      ]
     },
     "execution_count": 23,
     "metadata": {},
     "output_type": "execute_result"
    }
   ],
   "source": [
    "client = Elasticsearch(\"http://localhost:9200\")\n",
    "\n",
    "client.info()\n"
   ]
  },
  {
   "cell_type": "code",
   "execution_count": 27,
   "metadata": {},
   "outputs": [
    {
     "name": "stderr",
     "output_type": "stream",
     "text": [
      "/home/hplong/.local/lib/python3.8/site-packages/elasticsearch/connection/base.py:209: ElasticsearchWarning: Elasticsearch built-in security features are not enabled. Without authentication, your cluster could be accessible to anyone. See https://www.elastic.co/guide/en/elasticsearch/reference/7.17/security-minimal-setup.html to enable security.\n",
      "  warnings.warn(message, category=ElasticsearchWarning)\n"
     ]
    }
   ],
   "source": [
    "def gendata():\n",
    "    for key,value in thanhnienContent.items():\n",
    "         for item in value:\n",
    "            temp_item = {k: item[k] for k in set(list(item.keys())) - set(['id'])}\n",
    "            temp_item['category'] = key\n",
    "            client.index(index=\"journal\", id=item['id'], document=temp_item)\n",
    "\n",
    "gendata()"
   ]
  }
 ],
 "metadata": {
  "interpreter": {
   "hash": "ad2bdc8ecc057115af97d19610ffacc2b4e99fae6737bb82f5d7fb13d2f2c186"
  },
  "kernelspec": {
   "display_name": "Python 3.9.7 ('base')",
   "language": "python",
   "name": "python3"
  },
  "language_info": {
   "codemirror_mode": {
    "name": "ipython",
    "version": 3
   },
   "file_extension": ".py",
   "mimetype": "text/x-python",
   "name": "python",
   "nbconvert_exporter": "python",
   "pygments_lexer": "ipython3",
   "version": "3.9.7"
  },
  "orig_nbformat": 4
 },
 "nbformat": 4,
 "nbformat_minor": 2
}
