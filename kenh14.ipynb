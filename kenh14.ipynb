{
 "cells": [
  {
   "cell_type": "code",
   "execution_count": 1,
   "metadata": {},
   "outputs": [
    {
     "name": "stderr",
     "output_type": "stream",
     "text": [
      "/usr/lib/python3/dist-packages/requests/__init__.py:89: RequestsDependencyWarning: urllib3 (1.26.9) or chardet (3.0.4) doesn't match a supported version!\n",
      "  warnings.warn(\"urllib3 ({}) or chardet ({}) doesn't match a supported \"\n"
     ]
    }
   ],
   "source": [
    "import trafilatura\n",
    "import requests\n",
    "import lxml\n",
    "from elasticsearch import Elasticsearch, helpers\n"
   ]
  },
  {
   "cell_type": "code",
   "execution_count": 2,
   "metadata": {},
   "outputs": [],
   "source": [
    "kenh = {\n",
    "    \"life\": [\"https://kenh14.vn/xem-an-choi.chn\",\n",
    "             \"https://kenh14.vn/doi-song/nhan-vat.chn\",\n",
    "             \"https://kenh14.vn/doi-song/tram-yeu.chn\"],\n",
    "    \"news\": [\"https://kenh14.vn/xa-hoi/song-xanh.chn\",\n",
    "             \"https://kenh14.vn/xa-hoi/phap-luat.chn\",\n",
    "             \"https://kenh14.vn/xa-hoi/nong-tren-mang.chn\"],\n",
    "    \"world\": [\"https://kenh14.vn/the-gioi/di.chn\",\n",
    "              \"https://kenh14.vn/the-gioi/chum-anh.chn\",\n",
    "              \"https://kenh14.vn/the-gioi/kham-pha.chn\"]\n",
    "}\n"
   ]
  },
  {
   "cell_type": "code",
   "execution_count": 3,
   "metadata": {},
   "outputs": [
    {
     "name": "stdout",
     "output_type": "stream",
     "text": [
      "{'life': ['https://kenh14.vn/mung-xiaomi-fan-festival-fpt-shop-giam-den-45-cho-san-pham-thuoc-he-sinh-thai-xiaomi-20220406165602534.chn', 'https://kenh14.vn/samfans-co-the-nang-cap-len-samsung-s22-series-ngay-bay-gio-20220406123220564.chn', 'https://kenh14.vn/tu-co-sinh-vien-ha-noi-mot-minh-vao-sai-gon-lap-nghiep-den-chu-chuoi-cua-hang-cho-me-va-be-20220405220223483.chn', 'https://kenh14.vn/den-sai-gon-dung-quen-loat-mon-ngon-dinh-dam-quen-loi-ve-20220405220456551.chn', 'https://kenh14.vn/meo-su-dung-may-hut-am-khong-khi-cho-nha-luon-thong-thoang-20220405174915295.chn', 'https://kenh14.vn/hint-khoe-dang-dep-da-mua-he-cua-nha-tocotoco-co-lam-ban-hao-huc-20220405142229624.chn', 'https://kenh14.vn/et-o-et-chinh-thuc-phat-dong-bidv-check-in-challenge-vi-vu-khap-noi-am-giai-thuong-den-400-trieu-dong-20220405120255625.chn', 'https://kenh14.vn/snack-khoai-tay-lays-chinh-phuc-trai-tim-gioi-tre-viet-voi-nguon-khoai-tay-noi-dia-20220404170545249.chn', 'https://kenh14.vn/giam-doc-dieu-hanh-do-ventures-le-hoang-uyen-vy-se-luon-co-nhung-ap-luc-neu-muc-tieu-cao-nhat-cua-ban-khong-don-thuan-la-lam-giau-20220328152848709.chn', 'https://kenh14.vn/gai-dep-duoc-menh-danh-than-tien-ty-ty-dang-di-thi-hoa-hau-la-sinh-vien-luat-biet-3-thu-tieng-20220326172258659.chn', 'https://kenh14.vn/32-tuoi-chua-chong-co-gai-van-1-minh-mua-nha-sai-gon-2-ty-den-luc-khong-muon-ap-luc-dau-tu-no-nan-gi-nua-minh-all-in-mua-nha-20220321131927068.chn', 'https://kenh14.vn/that-nghiep-nam-nha-om-con-co-gai-cam-36-trieu-di-thue-nha-kiem-loi-gio-co-ngoi-6-ty-tray-trat-vi-von-mong-he-lo-cach-tien-de-ra-tien-neu-co-1-can-nha-2022031721520715.chn', 'https://kenh14.vn/noi-mai-khong-chiu-nghe-gai-dep-duoc-ban-dang-ky-thi-hoa-hau-gium-cao-1m74-la-con-lai-3-dong-mau-vua-bat-dau-da-hot-2022031910322977.chn', 'https://kenh14.vn/di-cau-voi-ke-san-thuy-quai-lk-hoa-buon-quan-ao-pha-san-nen-cau-ca-cho-do-stress-ai-ngo-thanh-idol-top-top-kiem-tien-ty-nho-ban-1-thu-nho-xiu-20220315215015354.chn', 'https://kenh14.vn/gai-xinh-cam-40-trieu-vao-sai-gon-thang-dau-tieu-het-15-trieu-mo-mat-day-la-da-phai-tieu-du-thu-tien-2022031418440286.chn'], 'news': ['https://kenh14.vn/chuyen-ve-nguyen-nguyet-linh-va-le-khai-giang-khong-bong-bay-mang-ten-minh-20200106153135051.chn', 'https://kenh14.vn/co-mot-su-nham-lan-khong-he-nhe-neu-chung-ta-noi-rang-tre-con-ma-chung-no-biet-gi-dau-vi-ngay-nay-tre-em-biet-nhieu-hon-so-voi-nhung-gi-ta-tuong-day-20191115191043894.chn', 'https://kenh14.vn/500kg-rac-thai-treo-lo-lung-tren-dau-trien-lam-an-tuong-o-ha-noi-khien-nguoi-xem-ngop-tho-20190715223311038.chn', 'https://kenh14.vn/day-la-gia-tai-sieu-to-khong-lo-cua-un-chu-cho-thich-di-nhat-ve-chai-khap-pho-phuong-ha-noi-20190619144707905.chn', 'https://kenh14.vn/vlogger-dat-mua-5000-ong-hut-de-lam-nha-khong-lo-cau-view-cong-dong-buc-xuc-so-luong-nhua-nay-se-di-ve-dau-20190607211911655.chn', 'https://kenh14.vn/gap-co-ban-rau-vui-tinh-o-sai-gon-voi-tam-bang-khong-ban-tui-nilon-nhieu-khach-bao-co-lam-dieu-xam-xi-2019060314575078.chn', 'https://kenh14.vn/chu-nhan-tam-bien-tui-ban-rau-khong-ban-tui-nilon-trong-hem-nho-sai-gon-cac-co-cac-chi-ban-rau-lam-duoc-thi-nguoi-tre-chung-minh-cung-lam-duoc-2019053117415853.chn', 'https://kenh14.vn/vi-sao-chu-tich-tap-doan-tan-hoang-minh-bi-bat-tam-giam-20220405202830115.chn', 'https://kenh14.vn/chu-tich-tan-hoang-minh-va-con-trai-thu-do-hoang-viet-deu-bi-khoi-to-va-tam-giam-20220405200616361.chn', 'https://kenh14.vn/khoi-to-bat-chu-tich-tap-doan-tan-hoang-minh-do-anh-dung-20220405193652785.chn', 'https://kenh14.vn/giai-ma-tam-ly-toi-pham-vu-phong-hoa-o-phu-do-hanh-vi-da-tro-thanh-thoi-quen-20220405163633836.chn', 'https://kenh14.vn/bat-them-em-gai-khac-cua-ong-trinh-van-quyet-20220405170640871.chn', 'https://kenh14.vn/vu-hang-xom-sat-hai-3-ba-chau-chau-be-4-tuoi-cung-da-tu-vong-tren-duong-di-cap-cuu-20220405155127968.chn', 'https://kenh14.vn/tham-an-o-cao-bang-ga-hang-xom-tan-cong-da-man-khien-2-ba-chau-tu-vong-1-be-4-tuoi-bi-thuong-2022040514515319.chn', 'https://kenh14.vn/clip-nam-thanh-nien-nghich-dai-gay-tai-nan-kinh-hoang-cho-xe-may-20210603105957156.chn', 'https://kenh14.vn/clip-nguoi-dan-ong-tu-lao-vao-gam-container-2-lan-lien-tiep-tai-vinh-phuc-20210525114829939.chn', 'https://kenh14.vn/tphcm-camera-an-ninh-ghi-lai-canh-2-nguoi-phu-nu-bo-be-so-sinh-o-khu-dat-hoang-luc-nua-dem-20210522192923315.chn', 'https://kenh14.vn/binh-duong-trom-duoc-chiec-dien-thoai-ke-gian-ngay-tho-video-call-voi-chu-nhan-roi-lo-luon-mat-that-20210520133316326.chn', 'https://kenh14.vn/pha-khoa-cua-an-trom-bat-thanh-ke-gian-bo-chay-tang-lai-chu-nha-chiec-xe-winner-x-moi-tinh-20210520105831372.chn', 'https://kenh14.vn/clip-tai-xe-thot-tim-khi-bat-gap-be-trai-2-tuoi-lang-thang-giua-duong-luc-1-gio-sang-20210519155214966.chn', 'https://kenh14.vn/ba-phuong-hang-treo-thuong-1-ty-dong-cho-ai-tim-ra-danh-tinh-antifan-20210516172604376.chn'], 'world': ['https://kenh14.vn/anh-toan-canh-nguoi-dan-ukraine-sau-khi-tt-putin-phat-dong-chien-dich-quan-su-dac-biet-2022022510244289.chn', 'https://kenh14.vn/nhung-hinh-anh-kinh-hoang-tu-dam-chay-lam-24-nguoi-chet-tai-nhat-ban-tang-thuong-va-gay-phan-no-voi-cach-ra-tay-soc-cua-nghi-pham-20211220091001215.chn', 'https://kenh14.vn/thoi-gian-da-thay-doi-the-gioi-nay-nhu-the-nao-nhung-tam-hinh-nay-se-cho-ban-thay-duoc-dieu-do-20211124000316421.chn', 'https://kenh14.vn/cong-chua-mako-khong-vay-cuoi-nghen-ngao-chao-cha-me-cui-dau-truoc-dan-chung-mot-minh-roi-khoi-nha-trong-ngay-hon-le-20211026094123199.chn', 'https://kenh14.vn/nhung-canh-tuong-quen-thuoc-trong-bep-cua-cac-nha-hang-co-the-se-khien-thuc-khach-phai-sung-sot-nghe-nau-nuong-qua-la-vat-va-20210630195126236.chn', 'https://kenh14.vn/em-be-afghanistan-khoc-rong-khi-duoc-giao-cho-linh-my-va-nhung-tieng-cau-cuu-xe-long-tai-dat-nuoc-dang-hon-loan-vi-chien-tranh-20210821100739079.chn', 'https://kenh14.vn/7749-cach-chong-dich-khi-di-mua-sam-muon-nhin-cuoi-cung-khong-duoc-do-bao-ho-di-the-nay-thi-do-ai-choi-lai-20210726100950517.chn', 'https://kenh14.vn/8-bi-an-kinh-ngac-dang-sau-nhung-tac-pham-nghe-thuat-noi-tieng-nhat-lich-su-nhan-loai-toan-nhung-dieu-thu-vi-nhung-qua-it-nguoi-biet-20210925213629432.chn', 'https://kenh14.vn/co-mot-hanh-tinh-giong-trai-dat-nhu-sinh-doi-o-ngay-trong-he-mat-troi-va-do-khong-phai-la-noi-ban-dang-nghi-toi-2021101413321954.chn', 'https://kenh14.vn/loi-sai-ai-cung-mac-phai-khi-rua-mat-tuong-dang-giup-lam-sach-hoa-ra-lai-chinh-la-ke-thu-khien-lan-da-tro-nen-nhay-cam-va-lao-hoa-som-20210713173510648.chn', 'https://kenh14.vn/10-dieu-ky-dieu-ma-co-the-chung-ta-co-the-lam-duoc-khien-ban-phai-thua-nhan-rang-than-the-minh-chinh-la-co-may-dinh-cao-nhat-202106051518164.chn', 'https://kenh14.vn/xuat-hien-video-cho-thay-loai-ong-dang-xam-chiem-the-gioi-nay-nhu-the-nao-chung-thong-minh-nhu-con-nguoi-2021052715111726.chn', 'https://kenh14.vn/day-la-mot-chiec-ao-anh-thi-giac-dang-hot-ran-ran-tren-mang-xa-hoi-va-no-cho-thay-nao-bo-cua-chung-ta-de-bi-lua-den-muc-nao-20210528175415305.chn', 'https://kenh14.vn/tai-sao-khong-co-con-tho-to-bang-con-bo-hoa-ra-dap-an-lai-rac-roi-hon-ban-tuong-rat-nhieu-20210424104455928.chn']}\n"
     ]
    }
   ],
   "source": [
    "kenhLinks = {\n",
    "    \"life\": [],\n",
    "    \"news\": [],\n",
    "    \"world\": []\n",
    "}\n",
    "for key, value in kenh.items():\n",
    "    for url in value:\n",
    "        response = requests.get(url)\n",
    "        tree = lxml.html.fromstring(response.content)\n",
    "        title_elem = tree.cssselect('.knswli-title a')\n",
    "        for elem in title_elem:\n",
    "            kenhLinks[key].append(\"https://kenh14.vn\"+elem.get('href'))\n",
    "\n",
    "print(kenhLinks)"
   ]
  },
  {
   "cell_type": "code",
   "execution_count": 4,
   "metadata": {},
   "outputs": [
    {
     "name": "stdout",
     "output_type": "stream",
     "text": [
      "50\n",
      "{'domain': 'https://kenh14.vn/', 'URL': 'https://kenh14.vn/mung-xiaomi-fan-festival-fpt-shop-giam-den-45-cho-san-pham-thuoc-he-sinh-thai-xiaomi-20220406165602534.chn', 'content': 'Từ ngày 6/4 - 10/4, FPT Shop giảm đến 45% cho sản phẩm thuộc hệ sinh thái Xiaomi Theo đó, từ nay đến hết ngày 10/04/202, FPT Shop mạnh tay giảm đến 45% cho nhiều sản phẩm thông minh IoT thuộc hệ sinh thái Xiaomi. Cụ thể, FPT Shop giảm đến 3.000.000 đồng cho máy lọc không khí, robot hút bụi Xiaomi với giá còn từ 2.490.000 đồng. Bên cạnh đó, các sản phẩm vòng đeo tay Mi Smart Band 5, loa Bluetooth Xiaomi, chuột không dây, Mi Smart Band, camera an ninh, nồi chiên không dầu, đồng hồ thông minh Xiaomi... giảm đến 45%, giá nhẹ nhàng chỉ từ 240.000 đồng. Hấp dẫn hơn, khách hàng chọn mua tai nghe Xiaomi Buds 3, Buds 3T Pro tại FPT Shop còn được tặng thêm cân Xiaomi và loa trị giá đến 1.180.000 đồng. Không kém thiết thực, khách hàng đặt trước đồng hồ Xiaomi Watch S1 Active còn nhận được bộ quà trị giá 2.180.000 đồng gồm cân Xiaomi và tai nghe Xiaomi Redmi Buds 3. FPT Shop tặng bộ quà đến 2.180.000 đồng khi đặt trước đồng hồ Xiaomi Watch S1 Active Đặc biệt nhất, smartphone Xiaomi được ưu đãi đến 2.000.000 đồng, đưa giá của các sản phẩm về mức ‘chạm sàn’ trong tháng 4 này. Nổi bật nhất chính là Xiaomi Mi 11T Lite 5G và Xiaomi 11T 5G có giá lần lượt còn từ 7.990.000 đồng và 8.990.000 đồng, tức là rẻ hơn 2.000.000 đồng so với giá niêm yết. Xiaomi 12 Series cũng được giảm mạnh 1.000.000 đồng, giá về tay Xiaomi 12 Pro là 26.990.000 đồng và Xiaomi 12 sau khi được giảm 500.000 đồng, giá còn 19.490.000 đồng. FPT Shop giảm mạnh đến 2.000.000 đồng cho smartphone Xiaomi trong ngày Xiaomi Fan Festival Đồng mức giảm 500.000 đồng, Redmi Note 11S và Redmi Note 11 Pro giảm còn 6.190.000 đồng và 6.990.000 đồng. Riêng Redmi Note 11S bản 6GB - 128GB độc quyền FPT Shop sẽ được giảm đến 800.000 đồng, giá chỉ còn 5.390.000 đồng. Với Redmi Note 11, khách hàng cũng được giảm đến 600.000 đồng, giá về tay là 4.090.000 đồng, trong đó khách hàng sẽ được giảm thêm 300.000 đồng nếu chọn thanh toán qua VNPAY. Ngoài ra, vẫn còn nhiều smartphone Xiaomi được giảm từ 300.000 đồng đến 2.000.000 đồng và hệ sinh thái Xiaomi giảm đến 3.000.000 đồng trong ngày hội Xiaomi Fan Festival, bạn có thể khám phá ngay tại website FPT Shop hoặc đến cửa hàng gần nhất để được tư vấn chi tiết hơn. FPT Shop giảm đến 3.000.000 đồng cho hệ sinh thái Xiaomi trong ngày hội Xiaomi Fan Festival Không chỉ được giảm giá và tặng quà hấp dẫn, loạt smartphone Xiaomi và sản phẩm thuộc hệ sinh thái Xiaomi còn được tặng kèm ưu đãi trả góp 0% lãi suất trong thời gian lên đến 6 tháng, bảo hành mở rộng 24 tháng, giảm đến 300.000 đồng khi thanh toán 100% qua VNPAY-QR, giảm thêm 10% khi chọn mua tai nghe Xiaomi Earphone 2 Basic... Nếu đang tìm mua sản phẩm Xiaomi chất lượng với mức giá thật mềm thì lễ hội giảm giá của thương hiệu Xiaomi tại FPT Shop chính là cơ hội \"có một không hai\" mà bạn không thể bỏ qua. Để nhận được tất cả ưu đãi trên, bạn chỉ cần đặt mua tại hơn 700 cửa hàng FPT Shop hoặc đặt online tại 18006601. Có đến 4 lý do để bạn nên chọn mua các sản phẩm thông minh của Xiaomi tại FPT Shop Thứ nhất, bạn có thể đến FPT Shop để thoải mái trải nghiệm, \"sờ tận tay, nhìn tận mắt\" và chọn mua sản phẩm khi cảm thấy hài lòng, không cần phải đặt hàng, chờ đợi giao hàng từ nước ngoài về. Ngoài ra, hệ thống có hơn 700 cửa hàng khắp 63 tỉnh thành và chương trình giao hàng tận nhà để bạn thoải mái mua sắm và an tâm hơn về quá trình bảo hành sản phẩm. Thứ hai, bạn còn được bảo hành 1 đổi 1 đến 12 tháng chính hãng (tuỳ sản phẩm). Thứ ba, FPT Shop cam kết tất cả sản phẩm đều là hàng chính hãng mới 100% và có hoá đơn rõ ràng để bạn có thể hoàn toàn an tâm về nguồn gốc sản phẩm. Thứ 4, FPT Shop luôn dành tặng nhiều ưu đãi hấp dẫn cho khách hàng. Điển hình như chương trình giảm giá đến 45% cho nhiều sản phẩm. Với những ưu đãi thiết thực này, FPT Shop mong muốn trở thành điểm đến công nghệ uy tín để người dùng Việt Nam có thể trải nghiệm và sở hữu những sản phẩm chất lượng ở mức giá hợp lý nhất. https://kenh14.vn/mung-xiaomi-fan-festival-fpt-shop-giam-den-45-cho-san-pham-thuoc-he-sinh-thai-xiaomi-20220406165602534.chn', 'date': '17:30 06/04/2022', 'id': '20220406165602534'}\n"
     ]
    }
   ],
   "source": [
    "kenhContent = {\n",
    "    \"life\": [],\n",
    "    \"news\": [],\n",
    "    \"world\": []\n",
    "}\n",
    "for key, value in kenhLinks.items():\n",
    "    for url in value:\n",
    "        if(url.startswith('https://kenh14.vn/')):\n",
    "            id = url.split('-')[-1].replace('.chn', '')\n",
    "            downloaded = trafilatura.fetch_url(url)\n",
    "            tree = lxml.html.fromstring(str(downloaded))\n",
    "            date_elem = len(tree.cssselect(\n",
    "                \".kbwcm-time\")) and tree.cssselect(\".kbwcm-time\")[0].text or \"\"\n",
    "            content = trafilatura.extract(downloaded)\n",
    "            content = content.replace('\\n', ' ')\n",
    "            item = {\"domain\": \"https://kenh14.vn/\", \"URL\": url,\n",
    "                    \"content\": content, \"date\": date_elem, \"id\": id}\n",
    "            kenhContent[key].append(item)\n",
    "\n",
    "print(len(kenhContent['life'])+len(kenhContent['news'])+len(kenhContent['world']))\n",
    "print(kenhContent['life'][0])"
   ]
  },
  {
   "cell_type": "code",
   "execution_count": 5,
   "metadata": {},
   "outputs": [
    {
     "name": "stderr",
     "output_type": "stream",
     "text": [
      "/home/hplong/.local/lib/python3.8/site-packages/elasticsearch/connection/base.py:209: ElasticsearchWarning: Elasticsearch built-in security features are not enabled. Without authentication, your cluster could be accessible to anyone. See https://www.elastic.co/guide/en/elasticsearch/reference/7.17/security-minimal-setup.html to enable security.\n",
      "  warnings.warn(message, category=ElasticsearchWarning)\n"
     ]
    },
    {
     "data": {
      "text/plain": [
       "{'name': 'HoangPhiLong-20182651',\n",
       " 'cluster_name': 'elasticsearch',\n",
       " 'cluster_uuid': 'jF2zfdDdQqueQik2u6h9Ug',\n",
       " 'version': {'number': '7.17.2',\n",
       "  'build_flavor': 'default',\n",
       "  'build_type': 'deb',\n",
       "  'build_hash': 'de7261de50d90919ae53b0eff9413fd7e5307301',\n",
       "  'build_date': '2022-03-28T15:12:21.446567561Z',\n",
       "  'build_snapshot': False,\n",
       "  'lucene_version': '8.11.1',\n",
       "  'minimum_wire_compatibility_version': '6.8.0',\n",
       "  'minimum_index_compatibility_version': '6.0.0-beta1'},\n",
       " 'tagline': 'You Know, for Search'}"
      ]
     },
     "execution_count": 5,
     "metadata": {},
     "output_type": "execute_result"
    }
   ],
   "source": [
    "client = Elasticsearch(\"http://localhost:9200\")\n",
    "\n",
    "client.info()\n"
   ]
  },
  {
   "cell_type": "code",
   "execution_count": 6,
   "metadata": {},
   "outputs": [],
   "source": [
    "def gendata():\n",
    "    for key,value in kenhContent.items():\n",
    "         for item in value:\n",
    "            temp_item = {k: item[k] for k in set(list(item.keys())) - set(['id'])}\n",
    "            temp_item['category'] = key\n",
    "            client.index(index=\"journal\", id=item['id'], document=temp_item)\n",
    "\n",
    "gendata()"
   ]
  }
 ],
 "metadata": {
  "interpreter": {
   "hash": "b3ba2566441a7c06988d0923437866b63cedc61552a5af99d1f4fb67d367b25f"
  },
  "kernelspec": {
   "display_name": "Python 3.9.7 ('base')",
   "language": "python",
   "name": "python3"
  },
  "language_info": {
   "codemirror_mode": {
    "name": "ipython",
    "version": 3
   },
   "file_extension": ".py",
   "mimetype": "text/x-python",
   "name": "python",
   "nbconvert_exporter": "python",
   "pygments_lexer": "ipython3",
   "version": "3.8.10"
  },
  "orig_nbformat": 4
 },
 "nbformat": 4,
 "nbformat_minor": 2
}
