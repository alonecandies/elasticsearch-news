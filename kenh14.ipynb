{
 "cells": [
  {
   "cell_type": "code",
   "execution_count": 1,
   "metadata": {},
   "outputs": [],
   "source": [
    "import trafilatura\n",
    "import requests\n",
    "import lxml\n",
    "from elasticsearch import Elasticsearch, helpers\n"
   ]
  },
  {
   "cell_type": "code",
   "execution_count": 2,
   "metadata": {},
   "outputs": [],
   "source": [
    "kenh = {\n",
    "    \"life\": [\"https://kenh14.vn/xem-an-choi.chn\",\n",
    "             \"https://kenh14.vn/doi-song/nhan-vat.chn\",\n",
    "             \"https://kenh14.vn/doi-song/tram-yeu.chn\"],\n",
    "    \"news\": [\"https://kenh14.vn/xa-hoi/song-xanh.chn\",\n",
    "             \"https://kenh14.vn/xa-hoi/phap-luat.chn\",\n",
    "             \"https://kenh14.vn/xa-hoi/nong-tren-mang.chn\"],\n",
    "    \"world\": [\"https://kenh14.vn/the-gioi/di.chn\",\n",
    "              \"https://kenh14.vn/the-gioi/chum-anh.chn\",\n",
    "              \"https://kenh14.vn/the-gioi/kham-pha.chn\"]\n",
    "}\n"
   ]
  },
  {
   "cell_type": "code",
   "execution_count": 3,
   "metadata": {},
   "outputs": [
    {
     "name": "stdout",
     "output_type": "stream",
     "text": [
      "{'life': ['https://kenh14.vn/snack-khoai-tay-lays-chinh-phuc-trai-tim-gioi-tre-viet-voi-nguon-khoai-tay-noi-dia-20220404170545249.chn', 'https://kenh14.vn/ra-mat-chuong-trinh-truyen-hinh-thuc-te-du-hanh-tuoi-tho-20220404170414634.chn', 'https://kenh14.vn/dat-them-30-thoa-thuan-moi-marriott-international-du-kien-tang-gap-4-lan-so-khach-san-va-khu-nghi-duong-tai-viet-nam-20220404145814664.chn', 'https://kenh14.vn/lo-dien-dien-mao-moi-cua-ctm-palace-an-tuong-va-gay-choang-ngop-hiem-co-tai-ha-noi-20220402153558058.chn', 'https://kenh14.vn/siberian-wellness-huong-toi-su-phat-trien-cua-the-he-tre-20220402103437425.chn', 'https://kenh14.vn/hang-ngan-voucher-uu-dai-cua-bamboo-airways-da-co-chu-trong-nhung-ngay-dau-vitm-2022-20220402122301579.chn', 'https://kenh14.vn/co-nen-luu-tru-te-bao-goc-cho-be-20220401220852111.chn', 'https://kenh14.vn/gai-dep-duoc-menh-danh-than-tien-ty-ty-dang-di-thi-hoa-hau-la-sinh-vien-luat-biet-3-thu-tieng-20220326172258659.chn', 'https://kenh14.vn/32-tuoi-chua-chong-co-gai-van-1-minh-mua-nha-sai-gon-2-ty-den-luc-khong-muon-ap-luc-dau-tu-no-nan-gi-nua-minh-all-in-mua-nha-20220321131927068.chn', 'https://kenh14.vn/that-nghiep-nam-nha-om-con-co-gai-cam-36-trieu-di-thue-nha-kiem-loi-gio-co-ngoi-6-ty-tray-trat-vi-von-mong-he-lo-cach-tien-de-ra-tien-neu-co-1-can-nha-2022031721520715.chn', 'https://kenh14.vn/noi-mai-khong-chiu-nghe-gai-dep-duoc-ban-dang-ky-thi-hoa-hau-gium-cao-1m74-la-con-lai-3-dong-mau-vua-bat-dau-da-hot-2022031910322977.chn', 'https://kenh14.vn/di-cau-voi-ke-san-thuy-quai-lk-hoa-buon-quan-ao-pha-san-nen-cau-ca-cho-do-stress-ai-ngo-thanh-idol-top-top-kiem-tien-ty-nho-ban-1-thu-nho-xiu-20220315215015354.chn', 'https://kenh14.vn/gai-xinh-cam-40-trieu-vao-sai-gon-thang-dau-tieu-het-15-trieu-mo-mat-day-la-da-phai-tieu-du-thu-tien-2022031418440286.chn', 'https://kenh14.vn/ai-nu-nha-chu-tich-ven-man-hau-truong-dau-tu-hermes-nhieu-nguoi-bi-lua-mua-tui-fake-nhung-ho-im-lang-vi-danh-du-dat-hon-20220310214012186.chn'], 'news': ['https://kenh14.vn/chuyen-ve-nguyen-nguyet-linh-va-le-khai-giang-khong-bong-bay-mang-ten-minh-20200106153135051.chn', 'https://kenh14.vn/co-mot-su-nham-lan-khong-he-nhe-neu-chung-ta-noi-rang-tre-con-ma-chung-no-biet-gi-dau-vi-ngay-nay-tre-em-biet-nhieu-hon-so-voi-nhung-gi-ta-tuong-day-20191115191043894.chn', 'https://kenh14.vn/500kg-rac-thai-treo-lo-lung-tren-dau-trien-lam-an-tuong-o-ha-noi-khien-nguoi-xem-ngop-tho-20190715223311038.chn', 'https://kenh14.vn/day-la-gia-tai-sieu-to-khong-lo-cua-un-chu-cho-thich-di-nhat-ve-chai-khap-pho-phuong-ha-noi-20190619144707905.chn', 'https://kenh14.vn/vlogger-dat-mua-5000-ong-hut-de-lam-nha-khong-lo-cau-view-cong-dong-buc-xuc-so-luong-nhua-nay-se-di-ve-dau-20190607211911655.chn', 'https://kenh14.vn/gap-co-ban-rau-vui-tinh-o-sai-gon-voi-tam-bang-khong-ban-tui-nilon-nhieu-khach-bao-co-lam-dieu-xam-xi-2019060314575078.chn', 'https://kenh14.vn/chu-nhan-tam-bien-tui-ban-rau-khong-ban-tui-nilon-trong-hem-nho-sai-gon-cac-co-cac-chi-ban-rau-lam-duoc-thi-nguoi-tre-chung-minh-cung-lam-duoc-2019053117415853.chn', 'https://kenh14.vn/giai-ma-tam-ly-toi-pham-vu-phong-hoa-o-phu-do-hanh-vi-da-tro-thanh-thoi-quen-20220405163633836.chn', 'https://kenh14.vn/bat-them-em-gai-khac-cua-ong-trinh-van-quyet-20220405170640871.chn', 'https://kenh14.vn/vu-hang-xom-sat-hai-3-ba-chau-chau-be-4-tuoi-cung-da-tu-vong-tren-duong-di-cap-cuu-20220405155127968.chn', 'https://kenh14.vn/tham-an-o-cao-bang-ga-hang-xom-tan-cong-da-man-khien-2-ba-chau-tu-vong-1-be-4-tuoi-bi-thuong-2022040514515319.chn', 'https://kenh14.vn/16-nam-nu-to-chuc-bay-lac-trong-quan-karaoke-phuong-phi-thuong-20220405075432489.chn', 'https://kenh14.vn/khoi-to-bat-tam-giam-nguoi-giup-ong-trinh-van-quyet-thao-tung-thi-truong-chung-khoan-20220404203454557.chn', 'https://kenh14.vn/chuyen-ho-so-len-cong-an-tp-ha-noi-vu-co-gai-to-bi-truong-khoa-dh-luat-kiem-chu-tich-bv-cuong-buc-tinh-duc-20220404171054521.chn', 'https://kenh14.vn/clip-nam-thanh-nien-nghich-dai-gay-tai-nan-kinh-hoang-cho-xe-may-20210603105957156.chn', 'https://kenh14.vn/clip-nguoi-dan-ong-tu-lao-vao-gam-container-2-lan-lien-tiep-tai-vinh-phuc-20210525114829939.chn', 'https://kenh14.vn/tphcm-camera-an-ninh-ghi-lai-canh-2-nguoi-phu-nu-bo-be-so-sinh-o-khu-dat-hoang-luc-nua-dem-20210522192923315.chn', 'https://kenh14.vn/binh-duong-trom-duoc-chiec-dien-thoai-ke-gian-ngay-tho-video-call-voi-chu-nhan-roi-lo-luon-mat-that-20210520133316326.chn', 'https://kenh14.vn/pha-khoa-cua-an-trom-bat-thanh-ke-gian-bo-chay-tang-lai-chu-nha-chiec-xe-winner-x-moi-tinh-20210520105831372.chn', 'https://kenh14.vn/clip-tai-xe-thot-tim-khi-bat-gap-be-trai-2-tuoi-lang-thang-giua-duong-luc-1-gio-sang-20210519155214966.chn', 'https://kenh14.vn/ba-phuong-hang-treo-thuong-1-ty-dong-cho-ai-tim-ra-danh-tinh-antifan-20210516172604376.chn'], 'world': ['https://kenh14.vn/anh-toan-canh-nguoi-dan-ukraine-sau-khi-tt-putin-phat-dong-chien-dich-quan-su-dac-biet-2022022510244289.chn', 'https://kenh14.vn/nhung-hinh-anh-kinh-hoang-tu-dam-chay-lam-24-nguoi-chet-tai-nhat-ban-tang-thuong-va-gay-phan-no-voi-cach-ra-tay-soc-cua-nghi-pham-20211220091001215.chn', 'https://kenh14.vn/thoi-gian-da-thay-doi-the-gioi-nay-nhu-the-nao-nhung-tam-hinh-nay-se-cho-ban-thay-duoc-dieu-do-20211124000316421.chn', 'https://kenh14.vn/cong-chua-mako-khong-vay-cuoi-nghen-ngao-chao-cha-me-cui-dau-truoc-dan-chung-mot-minh-roi-khoi-nha-trong-ngay-hon-le-20211026094123199.chn', 'https://kenh14.vn/nhung-canh-tuong-quen-thuoc-trong-bep-cua-cac-nha-hang-co-the-se-khien-thuc-khach-phai-sung-sot-nghe-nau-nuong-qua-la-vat-va-20210630195126236.chn', 'https://kenh14.vn/em-be-afghanistan-khoc-rong-khi-duoc-giao-cho-linh-my-va-nhung-tieng-cau-cuu-xe-long-tai-dat-nuoc-dang-hon-loan-vi-chien-tranh-20210821100739079.chn', 'https://kenh14.vn/7749-cach-chong-dich-khi-di-mua-sam-muon-nhin-cuoi-cung-khong-duoc-do-bao-ho-di-the-nay-thi-do-ai-choi-lai-20210726100950517.chn', 'https://kenh14.vn/8-bi-an-kinh-ngac-dang-sau-nhung-tac-pham-nghe-thuat-noi-tieng-nhat-lich-su-nhan-loai-toan-nhung-dieu-thu-vi-nhung-qua-it-nguoi-biet-20210925213629432.chn', 'https://kenh14.vn/co-mot-hanh-tinh-giong-trai-dat-nhu-sinh-doi-o-ngay-trong-he-mat-troi-va-do-khong-phai-la-noi-ban-dang-nghi-toi-2021101413321954.chn', 'https://kenh14.vn/loi-sai-ai-cung-mac-phai-khi-rua-mat-tuong-dang-giup-lam-sach-hoa-ra-lai-chinh-la-ke-thu-khien-lan-da-tro-nen-nhay-cam-va-lao-hoa-som-20210713173510648.chn', 'https://kenh14.vn/10-dieu-ky-dieu-ma-co-the-chung-ta-co-the-lam-duoc-khien-ban-phai-thua-nhan-rang-than-the-minh-chinh-la-co-may-dinh-cao-nhat-202106051518164.chn', 'https://kenh14.vn/xuat-hien-video-cho-thay-loai-ong-dang-xam-chiem-the-gioi-nay-nhu-the-nao-chung-thong-minh-nhu-con-nguoi-2021052715111726.chn', 'https://kenh14.vn/day-la-mot-chiec-ao-anh-thi-giac-dang-hot-ran-ran-tren-mang-xa-hoi-va-no-cho-thay-nao-bo-cua-chung-ta-de-bi-lua-den-muc-nao-20210528175415305.chn', 'https://kenh14.vn/tai-sao-khong-co-con-tho-to-bang-con-bo-hoa-ra-dap-an-lai-rac-roi-hon-ban-tuong-rat-nhieu-20210424104455928.chn']}\n"
     ]
    }
   ],
   "source": [
    "kenhLinks = {\n",
    "    \"life\": [],\n",
    "    \"news\": [],\n",
    "    \"world\": []\n",
    "}\n",
    "for key, value in kenh.items():\n",
    "    for url in value:\n",
    "        response = requests.get(url)\n",
    "        tree = lxml.html.fromstring(response.content)\n",
    "        title_elem = tree.cssselect('.knswli-title a')\n",
    "        for elem in title_elem:\n",
    "            kenhLinks[key].append(\"https://kenh14.vn\"+elem.get('href'))\n",
    "\n",
    "print(kenhLinks)"
   ]
  },
  {
   "cell_type": "code",
   "execution_count": 4,
   "metadata": {},
   "outputs": [
    {
     "name": "stdout",
     "output_type": "stream",
     "text": [
      "20220404170545249\n",
      "20220404170414634\n",
      "20220404145814664\n",
      "20220402153558058\n",
      "20220402103437425\n",
      "20220402122301579\n",
      "20220401220852111\n",
      "20220326172258659\n",
      "20220321131927068\n"
     ]
    },
    {
     "ename": "KeyboardInterrupt",
     "evalue": "",
     "output_type": "error",
     "traceback": [
      "\u001b[1;31m---------------------------------------------------------------------------\u001b[0m",
      "\u001b[1;31mKeyboardInterrupt\u001b[0m                         Traceback (most recent call last)",
      "\u001b[1;32m~\\AppData\\Local\\Temp/ipykernel_16556/1205056299.py\u001b[0m in \u001b[0;36m<module>\u001b[1;34m\u001b[0m\n\u001b[0;32m     13\u001b[0m             date_elem = len(tree.cssselect(\n\u001b[0;32m     14\u001b[0m                 \".kbwcm-time\")) and tree.cssselect(\".kbwcm-time\")[0].text or \"\"\n\u001b[1;32m---> 15\u001b[1;33m             \u001b[0mcontent\u001b[0m \u001b[1;33m=\u001b[0m \u001b[0mtrafilatura\u001b[0m\u001b[1;33m.\u001b[0m\u001b[0mextract\u001b[0m\u001b[1;33m(\u001b[0m\u001b[0mdownloaded\u001b[0m\u001b[1;33m)\u001b[0m\u001b[1;33m\u001b[0m\u001b[1;33m\u001b[0m\u001b[0m\n\u001b[0m\u001b[0;32m     16\u001b[0m             \u001b[0mcontent\u001b[0m \u001b[1;33m=\u001b[0m \u001b[0mcontent\u001b[0m\u001b[1;33m.\u001b[0m\u001b[0mreplace\u001b[0m\u001b[1;33m(\u001b[0m\u001b[1;34m'\\n'\u001b[0m\u001b[1;33m,\u001b[0m \u001b[1;34m' '\u001b[0m\u001b[1;33m)\u001b[0m\u001b[1;33m\u001b[0m\u001b[1;33m\u001b[0m\u001b[0m\n\u001b[0;32m     17\u001b[0m             item = {\"domain\": \"https://kenh14.vn/\", \"URL\": url,\n",
      "\u001b[1;32mC:\\ProgramData\\Anaconda3\\lib\\site-packages\\trafilatura\\core.py\u001b[0m in \u001b[0;36mextract\u001b[1;34m(filecontent, url, record_id, no_fallback, favor_precision, favor_recall, include_comments, output_format, tei_validation, target_language, include_tables, include_images, include_formatting, include_links, deduplicate, date_extraction_params, only_with_metadata, with_metadata, max_tree_size, url_blacklist, author_blacklist, settingsfile, config)\u001b[0m\n\u001b[0;32m    951\u001b[0m \u001b[1;33m\u001b[0m\u001b[0m\n\u001b[0;32m    952\u001b[0m     \u001b[1;31m# extraction\u001b[0m\u001b[1;33m\u001b[0m\u001b[1;33m\u001b[0m\u001b[0m\n\u001b[1;32m--> 953\u001b[1;33m     document = bare_extraction(\n\u001b[0m\u001b[0;32m    954\u001b[0m         \u001b[0mfilecontent\u001b[0m\u001b[1;33m,\u001b[0m \u001b[0murl\u001b[0m\u001b[1;33m=\u001b[0m\u001b[0murl\u001b[0m\u001b[1;33m,\u001b[0m \u001b[0mno_fallback\u001b[0m\u001b[1;33m=\u001b[0m\u001b[0mno_fallback\u001b[0m\u001b[1;33m,\u001b[0m\u001b[1;33m\u001b[0m\u001b[1;33m\u001b[0m\u001b[0m\n\u001b[0;32m    955\u001b[0m         \u001b[0mfavor_precision\u001b[0m\u001b[1;33m=\u001b[0m\u001b[0mfavor_precision\u001b[0m\u001b[1;33m,\u001b[0m \u001b[0mfavor_recall\u001b[0m\u001b[1;33m=\u001b[0m\u001b[0mfavor_recall\u001b[0m\u001b[1;33m,\u001b[0m\u001b[1;33m\u001b[0m\u001b[1;33m\u001b[0m\u001b[0m\n",
      "\u001b[1;32mC:\\ProgramData\\Anaconda3\\lib\\site-packages\\trafilatura\\core.py\u001b[0m in \u001b[0;36mbare_extraction\u001b[1;34m(filecontent, url, no_fallback, favor_precision, favor_recall, include_comments, output_format, target_language, include_tables, include_images, include_formatting, include_links, deduplicate, date_extraction_params, only_with_metadata, with_metadata, max_tree_size, url_blacklist, author_blacklist, as_dict, config)\u001b[0m\n\u001b[0;32m    852\u001b[0m         \u001b[1;31m# compare if necessary\u001b[0m\u001b[1;33m\u001b[0m\u001b[1;33m\u001b[0m\u001b[0m\n\u001b[0;32m    853\u001b[0m         \u001b[1;32mif\u001b[0m \u001b[0mno_fallback\u001b[0m \u001b[1;32mis\u001b[0m \u001b[1;32mFalse\u001b[0m\u001b[1;33m:\u001b[0m\u001b[1;33m\u001b[0m\u001b[1;33m\u001b[0m\u001b[0m\n\u001b[1;32m--> 854\u001b[1;33m             \u001b[0mpostbody\u001b[0m\u001b[1;33m,\u001b[0m \u001b[0mtemp_text\u001b[0m\u001b[1;33m,\u001b[0m \u001b[0mlen_text\u001b[0m \u001b[1;33m=\u001b[0m \u001b[0mcompare_extraction\u001b[0m\u001b[1;33m(\u001b[0m\u001b[0mcleaned_tree_backup\u001b[0m\u001b[1;33m,\u001b[0m \u001b[0mtree_backup_1\u001b[0m\u001b[1;33m,\u001b[0m \u001b[0murl\u001b[0m\u001b[1;33m,\u001b[0m \u001b[0mpostbody\u001b[0m\u001b[1;33m,\u001b[0m \u001b[0mtemp_text\u001b[0m\u001b[1;33m,\u001b[0m \u001b[0mlen_text\u001b[0m\u001b[1;33m,\u001b[0m \u001b[0mtarget_language\u001b[0m\u001b[1;33m,\u001b[0m \u001b[0mfavor_precision\u001b[0m\u001b[1;33m,\u001b[0m \u001b[0mfavor_recall\u001b[0m\u001b[1;33m,\u001b[0m \u001b[0minclude_formatting\u001b[0m\u001b[1;33m,\u001b[0m \u001b[0minclude_links\u001b[0m\u001b[1;33m,\u001b[0m \u001b[0minclude_images\u001b[0m\u001b[1;33m,\u001b[0m \u001b[0minclude_tables\u001b[0m\u001b[1;33m,\u001b[0m \u001b[0mconfig\u001b[0m\u001b[1;33m)\u001b[0m\u001b[1;33m\u001b[0m\u001b[1;33m\u001b[0m\u001b[0m\n\u001b[0m\u001b[0;32m    855\u001b[0m         \u001b[1;31m# add baseline as additional fallback\u001b[0m\u001b[1;33m\u001b[0m\u001b[1;33m\u001b[0m\u001b[0m\n\u001b[0;32m    856\u001b[0m         \u001b[1;31m# rescue: try to use original/dirty tree\u001b[0m\u001b[1;33m\u001b[0m\u001b[1;33m\u001b[0m\u001b[0m\n",
      "\u001b[1;32mC:\\ProgramData\\Anaconda3\\lib\\site-packages\\trafilatura\\core.py\u001b[0m in \u001b[0;36mcompare_extraction\u001b[1;34m(tree, backup_tree, url, body, text, len_text, target_language, favor_precision, favor_recall, include_formatting, include_links, include_images, include_tables, config)\u001b[0m\n\u001b[0;32m    604\u001b[0m     \u001b[0malgo_flag\u001b[0m\u001b[1;33m,\u001b[0m \u001b[0mjt_result\u001b[0m \u001b[1;33m=\u001b[0m \u001b[1;32mFalse\u001b[0m\u001b[1;33m,\u001b[0m \u001b[1;32mFalse\u001b[0m\u001b[1;33m\u001b[0m\u001b[1;33m\u001b[0m\u001b[0m\n\u001b[0;32m    605\u001b[0m     \u001b[1;31m# try with readability\u001b[0m\u001b[1;33m\u001b[0m\u001b[1;33m\u001b[0m\u001b[0m\n\u001b[1;32m--> 606\u001b[1;33m     \u001b[0mtemppost_algo\u001b[0m \u001b[1;33m=\u001b[0m \u001b[0mtry_readability\u001b[0m\u001b[1;33m(\u001b[0m\u001b[0mbackup_tree\u001b[0m\u001b[1;33m)\u001b[0m\u001b[1;33m\u001b[0m\u001b[1;33m\u001b[0m\u001b[0m\n\u001b[0m\u001b[0;32m    607\u001b[0m     \u001b[0malgo_text\u001b[0m \u001b[1;33m=\u001b[0m \u001b[0mtrim\u001b[0m\u001b[1;33m(\u001b[0m\u001b[1;34m' '\u001b[0m\u001b[1;33m.\u001b[0m\u001b[0mjoin\u001b[0m\u001b[1;33m(\u001b[0m\u001b[0mtemppost_algo\u001b[0m\u001b[1;33m.\u001b[0m\u001b[0mitertext\u001b[0m\u001b[1;33m(\u001b[0m\u001b[1;33m)\u001b[0m\u001b[1;33m)\u001b[0m\u001b[1;33m)\u001b[0m\u001b[1;33m\u001b[0m\u001b[1;33m\u001b[0m\u001b[0m\n\u001b[0;32m    608\u001b[0m     \u001b[0mlen_algo\u001b[0m \u001b[1;33m=\u001b[0m \u001b[0mlen\u001b[0m\u001b[1;33m(\u001b[0m\u001b[0malgo_text\u001b[0m\u001b[1;33m)\u001b[0m\u001b[1;33m\u001b[0m\u001b[1;33m\u001b[0m\u001b[0m\n",
      "\u001b[1;32mC:\\ProgramData\\Anaconda3\\lib\\site-packages\\trafilatura\\external.py\u001b[0m in \u001b[0;36mtry_readability\u001b[1;34m(htmlinput)\u001b[0m\n\u001b[0;32m     34\u001b[0m     \u001b[1;32mtry\u001b[0m\u001b[1;33m:\u001b[0m\u001b[1;33m\u001b[0m\u001b[1;33m\u001b[0m\u001b[0m\n\u001b[0;32m     35\u001b[0m         \u001b[0mdoc\u001b[0m \u001b[1;33m=\u001b[0m \u001b[0mReadabilityDocument\u001b[0m\u001b[1;33m(\u001b[0m\u001b[0mhtmlinput\u001b[0m\u001b[1;33m,\u001b[0m \u001b[0mmin_text_length\u001b[0m\u001b[1;33m=\u001b[0m\u001b[1;36m25\u001b[0m\u001b[1;33m,\u001b[0m \u001b[0mretry_length\u001b[0m\u001b[1;33m=\u001b[0m\u001b[1;36m250\u001b[0m\u001b[1;33m)\u001b[0m\u001b[1;33m\u001b[0m\u001b[1;33m\u001b[0m\u001b[0m\n\u001b[1;32m---> 36\u001b[1;33m         \u001b[1;32mreturn\u001b[0m \u001b[0mhtml\u001b[0m\u001b[1;33m.\u001b[0m\u001b[0mfromstring\u001b[0m\u001b[1;33m(\u001b[0m\u001b[0mdoc\u001b[0m\u001b[1;33m.\u001b[0m\u001b[0msummary\u001b[0m\u001b[1;33m(\u001b[0m\u001b[1;33m)\u001b[0m\u001b[1;33m,\u001b[0m \u001b[0mparser\u001b[0m\u001b[1;33m=\u001b[0m\u001b[0mHTML_PARSER\u001b[0m\u001b[1;33m)\u001b[0m\u001b[1;33m\u001b[0m\u001b[1;33m\u001b[0m\u001b[0m\n\u001b[0m\u001b[0;32m     37\u001b[0m     \u001b[1;32mexcept\u001b[0m \u001b[0mException\u001b[0m \u001b[1;32mas\u001b[0m \u001b[0merr\u001b[0m\u001b[1;33m:\u001b[0m\u001b[1;33m\u001b[0m\u001b[1;33m\u001b[0m\u001b[0m\n\u001b[0;32m     38\u001b[0m         \u001b[0mLOGGER\u001b[0m\u001b[1;33m.\u001b[0m\u001b[0mwarning\u001b[0m\u001b[1;33m(\u001b[0m\u001b[1;34m'readability_lxml failed: %s'\u001b[0m\u001b[1;33m,\u001b[0m \u001b[0merr\u001b[0m\u001b[1;33m)\u001b[0m\u001b[1;33m\u001b[0m\u001b[1;33m\u001b[0m\u001b[0m\n",
      "\u001b[1;32mC:\\ProgramData\\Anaconda3\\lib\\site-packages\\trafilatura\\readability_lxml.py\u001b[0m in \u001b[0;36msummary\u001b[1;34m(self)\u001b[0m\n\u001b[0;32m    141\u001b[0m             \u001b[1;32mif\u001b[0m \u001b[0mruthless\u001b[0m\u001b[1;33m:\u001b[0m\u001b[1;33m\u001b[0m\u001b[1;33m\u001b[0m\u001b[0m\n\u001b[0;32m    142\u001b[0m                 \u001b[0mself\u001b[0m\u001b[1;33m.\u001b[0m\u001b[0mremove_unlikely_candidates\u001b[0m\u001b[1;33m(\u001b[0m\u001b[1;33m)\u001b[0m\u001b[1;33m\u001b[0m\u001b[1;33m\u001b[0m\u001b[0m\n\u001b[1;32m--> 143\u001b[1;33m             \u001b[0mself\u001b[0m\u001b[1;33m.\u001b[0m\u001b[0mtransform_misused_divs_into_paragraphs\u001b[0m\u001b[1;33m(\u001b[0m\u001b[1;33m)\u001b[0m\u001b[1;33m\u001b[0m\u001b[1;33m\u001b[0m\u001b[0m\n\u001b[0m\u001b[0;32m    144\u001b[0m             \u001b[0mcandidates\u001b[0m \u001b[1;33m=\u001b[0m \u001b[0mself\u001b[0m\u001b[1;33m.\u001b[0m\u001b[0mscore_paragraphs\u001b[0m\u001b[1;33m(\u001b[0m\u001b[1;33m)\u001b[0m\u001b[1;33m\u001b[0m\u001b[1;33m\u001b[0m\u001b[0m\n\u001b[0;32m    145\u001b[0m \u001b[1;33m\u001b[0m\u001b[0m\n",
      "\u001b[1;32mC:\\ProgramData\\Anaconda3\\lib\\site-packages\\trafilatura\\readability_lxml.py\u001b[0m in \u001b[0;36mtransform_misused_divs_into_paragraphs\u001b[1;34m(self)\u001b[0m\n\u001b[0;32m    315\u001b[0m             \u001b[1;31m## TODO: if not any(e.tag in DIV_TO_P_ELEMS for e in list(elem)):\u001b[0m\u001b[1;33m\u001b[0m\u001b[1;33m\u001b[0m\u001b[0m\n\u001b[0;32m    316\u001b[0m             if not REGEXES[\"divToPElementsRe\"].search(\n\u001b[1;32m--> 317\u001b[1;33m                 \u001b[1;34m''\u001b[0m\u001b[1;33m.\u001b[0m\u001b[0mjoin\u001b[0m\u001b[1;33m(\u001b[0m\u001b[0m_tostring\u001b[0m\u001b[1;33m(\u001b[0m\u001b[0me\u001b[0m\u001b[1;33m)\u001b[0m \u001b[1;32mfor\u001b[0m \u001b[0me\u001b[0m \u001b[1;32min\u001b[0m \u001b[0mlist\u001b[0m\u001b[1;33m(\u001b[0m\u001b[0melem\u001b[0m\u001b[1;33m)\u001b[0m\u001b[1;33m)\u001b[0m\u001b[1;33m\u001b[0m\u001b[1;33m\u001b[0m\u001b[0m\n\u001b[0m\u001b[0;32m    318\u001b[0m             ):\n\u001b[0;32m    319\u001b[0m                 \u001b[0melem\u001b[0m\u001b[1;33m.\u001b[0m\u001b[0mtag\u001b[0m \u001b[1;33m=\u001b[0m \u001b[1;34m\"p\"\u001b[0m\u001b[1;33m\u001b[0m\u001b[1;33m\u001b[0m\u001b[0m\n",
      "\u001b[1;32mC:\\ProgramData\\Anaconda3\\lib\\site-packages\\trafilatura\\readability_lxml.py\u001b[0m in \u001b[0;36m<genexpr>\u001b[1;34m(.0)\u001b[0m\n\u001b[0;32m    315\u001b[0m             \u001b[1;31m## TODO: if not any(e.tag in DIV_TO_P_ELEMS for e in list(elem)):\u001b[0m\u001b[1;33m\u001b[0m\u001b[1;33m\u001b[0m\u001b[0m\n\u001b[0;32m    316\u001b[0m             if not REGEXES[\"divToPElementsRe\"].search(\n\u001b[1;32m--> 317\u001b[1;33m                 \u001b[1;34m''\u001b[0m\u001b[1;33m.\u001b[0m\u001b[0mjoin\u001b[0m\u001b[1;33m(\u001b[0m\u001b[0m_tostring\u001b[0m\u001b[1;33m(\u001b[0m\u001b[0me\u001b[0m\u001b[1;33m)\u001b[0m \u001b[1;32mfor\u001b[0m \u001b[0me\u001b[0m \u001b[1;32min\u001b[0m \u001b[0mlist\u001b[0m\u001b[1;33m(\u001b[0m\u001b[0melem\u001b[0m\u001b[1;33m)\u001b[0m\u001b[1;33m)\u001b[0m\u001b[1;33m\u001b[0m\u001b[1;33m\u001b[0m\u001b[0m\n\u001b[0m\u001b[0;32m    318\u001b[0m             ):\n\u001b[0;32m    319\u001b[0m                 \u001b[0melem\u001b[0m\u001b[1;33m.\u001b[0m\u001b[0mtag\u001b[0m \u001b[1;33m=\u001b[0m \u001b[1;34m\"p\"\u001b[0m\u001b[1;33m\u001b[0m\u001b[1;33m\u001b[0m\u001b[0m\n",
      "\u001b[1;32mC:\\ProgramData\\Anaconda3\\lib\\site-packages\\trafilatura\\readability_lxml.py\u001b[0m in \u001b[0;36m_tostring\u001b[1;34m(string)\u001b[0m\n\u001b[0;32m     52\u001b[0m \u001b[1;33m\u001b[0m\u001b[0m\n\u001b[0;32m     53\u001b[0m \u001b[1;32mdef\u001b[0m \u001b[0m_tostring\u001b[0m\u001b[1;33m(\u001b[0m\u001b[0mstring\u001b[0m\u001b[1;33m)\u001b[0m\u001b[1;33m:\u001b[0m\u001b[1;33m\u001b[0m\u001b[1;33m\u001b[0m\u001b[0m\n\u001b[1;32m---> 54\u001b[1;33m     \u001b[1;32mreturn\u001b[0m \u001b[0mtostring\u001b[0m\u001b[1;33m(\u001b[0m\u001b[0mstring\u001b[0m\u001b[1;33m,\u001b[0m \u001b[0mencoding\u001b[0m\u001b[1;33m=\u001b[0m\u001b[0mstr\u001b[0m\u001b[1;33m,\u001b[0m \u001b[0mmethod\u001b[0m\u001b[1;33m=\u001b[0m\u001b[1;34m'xml'\u001b[0m\u001b[1;33m)\u001b[0m  \u001b[1;31m# method='text'\u001b[0m\u001b[1;33m\u001b[0m\u001b[1;33m\u001b[0m\u001b[0m\n\u001b[0m\u001b[0;32m     55\u001b[0m \u001b[1;33m\u001b[0m\u001b[0m\n\u001b[0;32m     56\u001b[0m \u001b[1;33m\u001b[0m\u001b[0m\n",
      "\u001b[1;31mKeyboardInterrupt\u001b[0m: "
     ]
    }
   ],
   "source": [
    "kenhContent = {\n",
    "    \"life\": [],\n",
    "    \"news\": [],\n",
    "    \"world\": []\n",
    "}\n",
    "for key, value in kenhLinks.items():\n",
    "    for url in value:\n",
    "        if(url.startswith('https://kenh14.vn/')):\n",
    "            id = url.split('-')[-1].replace('.chn', '')\n",
    "            downloaded = trafilatura.fetch_url(url)\n",
    "            tree = lxml.html.fromstring(str(downloaded))\n",
    "            date_elem = len(tree.cssselect(\n",
    "                \".kbwcm-time\")) and tree.cssselect(\".kbwcm-time\")[0].text or \"\"\n",
    "            content = trafilatura.extract(downloaded)\n",
    "            content = content.replace('\\n', ' ')\n",
    "            item = {\"domain\": \"https://kenh14.vn/\", \"URL\": url,\n",
    "                    \"content\": content, \"date\": date_elem, \"id\": id}\n",
    "            kenhContent[key].append(item)\n",
    "\n",
    "print(len(kenhContent['life'])+len(kenhContent['news'])+len(kenhContent['world']))\n",
    "print(kenhContent['life'][0])"
   ]
  },
  {
   "cell_type": "code",
   "execution_count": null,
   "metadata": {},
   "outputs": [],
   "source": [
    "client = Elasticsearch(\"http://localhost:9200\")\n",
    "\n",
    "client.info()\n"
   ]
  },
  {
   "cell_type": "code",
   "execution_count": 5,
   "metadata": {},
   "outputs": [
    {
     "ename": "NameError",
     "evalue": "name 'helpers' is not defined",
     "output_type": "error",
     "traceback": [
      "\u001b[1;31m---------------------------------------------------------------------------\u001b[0m",
      "\u001b[1;31mNameError\u001b[0m                                 Traceback (most recent call last)",
      "\u001b[1;32m~\\AppData\\Local\\Temp/ipykernel_16556/3513113194.py\u001b[0m in \u001b[0;36m<module>\u001b[1;34m\u001b[0m\n\u001b[0;32m     10\u001b[0m \u001b[1;33m\u001b[0m\u001b[0m\n\u001b[0;32m     11\u001b[0m \u001b[1;33m\u001b[0m\u001b[0m\n\u001b[1;32m---> 12\u001b[1;33m \u001b[0mhelpers\u001b[0m\u001b[1;33m.\u001b[0m\u001b[0mbulk\u001b[0m\u001b[1;33m(\u001b[0m\u001b[0mes\u001b[0m\u001b[1;33m,\u001b[0m \u001b[0mgendata\u001b[0m\u001b[1;33m(\u001b[0m\u001b[1;33m)\u001b[0m\u001b[1;33m)\u001b[0m\u001b[1;33m\u001b[0m\u001b[1;33m\u001b[0m\u001b[0m\n\u001b[0m",
      "\u001b[1;31mNameError\u001b[0m: name 'helpers' is not defined"
     ]
    }
   ],
   "source": [
    "def gendata():\n",
    "    for key, value in kenhContent.items():\n",
    "        for item in value:\n",
    "            yield {\n",
    "                \"_index\": \"journal\",\n",
    "                \"_type\": key,\n",
    "                \"_id\": item['id'],\n",
    "                \"doc\": item\n",
    "            }\n",
    "\n",
    "\n",
    "helpers.bulk(es, gendata())\n"
   ]
  }
 ],
 "metadata": {
  "interpreter": {
   "hash": "b3ba2566441a7c06988d0923437866b63cedc61552a5af99d1f4fb67d367b25f"
  },
  "kernelspec": {
   "display_name": "Python 3.9.7 ('base')",
   "language": "python",
   "name": "python3"
  },
  "language_info": {
   "codemirror_mode": {
    "name": "ipython",
    "version": 3
   },
   "file_extension": ".py",
   "mimetype": "text/x-python",
   "name": "python",
   "nbconvert_exporter": "python",
   "pygments_lexer": "ipython3",
   "version": "3.9.7"
  },
  "orig_nbformat": 4
 },
 "nbformat": 4,
 "nbformat_minor": 2
}
