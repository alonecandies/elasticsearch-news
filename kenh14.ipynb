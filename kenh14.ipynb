{
 "cells": [
  {
   "cell_type": "code",
   "execution_count": 1,
   "metadata": {},
   "outputs": [],
   "source": [
    "import trafilatura\n",
    "import requests\n",
    "import lxml\n",
    "from elasticsearch import Elasticsearch\n"
   ]
  },
  {
   "cell_type": "code",
   "execution_count": 2,
   "metadata": {},
   "outputs": [],
   "source": [
    "kenh = {\n",
    "    \"Đời sống\":\n",
    "    [\"https://kenh14.vn/xem-an-choi.chn\",\n",
    "     \"https://kenh14.vn/doi-song/nhan-vat.chn\",\n",
    "     \"https://kenh14.vn/doi-song/tram-yeu.chn\",\n",
    "     \"https://kenh14.vn/money-z.chn\", ],\n",
    "    \"Thời sự\":\n",
    "    [\"https://kenh14.vn/xa-hoi/song-xanh.chn\",\n",
    "     \"https://kenh14.vn/xa-hoi/phap-luat.chn\",\n",
    "     \"https://kenh14.vn/xa-hoi/nong-tren-mang.chn\", ],\n",
    "    \"Quốc tế\":\n",
    "    [\"https://kenh14.vn/the-gioi/di.chn\",\n",
    "     \"https://kenh14.vn/the-gioi/chum-anh.chn\",\n",
    "     \"https://kenh14.vn/the-gioi/kham-pha.chn\", ],\n",
    "    \"Sao\":\n",
    "    [\"https://kenh14.vn/star/sao-viet.chn\",\n",
    "     \"https://kenh14.vn/star/hoi-ban-than-showbiz.chn\",\n",
    "     \"https://kenh14.vn/star.chn\", ],\n",
    "    \"Điện ảnh\":\n",
    "    [\"https://kenh14.vn/tv-show.chn\",\n",
    "     \"https://kenh14.vn/cine.chn\",\n",
    "     \"https://kenh14.vn/cine/phim-chieu-rap.chn\",\n",
    "     \"https://kenh14.vn/cine/phim-viet-nam.chn\",\n",
    "     \"https://kenh14.vn/cine/series-truyen-hinh.chn\",\n",
    "     \"https://kenh14.vn/cine/hoa-ngu-han-quoc.chn\", ],\n",
    "    \"Âm nhạc\":\n",
    "    [\"https://kenh14.vn/musik.chn\",\n",
    "     \"https://kenh14.vn/musik/au-my.chn\",\n",
    "     \"https://kenh14.vn/musik/chau-a.chn\",\n",
    "     \"https://kenh14.vn/musik/viet-nam.chn\",\n",
    "     \"https://kenh14.vn/musik/hip-hop-neva-die.chn\", ],\n",
    "    \"Làm đẹp\":\n",
    "    [\"https://kenh14.vn/beauty-fashion.chn\",\n",
    "     \"https://kenh14.vn/beauty-fashion/star-style.chn\",\n",
    "     \"https://kenh14.vn/beauty-fashion/lam-dep.chn\",\n",
    "     \"https://kenh14.vn/beauty-fashion/thoi-trang.chn\", ],\n",
    "    \"Mua sắm\":\n",
    "    [\"https://kenh14.vn/xem-mua-luon.chn\",\n",
    "     \"https://kenh14.vn/xem-mua-luon/thoi-trang.chn\",\n",
    "     \"https://kenh14.vn/xem-mua-luon/dep.chn\",\n",
    "     \"https://kenh14.vn/xem-mua-luon/house-n-home.chn\", ],\n",
    "    \"Giải trí\":\n",
    "    [\"https://kenh14.vn/an-quay-di.chn\",\n",
    "     \"https://kenh14.vn/an-quay-di/an.chn\",\n",
    "     \"https://kenh14.vn/an-quay-di/quay.chn\",\n",
    "     \"https://kenh14.vn/an-quay-di/di.chn\", ],\n",
    "    \"Thể thao\":\n",
    "    [\"https://kenh14.vn/sport.chn\",\n",
    "     \"https://kenh14.vn/sport/bong-da.chn\",\n",
    "     \"https://kenh14.vn/sport/hau-truong.chn\", ],\n",
    "    \"Học đường\":\n",
    "    [\"https://kenh14.vn/hoc-duong.chn\",\n",
    "     \"https://kenh14.vn/hoc-duong/tuyen-sinh.chn\",\n",
    "     \"https://kenh14.vn/hoc-duong/nguoi-viet-tre.chn\",\n",
    "     \"https://kenh14.vn/hoc-duong/du-hoc.chn\",\n",
    "     \"https://kenh14.vn/hoc-duong/ban-tin-46.chn\", ],\n",
    "    \"Thể thao điện tử\":\n",
    "    [\"https://kenh14.vn/esports.chn\",\n",
    "     \"https://kenh14.vn/esports/cao-thu.chn\",\n",
    "     \"https://kenh14.vn/esports/dau-truong.chn\",\n",
    "     \"https://kenh14.vn/esports/dau-truong-danh-vong.chn\", ],\n",
    "    \"Sức khỏe\":\n",
    "    [\"https://kenh14.vn/suc-khoe.chn\",\n",
    "     \"https://kenh14.vn/suc-khoe/kien-thuc-gioi-tinh.chn\", ],\n",
    "    \"Công nghệ\":\n",
    "    [\"https://kenh14.vn/2-tek/mobile.chn\",\n",
    "     \"https://kenh14.vn/2-tek/concept.chn\",\n",
    "     \"https://kenh14.vn/2-tek/ung-dung-thu-thuat.chn\",\n",
    "     \"https://kenh14.vn/2-tek/cong-nghe-vui.chn\",\n",
    "     \"https://kenh14.vn/2-tek.chn\", ]\n",
    "}\n"
   ]
  },
  {
   "cell_type": "code",
   "execution_count": 3,
   "metadata": {},
   "outputs": [
    {
     "name": "stdout",
     "output_type": "stream",
     "text": [
      "Đời sống 21\n",
      "Thời sự 23\n",
      "Quốc tế 14\n",
      "Sao 21\n",
      "Điện ảnh 44\n",
      "Âm nhạc 34\n",
      "Làm đẹp 40\n",
      "Mua sắm 20\n",
      "Giải trí 32\n",
      "Thể thao 23\n",
      "Học đường 40\n",
      "Thể thao điện tử 29\n",
      "Sức khỏe 14\n",
      "Công nghệ 37\n"
     ]
    }
   ],
   "source": [
    "kenhLinks = {}\n",
    "for key in kenh:\n",
    "    kenhLinks[key] = []\n",
    "for key, value in kenh.items():\n",
    "    for url in value:\n",
    "        try:\n",
    "            response = requests.get(url)\n",
    "            tree = lxml.html.fromstring(response.content)\n",
    "            title_elem = tree.cssselect('.knswli-title a')\n",
    "            for elem in title_elem:\n",
    "                kenhLinks[key].append(\"https://kenh14.vn\"+elem.get('href'))\n",
    "        except:\n",
    "            pass\n",
    "\n",
    "for key in kenhLinks:\n",
    "    print(key, len(kenhLinks[key]))"
   ]
  },
  {
   "cell_type": "code",
   "execution_count": 4,
   "metadata": {},
   "outputs": [
    {
     "name": "stderr",
     "output_type": "stream",
     "text": [
      "ERROR:root:pycurl: https://kenh14.vn/mach-ban-meo-chong-toc-xoan-roi-20220516160350434.chn (28, 'Failed to connect to kenh14.vn port 443 after 21033 ms: Timed out')\n",
      "ERROR:root:pycurl: https://kenh14.vn/10-kieu-trang-phuc-khien-voc-dang-manh-mai-cung-thanh-nang-ne-to-ngang-20220514074757858.chn (28, 'Failed to connect to kenh14.vn port 443 after 21027 ms: Timed out')\n",
      "ERROR:trafilatura.core:not enough text None\n",
      "ERROR:trafilatura.core:not enough text None\n",
      "ERROR:trafilatura.core:not enough text None\n",
      "ERROR:trafilatura.core:not enough text None\n",
      "ERROR:trafilatura.core:not enough text None\n",
      "ERROR:trafilatura.core:not enough text None\n",
      "ERROR:trafilatura.core:not enough text None\n"
     ]
    },
    {
     "name": "stdout",
     "output_type": "stream",
     "text": [
      "Đời sống 21\n",
      "Thời sự 23\n",
      "Quốc tế 14\n",
      "Sao 21\n",
      "Điện ảnh 44\n",
      "Âm nhạc 34\n",
      "Làm đẹp 38\n",
      "Mua sắm 20\n",
      "Giải trí 32\n",
      "Thể thao 23\n",
      "Học đường 40\n",
      "Thể thao điện tử 29\n",
      "Sức khỏe 14\n",
      "Công nghệ 37\n"
     ]
    }
   ],
   "source": [
    "kenhContent = {}\n",
    "for key in kenh:\n",
    "    kenhContent[key] = []\n",
    "for key, value in kenhLinks.items():\n",
    "    for url in value:\n",
    "        if(url.startswith('https://kenh14.vn/')):\n",
    "            try:\n",
    "                id = url.split('-')[-1].replace('.chn', '')\n",
    "                downloaded = trafilatura.fetch_url(url)\n",
    "                tree = lxml.html.fromstring(str(downloaded))\n",
    "                date_elem = len(tree.cssselect(\n",
    "                    \".kbwcm-time\")) and tree.cssselect(\".kbwcm-time\")[0].text or \"\"\n",
    "                content = trafilatura.extract(downloaded)\n",
    "                content = content.replace('\\n', ' ')\n",
    "                item = {\"domain\": \"https://kenh14.vn/\", \"URL\": url,\n",
    "                        \"content\": content, \"date\": date_elem, \"id\": id}\n",
    "                kenhContent[key].append(item)\n",
    "            except:\n",
    "                pass\n",
    "\n",
    "for key in kenhContent:\n",
    "    print(key, len(kenhContent[key]))\n"
   ]
  },
  {
   "cell_type": "code",
   "execution_count": 5,
   "metadata": {},
   "outputs": [
    {
     "name": "stderr",
     "output_type": "stream",
     "text": [
      "/home/hplong/.local/lib/python3.8/site-packages/elasticsearch/connection/base.py:209: ElasticsearchWarning: Elasticsearch built-in security features are not enabled. Without authentication, your cluster could be accessible to anyone. See https://www.elastic.co/guide/en/elasticsearch/reference/7.17/security-minimal-setup.html to enable security.\n",
      "  warnings.warn(message, category=ElasticsearchWarning)\n"
     ]
    },
    {
     "data": {
      "text/plain": [
       "{'name': 'HoangPhiLong-20182651',\n",
       " 'cluster_name': 'elasticsearch',\n",
       " 'cluster_uuid': 'jF2zfdDdQqueQik2u6h9Ug',\n",
       " 'version': {'number': '7.17.2',\n",
       "  'build_flavor': 'default',\n",
       "  'build_type': 'deb',\n",
       "  'build_hash': 'de7261de50d90919ae53b0eff9413fd7e5307301',\n",
       "  'build_date': '2022-03-28T15:12:21.446567561Z',\n",
       "  'build_snapshot': False,\n",
       "  'lucene_version': '8.11.1',\n",
       "  'minimum_wire_compatibility_version': '6.8.0',\n",
       "  'minimum_index_compatibility_version': '6.0.0-beta1'},\n",
       " 'tagline': 'You Know, for Search'}"
      ]
     },
     "execution_count": 5,
     "metadata": {},
     "output_type": "execute_result"
    }
   ],
   "source": [
    "client = Elasticsearch(\"http://localhost:9200\")\n",
    "\n",
    "client.info()\n"
   ]
  },
  {
   "cell_type": "code",
   "execution_count": 6,
   "metadata": {},
   "outputs": [],
   "source": [
    "def gendata():\n",
    "    for key,value in kenhContent.items():\n",
    "         for item in value:\n",
    "            temp_item = {k: item[k] for k in set(list(item.keys())) - set(['id'])}\n",
    "            temp_item['category'] = key\n",
    "            client.index(index=\"journal\", id=item['id'], document=temp_item)\n",
    "\n",
    "gendata()"
   ]
  }
 ],
 "metadata": {
  "interpreter": {
   "hash": "ad2bdc8ecc057115af97d19610ffacc2b4e99fae6737bb82f5d7fb13d2f2c186"
  },
  "kernelspec": {
   "display_name": "Python 3.9.7 ('base')",
   "language": "python",
   "name": "python3"
  },
  "language_info": {
   "codemirror_mode": {
    "name": "ipython",
    "version": 3
   },
   "file_extension": ".py",
   "mimetype": "text/x-python",
   "name": "python",
   "nbconvert_exporter": "python",
   "pygments_lexer": "ipython3",
   "version": "3.9.7"
  },
  "orig_nbformat": 4
 },
 "nbformat": 4,
 "nbformat_minor": 2
}
