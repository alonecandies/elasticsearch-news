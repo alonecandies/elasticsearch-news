{
 "cells": [
  {
   "cell_type": "code",
   "execution_count": 1,
   "metadata": {},
   "outputs": [],
   "source": [
    "import trafilatura\n",
    "import requests\n",
    "import lxml\n",
    "from elasticsearch import Elasticsearch\n"
   ]
  },
  {
   "cell_type": "code",
   "execution_count": 2,
   "metadata": {},
   "outputs": [],
   "source": [
    "vnexpress = {\n",
    "    \"Đời sống\":\n",
    "    [\"https://vnexpress.net/doi-song/cooking\",\n",
    "     \"https://vnexpress.net/doi-song/to-am\",\n",
    "     \"https://vnexpress.net/doi-song/bai-hoc-song\",\n",
    "     \"https://vnexpress.net/doi-song/nha\",\n",
    "     \"https://vnexpress.net/doi-song/tieu-dung\"],\n",
    "    \"Thời sự\":\n",
    "    [\"https://vnexpress.net/thoi-su/chinh-tri\",\n",
    "     \"https://vnexpress.net/thoi-su/dan-sinh\",\n",
    "     \"https://vnexpress.net/thoi-su/giao-thong\",\n",
    "     \"https://vnexpress.net/thoi-su/mekong\",\n",
    "     \"https://vnexpress.net/thoi-su/quy-hy-vong\"],\n",
    "    \"Thế giới\":\n",
    "    [\"https://vnexpress.net/the-gioi/quan-su\",\n",
    "     \"https://vnexpress.net/the-gioi/tu-lieu\",\n",
    "     \"https://vnexpress.net/the-gioi/phan-tich\",\n",
    "     \"https://vnexpress.net/the-gioi/nguoi-viet-5-chau\",\n",
    "     \"https://vnexpress.net/the-gioi/cuoc-song-do-day\"],\n",
    "    \"Podcast\":\n",
    "    [\"https://vnexpress.net/podcast\",\n",
    "     \"https://vnexpress.net/podcast/vnexpress-hom-nay\",\n",
    "     \"https://vnexpress.net/podcast/ly-hon\",\n",
    "     \"https://vnexpress.net/podcast/tham-thi\",\n",
    "     \"https://vnexpress.net/podcast/ban-on-khong\",\n",
    "     \"https://vnexpress.net/podcast/toi-trong-guong\",\n",
    "     \"https://vnexpress.net/podcast/chuyen-di-lam\",\n",
    "     \"https://vnexpress.net/podcast/up-mo-18\"],\n",
    "    \"Kinh doanh\":\n",
    "    [\"https://vnexpress.net/kinh-doanh\",\n",
    "     \"https://vnexpress.net/kinh-doanh/quoc-te\",\n",
    "     \"https://vnexpress.net/kinh-doanh/doanh-nghiep\",\n",
    "     \"https://vnexpress.net/kinh-doanh/chung-khoan\",\n",
    "     \"https://vnexpress.net/kinh-doanh/bat-dong-san\",\n",
    "     \"https://vnexpress.net/kinh-doanh/ebank\",\n",
    "     \"https://vnexpress.net/kinh-doanh/vi-mo\",\n",
    "     \"https://vnexpress.net/kinh-doanh/tien-cua-toi\",\n",
    "     \"https://vnexpress.net/kinh-doanh/bao-hiem\",\n",
    "     \"https://vnexpress.net/kinh-doanh/hang-hoa\",\n",
    "     \"https://vnexpress.net/kinh-doanh/e-commerce-40\", ],\n",
    "    \"Khoa học\":\n",
    "    [\"https://vnexpress.net/khoa-hoc\",\n",
    "     \"https://vnexpress.net/khoa-hoc/khoa-hoc-trong-nuoc\",\n",
    "     \"https://vnexpress.net/khoa-hoc/tin-tuc\",\n",
    "     \"https://vnexpress.net/khoa-hoc/phat-minh\",\n",
    "     \"https://vnexpress.net/khoa-hoc/ung-dung\",\n",
    "     \"https://vnexpress.net/khoa-hoc/the-gioi-tu-nhien\",\n",
    "     \"https://vnexpress.net/khoa-hoc/thuong-thuc\",\n",
    "     \"https://vnexpress.net/khoa-hoc/cuoc-thi-sang-kien-khoa-hoc\", ],\n",
    "    \"Giải trí\":\n",
    "    [\"https://vnexpress.net/giai-tri\",\n",
    "     \"https://vnexpress.net/giai-tri/gioi-sao\",\n",
    "     \"https://vnexpress.net/giai-tri/phim\",\n",
    "     \"https://vnexpress.net/giai-tri/nhac\",\n",
    "     \"https://vnexpress.net/giai-tri/thoi-trang\",\n",
    "     \"https://vnexpress.net/giai-tri/lam-dep\",\n",
    "     \"https://vnexpress.net/giai-tri/sach\",\n",
    "     \"https://vnexpress.net/giai-tri/san-khau-my-thuat\", ],\n",
    "    \"Thể thao\":\n",
    "    [\"https://vnexpress.net/the-thao\",\n",
    "     \"https://vnexpress.net/bong-da\",\n",
    "     \"https://vnexpress.net/the-thao/du-lieu-bong-da\",\n",
    "     \"https://vnexpress.net/the-thao/tennis\",\n",
    "     \"https://vnexpress.net/the-thao/bundesliga\",\n",
    "     \"https://vnexpress.net/the-thao/cac-mon-khac\",\n",
    "     \"https://vnexpress.net/the-thao/world-cup-2022\",\n",
    "     \"https://vnexpress.net/the-thao/v-league\",\n",
    "     \"https://vnexpress.net/the-thao/hau-truong\",\n",
    "     \"https://vnexpress.net/the-thao/photo\",\n",
    "     \"https://vnexpress.net/the-thao/tuong-thuat\", ],\n",
    "    \"Pháp luật\":\n",
    "    [\"https://vnexpress.net/phap-luat\",\n",
    "     \"https://vnexpress.net/phap-luat/ho-so-pha-an\",\n",
    "     \"https://vnexpress.net/phap-luat/tu-van \", ],\n",
    "    \"Giáo dục\":\n",
    "    [\"https://vnexpress.net/giao-duc\",\n",
    "     \"https://vnexpress.net/giao-duc/tin-tuc\",\n",
    "     \"https://vnexpress.net/giao-duc/tuyen-sinh\",\n",
    "     \"https://vnexpress.net/giao-duc/chan-dung\",\n",
    "     \"https://vnexpress.net/giao-duc/du-hoc\",\n",
    "     \"https://vnexpress.net/giao-duc/hoc-tieng-anh\",\n",
    "     \"https://vnexpress.net/giao-duc/trac-nghiem\",\n",
    "     \"https://vnexpress.net/giao-duc/giao-duc-40\", ],\n",
    "    \"Sức khỏe\":\n",
    "    [\"https://vnexpress.net/suc-khoe\",\n",
    "     \"https://vnexpress.net/suc-khoe/tin-tuc\",\n",
    "     \"https://vnexpress.net/suc-khoe/tu-van\",\n",
    "     \"https://vnexpress.net/suc-khoe/dinh-duong\",\n",
    "     \"https://vnexpress.net/suc-khoe/khoe-dep\",\n",
    "     \"https://vnexpress.net/suc-khoe/dan-ong\",\n",
    "     \"https://vnexpress.net/suc-khoe/cac-benh\",\n",
    "     \"https://vnexpress.net/suc-khoe/vaccine\",\n",
    "     \"https://vnexpress.net/suc-khoe/di-chung-covid\", ],\n",
    "    \"Du lịch\":\n",
    "    [\"https://vnexpress.net/du-lich\",\n",
    "     \"https://vnexpress.net/du-lich/diem-den\",\n",
    "     \"https://vnexpress.net/du-lich/am-thuc\",\n",
    "     \"https://vnexpress.net/du-lich/dau-chan\",\n",
    "     \"https://vnexpress.net/du-lich/tu-van\",\n",
    "     \"https://vnexpress.net/du-lich/anh-video\",\n",
    "     \"https://vnexpress.net/du-lich/an-va-choi\", ],\n",
    "    \"Số hóa\":\n",
    "    [\"https://vnexpress.net/so-hoa\",\n",
    "     \"https://vnexpress.net/so-hoa/cong-nghe\",\n",
    "     \"https://vnexpress.net/so-hoa/san-pham\",\n",
    "     \"https://vnexpress.net/so-hoa/blockchain\", ],\n",
    "    \"Ô tô\":\n",
    "    [\"https://vnexpress.net/oto-xe-may\",\n",
    "     \"https://vnexpress.net/oto-xe-may/thi-truong\",\n",
    "     \"https://vnexpress.net/oto-xe-may/cam-lai\",\n",
    "     \"https://vnexpress.net/oto-xe-may/dien-dan\",\n",
    "     \"https://vnexpress.net/oto-xe-may/car-awards-2021\", ]\n",
    "}\n"
   ]
  },
  {
   "cell_type": "code",
   "execution_count": 3,
   "metadata": {},
   "outputs": [],
   "source": [
    "for key, value in vnexpress.items():\n",
    "    url_array = []\n",
    "    for url in value:\n",
    "        for i in range(10, 20):\n",
    "            url_array.append(url + \"-p\" + str(i))\n",
    "    vnexpress[key]+=url_array\n"
   ]
  },
  {
   "cell_type": "markdown",
   "metadata": {},
   "source": [
    "### Lấy link bài viết từ các link chuyên mục trên"
   ]
  },
  {
   "cell_type": "code",
   "execution_count": 4,
   "metadata": {},
   "outputs": [
    {
     "name": "stdout",
     "output_type": "stream",
     "text": [
      "Đời sống 1676\n",
      "Thời sự 1604\n",
      "Thế giới 1650\n",
      "Podcast 1037\n",
      "Kinh doanh 3304\n",
      "Khoa học 2313\n",
      "Giải trí 2661\n",
      "Thể thao 3966\n",
      "Pháp luật 674\n",
      "Giáo dục 2650\n",
      "Sức khỏe 3526\n",
      "Du lịch 2081\n",
      "Số hóa 1347\n",
      "Ô tô 1338\n"
     ]
    }
   ],
   "source": [
    "vnexpressLinks = {}\n",
    "for key in vnexpress:\n",
    "    vnexpressLinks[key] = []\n",
    "for key, value in vnexpress.items():\n",
    "    for url in value:\n",
    "        try:\n",
    "            response = requests.get(url)\n",
    "            tree = lxml.html.fromstring(response.content)\n",
    "            title_elem = tree.cssselect('.title-news a')\n",
    "            for elem in title_elem:\n",
    "                vnexpressLinks[key].append(elem.get('href'))\n",
    "        except:\n",
    "            pass\n",
    "for key in vnexpressLinks:\n",
    "    print(key, len(vnexpressLinks[key]))\n"
   ]
  },
  {
   "cell_type": "markdown",
   "metadata": {},
   "source": [
    "### Lấy phần nội dung trong các bài viết"
   ]
  },
  {
   "cell_type": "code",
   "execution_count": 5,
   "metadata": {},
   "outputs": [],
   "source": [
    "vnexpressContent = {}\n",
    "for key in vnexpress:\n",
    "    vnexpressContent[key] = []\n",
    "for key, value in vnexpressLinks.items():\n",
    "    for url in value:\n",
    "        if(url.startswith('https://vnexpress.net/')):\n",
    "            try:\n",
    "                id = url.split('-')[-1].replace('.html', '')\n",
    "                downloaded = trafilatura.fetch_url(url)                                                                                                                                                                                                                                                                                                                                                                                                                                                                                                                                                                                                                                                                                         \n",
    "                tree = lxml.html.fromstring(str(downloaded))\n",
    "                date_elem = len(tree.cssselect(\".date\")) and tree.cssselect(\".date\")[0].text or \"\"\n",
    "                content = trafilatura.extract(downloaded)\n",
    "                content = content.replace('\\n', ' ')\n",
    "                item = {\"domain\": \"https://vnexpress.net\", \"URL\": url,\"content\": content, \"date\": date_elem,\"id\": id}\n",
    "                vnexpressContent[key].append(item)\n",
    "            except:\n",
    "                pass\n",
    "for key in vnexpressContent:\n",
    "    print(key, len(vnexpressContent[key]))"
   ]
  },
  {
   "cell_type": "code",
   "execution_count": null,
   "metadata": {},
   "outputs": [
    {
     "name": "stderr",
     "output_type": "stream",
     "text": [
      "/home/anh-nh/.local/lib/python3.9/site-packages/elasticsearch/connection/base.py:209: ElasticsearchWarning: Elasticsearch built-in security features are not enabled. Without authentication, your cluster could be accessible to anyone. See https://www.elastic.co/guide/en/elasticsearch/reference/7.17/security-minimal-setup.html to enable security.\n",
      "  warnings.warn(message, category=ElasticsearchWarning)\n"
     ]
    },
    {
     "data": {
      "text/plain": [
       "{'name': 'anhnh-Vostro-3578',\n",
       " 'cluster_name': 'elasticsearch',\n",
       " 'cluster_uuid': 'j_KLsaXnT3u6trvp-MtsaA',\n",
       " 'version': {'number': '7.17.3',\n",
       "  'build_flavor': 'default',\n",
       "  'build_type': 'deb',\n",
       "  'build_hash': '5ad023604c8d7416c9eb6c0eadb62b14e766caff',\n",
       "  'build_date': '2022-04-19T08:11:19.070913226Z',\n",
       "  'build_snapshot': False,\n",
       "  'lucene_version': '8.11.1',\n",
       "  'minimum_wire_compatibility_version': '6.8.0',\n",
       "  'minimum_index_compatibility_version': '6.0.0-beta1'},\n",
       " 'tagline': 'You Know, for Search'}"
      ]
     },
     "execution_count": 6,
     "metadata": {},
     "output_type": "execute_result"
    }
   ],
   "source": [
    "client = Elasticsearch(\"http://localhost:9200\")\n",
    "\n",
    "client.info()\n"
   ]
  },
  {
   "cell_type": "code",
   "execution_count": null,
   "metadata": {},
   "outputs": [],
   "source": [
    "def gendata():\n",
    "    for key,value in vnexpressContent.items():\n",
    "         for item in value:\n",
    "            temp_item = {k: item[k] for k in set(list(item.keys())) - set(['id'])}\n",
    "            temp_item['category'] = key\n",
    "            client.index(index=\"journal\", id=item['id']+'5', document=temp_item)\n",
    "\n",
    "gendata()"
   ]
  }
 ],
 "metadata": {
  "interpreter": {
   "hash": "916dbcbb3f70747c44a77c7bcd40155683ae19c65e1c03b4aa3499c5328201f1"
  },
  "kernelspec": {
   "display_name": "Python 3.9.5 64-bit",
   "language": "python",
   "name": "python3"
  },
  "language_info": {
   "codemirror_mode": {
    "name": "ipython",
    "version": 3
   },
   "file_extension": ".py",
   "mimetype": "text/x-python",
   "name": "python",
   "nbconvert_exporter": "python",
   "pygments_lexer": "ipython3",
   "version": "3.9.5"
  },
  "orig_nbformat": 4
 },
 "nbformat": 4,
 "nbformat_minor": 2
}
