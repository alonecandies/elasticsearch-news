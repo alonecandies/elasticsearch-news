{
 "cells": [
  {
   "cell_type": "code",
   "execution_count": 1,
   "metadata": {},
   "outputs": [],
   "source": [
    "import trafilatura\n",
    "import requests\n",
    "import lxml\n",
    "from elasticsearch import Elasticsearch\n"
   ]
  },
  {
   "cell_type": "code",
   "execution_count": 2,
   "metadata": {},
   "outputs": [],
   "source": [
    "vnexpress = {\n",
    "    \"Đời sống\":\n",
    "    [\"https://vnexpress.net/doi-song/cooking\",\n",
    "     \"https://vnexpress.net/doi-song/to-am\",\n",
    "     \"https://vnexpress.net/doi-song/bai-hoc-song\",\n",
    "     \"https://vnexpress.net/doi-song/nha\",\n",
    "     \"https://vnexpress.net/doi-song/tieu-dung\"],\n",
    "    \"Thời sự\":\n",
    "    [\"https://vnexpress.net/thoi-su/chinh-tri\",\n",
    "     \"https://vnexpress.net/thoi-su/dan-sinh\",\n",
    "     \"https://vnexpress.net/thoi-su/giao-thong\",\n",
    "     \"https://vnexpress.net/thoi-su/mekong\",\n",
    "     \"https://vnexpress.net/thoi-su/quy-hy-vong\"],\n",
    "    \"Thế giới\":\n",
    "    [\"https://vnexpress.net/the-gioi/quan-su\",\n",
    "     \"https://vnexpress.net/the-gioi/tu-lieu\",\n",
    "     \"https://vnexpress.net/the-gioi/phan-tich\",\n",
    "     \"https://vnexpress.net/the-gioi/nguoi-viet-5-chau\",\n",
    "     \"https://vnexpress.net/the-gioi/cuoc-song-do-day\"],\n",
    "    \"Podcast\":\n",
    "    [\"https://vnexpress.net/podcast\",\n",
    "     \"https://vnexpress.net/podcast/vnexpress-hom-nay\",\n",
    "     \"https://vnexpress.net/podcast/ly-hon\",\n",
    "     \"https://vnexpress.net/podcast/tham-thi\",\n",
    "     \"https://vnexpress.net/podcast/ban-on-khong\",\n",
    "     \"https://vnexpress.net/podcast/toi-trong-guong\",\n",
    "     \"https://vnexpress.net/podcast/chuyen-di-lam\",\n",
    "     \"https://vnexpress.net/podcast/up-mo-18\"],\n",
    "    \"Kinh doanh\":\n",
    "    [\"https://vnexpress.net/kinh-doanh\",\n",
    "     \"https://vnexpress.net/kinh-doanh/quoc-te\",\n",
    "     \"https://vnexpress.net/kinh-doanh/doanh-nghiep\",\n",
    "     \"https://vnexpress.net/kinh-doanh/chung-khoan\",\n",
    "     \"https://vnexpress.net/kinh-doanh/bat-dong-san\",\n",
    "     \"https://vnexpress.net/kinh-doanh/ebank\",\n",
    "     \"https://vnexpress.net/kinh-doanh/vi-mo\",\n",
    "     \"https://vnexpress.net/kinh-doanh/tien-cua-toi\",\n",
    "     \"https://vnexpress.net/kinh-doanh/bao-hiem\",\n",
    "     \"https://vnexpress.net/kinh-doanh/hang-hoa\",\n",
    "     \"https://vnexpress.net/kinh-doanh/e-commerce-40\", ],\n",
    "    \"Khoa học\":\n",
    "    [\"https://vnexpress.net/khoa-hoc\",\n",
    "     \"https://vnexpress.net/khoa-hoc/khoa-hoc-trong-nuoc\",\n",
    "     \"https://vnexpress.net/khoa-hoc/tin-tuc\",\n",
    "     \"https://vnexpress.net/khoa-hoc/phat-minh\",\n",
    "     \"https://vnexpress.net/khoa-hoc/ung-dung\",\n",
    "     \"https://vnexpress.net/khoa-hoc/the-gioi-tu-nhien\",\n",
    "     \"https://vnexpress.net/khoa-hoc/thuong-thuc\",\n",
    "     \"https://vnexpress.net/khoa-hoc/cuoc-thi-sang-kien-khoa-hoc\", ],\n",
    "    \"Giải trí\":\n",
    "    [\"https://vnexpress.net/giai-tri\",\n",
    "     \"https://vnexpress.net/giai-tri/gioi-sao\",\n",
    "     \"https://vnexpress.net/giai-tri/phim\",\n",
    "     \"https://vnexpress.net/giai-tri/nhac\",\n",
    "     \"https://vnexpress.net/giai-tri/thoi-trang\",\n",
    "     \"https://vnexpress.net/giai-tri/lam-dep\",\n",
    "     \"https://vnexpress.net/giai-tri/sach\",\n",
    "     \"https://vnexpress.net/giai-tri/san-khau-my-thuat\", ],\n",
    "    \"Thể thao\":\n",
    "    [\"https://vnexpress.net/the-thao\",\n",
    "     \"https://vnexpress.net/bong-da\",\n",
    "     \"https://vnexpress.net/the-thao/du-lieu-bong-da\",\n",
    "     \"https://vnexpress.net/the-thao/tennis\",\n",
    "     \"https://vnexpress.net/the-thao/bundesliga\",\n",
    "     \"https://vnexpress.net/the-thao/cac-mon-khac\",\n",
    "     \"https://vnexpress.net/the-thao/world-cup-2022\",\n",
    "     \"https://vnexpress.net/the-thao/v-league\",\n",
    "     \"https://vnexpress.net/the-thao/hau-truong\",\n",
    "     \"https://vnexpress.net/the-thao/photo\",\n",
    "     \"https://vnexpress.net/the-thao/tuong-thuat\", ],\n",
    "    \"Pháp luật\":\n",
    "    [\"https://vnexpress.net/phap-luat\",\n",
    "     \"https://vnexpress.net/phap-luat/ho-so-pha-an\",\n",
    "     \"https://vnexpress.net/phap-luat/tu-van \", ],\n",
    "    \"Giáo dục\":\n",
    "    [\"https://vnexpress.net/giao-duc\",\n",
    "     \"https://vnexpress.net/giao-duc/tin-tuc\",\n",
    "     \"https://vnexpress.net/giao-duc/tuyen-sinh\",\n",
    "     \"https://vnexpress.net/giao-duc/chan-dung\",\n",
    "     \"https://vnexpress.net/giao-duc/du-hoc\",\n",
    "     \"https://vnexpress.net/giao-duc/hoc-tieng-anh\",\n",
    "     \"https://vnexpress.net/giao-duc/trac-nghiem\",\n",
    "     \"https://vnexpress.net/giao-duc/giao-duc-40\", ],\n",
    "    \"Sức khỏe\":\n",
    "    [\"https://vnexpress.net/suc-khoe\",\n",
    "     \"https://vnexpress.net/suc-khoe/tin-tuc\",\n",
    "     \"https://vnexpress.net/suc-khoe/tu-van\",\n",
    "     \"https://vnexpress.net/suc-khoe/dinh-duong\",\n",
    "     \"https://vnexpress.net/suc-khoe/khoe-dep\",\n",
    "     \"https://vnexpress.net/suc-khoe/dan-ong\",\n",
    "     \"https://vnexpress.net/suc-khoe/cac-benh\",\n",
    "     \"https://vnexpress.net/suc-khoe/vaccine\",\n",
    "     \"https://vnexpress.net/suc-khoe/di-chung-covid\", ],\n",
    "    \"Du lịch\":\n",
    "    [\"https://vnexpress.net/du-lich\",\n",
    "     \"https://vnexpress.net/du-lich/diem-den\",\n",
    "     \"https://vnexpress.net/du-lich/am-thuc\",\n",
    "     \"https://vnexpress.net/du-lich/dau-chan\",\n",
    "     \"https://vnexpress.net/du-lich/tu-van\",\n",
    "     \"https://vnexpress.net/du-lich/anh-video\",\n",
    "     \"https://vnexpress.net/du-lich/an-va-choi\", ],\n",
    "    \"Số hóa\":\n",
    "    [\"https://vnexpress.net/so-hoa\",\n",
    "     \"https://vnexpress.net/so-hoa/cong-nghe\",\n",
    "     \"https://vnexpress.net/so-hoa/san-pham\",\n",
    "     \"https://vnexpress.net/so-hoa/blockchain\", ],\n",
    "    \"Ô tô\":\n",
    "    [\"https://vnexpress.net/oto-xe-may\",\n",
    "     \"https://vnexpress.net/oto-xe-may/thi-truong\",\n",
    "     \"https://vnexpress.net/oto-xe-may/cam-lai\",\n",
    "     \"https://vnexpress.net/oto-xe-may/dien-dan\",\n",
    "     \"https://vnexpress.net/oto-xe-may/car-awards-2021\", ]\n",
    "}\n"
   ]
  },
  {
   "cell_type": "markdown",
   "metadata": {},
   "source": [
    "### Lấy link bài viết từ các link chuyên mục trên"
   ]
  },
  {
   "cell_type": "code",
   "execution_count": 3,
   "metadata": {},
   "outputs": [
    {
     "name": "stdout",
     "output_type": "stream",
     "text": [
      "Đời sống 136\n",
      "Thời sự 136\n",
      "Thế giới 150\n",
      "Podcast 134\n",
      "Kinh doanh 329\n",
      "Khoa học 213\n",
      "Giải trí 261\n",
      "Thể thao 334\n",
      "Pháp luật 74\n",
      "Giáo dục 250\n",
      "Sức khỏe 336\n",
      "Du lịch 212\n",
      "Số hóa 147\n",
      "Ô tô 138\n"
     ]
    }
   ],
   "source": [
    "vnexpressLinks = {}\n",
    "for key in vnexpress:\n",
    "    vnexpressLinks[key] = []\n",
    "for key, value in vnexpress.items():\n",
    "    for url in value:\n",
    "        try:\n",
    "            response = requests.get(url) # Link chuyên mục\n",
    "            tree = lxml.html.fromstring(response.content) # DOM tree\n",
    "            title_elem = tree.cssselect('.title-news a') # Lấy các thẻ a có class title-news\n",
    "            for elem in title_elem:\n",
    "                vnexpressLinks[key].append(elem.get('href')) # Lấy link bài viết từ thuộc tính href\n",
    "        except:\n",
    "            pass\n",
    "# Kết quả là: tất cả link bài viết từ các link chuyên mục ở trên\n",
    "for key in vnexpressLinks:\n",
    "    print(key, len(vnexpressLinks[key]))\n"
   ]
  },
  {
   "cell_type": "markdown",
   "metadata": {},
   "source": [
    "### Lấy phần nội dung trong các bài viết"
   ]
  },
  {
   "cell_type": "code",
   "execution_count": 4,
   "metadata": {},
   "outputs": [],
   "source": [
    "vnexpressContent = {}\n",
    "for key in vnexpress:\n",
    "    vnexpressContent[key] = []\n",
    "for key, value in vnexpressLinks.items():\n",
    "    for url in value:\n",
    "        if(url.startswith('https://vnexpress.net/')):\n",
    "            try:\n",
    "                # Lấy id\n",
    "                id = url.split('-')[-1].replace('.html', '')\n",
    "                downloaded = trafilatura.fetch_url(url) # Tải bài viết\n",
    "                # Lấy date\n",
    "                tree = lxml.html.fromstring(str(downloaded))\n",
    "                date_elem = len(tree.cssselect(\".date\")) and tree.cssselect(\".date\")[0].text or \"\"\n",
    "                # Lấy content\n",
    "                content = trafilatura.extract(downloaded)\n",
    "                content = content.replace('\\n', ' ')\n",
    "                # Định nghĩa các thuộc tính của bài viết\n",
    "                item = {\"domain\": \"https://vnexpress.net\", \"URL\": url,\"content\": content, \"date\": date_elem,\"id\": id}\n",
    "                vnexpressContent[key].append(item)\n",
    "            except:\n",
    "                pass\n",
    "# Kết quả: mảng gồm các bài viết có các field: domain, URL, content, date, id\n",
    "for key in vnexpressContent:\n",
    "    print(key, len(vnexpressContent[key]))"
   ]
  },
  {
   "cell_type": "code",
   "execution_count": 23,
   "metadata": {},
   "outputs": [
    {
     "data": {
      "text/plain": [
       "{'name': 'HoangPhiLong-20182651',\n",
       " 'cluster_name': 'elasticsearch',\n",
       " 'cluster_uuid': 'jF2zfdDdQqueQik2u6h9Ug',\n",
       " 'version': {'number': '7.17.2',\n",
       "  'build_flavor': 'default',\n",
       "  'build_type': 'deb',\n",
       "  'build_hash': 'de7261de50d90919ae53b0eff9413fd7e5307301',\n",
       "  'build_date': '2022-03-28T15:12:21.446567561Z',\n",
       "  'build_snapshot': False,\n",
       "  'lucene_version': '8.11.1',\n",
       "  'minimum_wire_compatibility_version': '6.8.0',\n",
       "  'minimum_index_compatibility_version': '6.0.0-beta1'},\n",
       " 'tagline': 'You Know, for Search'}"
      ]
     },
     "execution_count": 23,
     "metadata": {},
     "output_type": "execute_result"
    }
   ],
   "source": [
    "# Connect đến elasticsearch local \n",
    "client = Elasticsearch(\"http://localhost:9200\")\n",
    "\n",
    "client.info()\n"
   ]
  },
  {
   "cell_type": "code",
   "execution_count": 27,
   "metadata": {},
   "outputs": [
    {
     "name": "stderr",
     "output_type": "stream",
     "text": [
      "/home/hplong/.local/lib/python3.8/site-packages/elasticsearch/connection/base.py:209: ElasticsearchWarning: Elasticsearch built-in security features are not enabled. Without authentication, your cluster could be accessible to anyone. See https://www.elastic.co/guide/en/elasticsearch/reference/7.17/security-minimal-setup.html to enable security.\n",
      "  warnings.warn(message, category=ElasticsearchWarning)\n"
     ]
    }
   ],
   "source": [
    "def gendata():\n",
    "    for key,value in vnexpressContent.items():\n",
    "         for item in value:\n",
    "            # mảng gồm các bài viết có các field: domain, URL, content, date, id\n",
    "            temp_item = {k: item[k] for k in set(list(item.keys())) - set(['id'])} # Tách field id ra khỏi mảng\n",
    "            temp_item['category'] = key # Thêm field category\n",
    "            client.index(index=\"journal\", id=item['id'], document=temp_item) # Insert data to elasticsearch\n",
    "\n",
    "gendata()"
   ]
  }
 ],
 "metadata": {
  "interpreter": {
   "hash": "ad2bdc8ecc057115af97d19610ffacc2b4e99fae6737bb82f5d7fb13d2f2c186"
  },
  "kernelspec": {
   "display_name": "Python 3.9.7 ('base')",
   "language": "python",
   "name": "python3"
  },
  "language_info": {
   "codemirror_mode": {
    "name": "ipython",
    "version": 3
   },
   "file_extension": ".py",
   "mimetype": "text/x-python",
   "name": "python",
   "nbconvert_exporter": "python",
   "pygments_lexer": "ipython3",
   "version": "3.9.7"
  },
  "orig_nbformat": 4
 },
 "nbformat": 4,
 "nbformat_minor": 2
}
