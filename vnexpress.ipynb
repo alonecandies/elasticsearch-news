{
 "cells": [
  {
   "cell_type": "code",
   "execution_count": 2,
   "metadata": {},
   "outputs": [],
   "source": [
    "import trafilatura\n",
    "import requests\n",
    "import lxml\n",
    "from elasticsearch import Elasticsearch, helpers\n"
   ]
  },
  {
   "cell_type": "code",
   "execution_count": 3,
   "metadata": {},
   "outputs": [],
   "source": [
    "vnexpress = {\n",
    "    \"life\": [\"https://vnexpress.net/doi-song/cooking\",\n",
    "           \"https://vnexpress.net/doi-song/to-am\",\n",
    "           \"https://vnexpress.net/doi-song/bai-hoc-song\",\n",
    "           \"https://vnexpress.net/doi-song/nha\",\n",
    "           \"https://vnexpress.net/doi-song/tieu-dung\"],\n",
    "    \"news\": [\"https://vnexpress.net/thoi-su/chinh-tri\",\n",
    "           \"https://vnexpress.net/thoi-su/dan-sinh\",\n",
    "           \"https://vnexpress.net/thoi-su/giao-thong\",\n",
    "           \"https://vnexpress.net/thoi-su/mekong\",\n",
    "           \"https://vnexpress.net/thoi-su/quy-hy-vong\"],\n",
    "    \"world\": [\"https://vnexpress.net/the-gioi/quan-su\",\n",
    "            \"https://vnexpress.net/the-gioi/tu-lieu\",\n",
    "            \"https://vnexpress.net/the-gioi/phan-tich\",\n",
    "            \"https://vnexpress.net/the-gioi/nguoi-viet-5-chau\",\n",
    "            \"https://vnexpress.net/the-gioi/cuoc-song-do-day\"]\n",
    "}\n"
   ]
  },
  {
   "cell_type": "code",
   "execution_count": null,
   "metadata": {},
   "outputs": [],
   "source": [
    "vnexpressLinks = {\n",
    "    \"life\": [],\n",
    "    \"news\": [],\n",
    "    \"world\": []\n",
    "}\n",
    "for key, value in vnexpress.items():\n",
    "    for url in value:\n",
    "        response = requests.get(url)\n",
    "        tree = lxml.html.fromstring(response.content)\n",
    "        title_elem = tree.cssselect('.title-news a')\n",
    "        for elem in title_elem:\n",
    "            vnexpressLinks[key].append(elem.get('href'))\n",
    "\n",
    "print(vnexpressLinks)"
   ]
  },
  {
   "cell_type": "code",
   "execution_count": 11,
   "metadata": {},
   "outputs": [
    {
     "name": "stderr",
     "output_type": "stream",
     "text": [
      "ERROR:trafilatura.core:not enough text None\n",
      "ERROR:trafilatura.core:not enough text None\n",
      "ERROR:trafilatura.core:not enough text None\n",
      "ERROR:trafilatura.core:not enough text None\n",
      "ERROR:trafilatura.core:not enough text None\n",
      "ERROR:trafilatura.core:not enough text None\n",
      "ERROR:trafilatura.core:not enough text None\n",
      "ERROR:trafilatura.core:not enough text None\n",
      "ERROR:trafilatura.core:not enough text None\n"
     ]
    },
    {
     "name": "stdout",
     "output_type": "stream",
     "text": [
      "410\n"
     ]
    }
   ],
   "source": [
    "vnexpressContent = {\n",
    "    \"life\": [],\n",
    "    \"news\": [],\n",
    "    \"world\": []\n",
    "}\n",
    "for key, value in vnexpressLinks.items():\n",
    "    for url in value:\n",
    "        if(url.startswith('https://vnexpress.net/')):\n",
    "            id = url.split('-')[-1].replace('.html', '')\n",
    "            downloaded = trafilatura.fetch_url(url)\n",
    "            tree = lxml.html.fromstring(str(downloaded))\n",
    "            date_elem = len(tree.cssselect(\".date\")) and tree.cssselect(\".date\")[0].text or \"\"\n",
    "            content = trafilatura.extract(downloaded)\n",
    "            content = content.replace('\\n', ' ')\n",
    "            item = {\"domain\": \"https://vnexpress.net\", \"URL\": url,\"content\": content, \"date\": date_elem,\"id\": id}\n",
    "            vnexpressContent[key].append(item)\n",
    "\n",
    "print(len(vnexpressContent['life'])+len(vnexpressContent['news'])+len(vnexpressContent['world']))"
   ]
  },
  {
   "cell_type": "code",
   "execution_count": null,
   "metadata": {},
   "outputs": [],
   "source": [
    "client = Elasticsearch(\"http://localhost:9200\")\n",
    "\n",
    "client.info()\n"
   ]
  },
  {
   "cell_type": "code",
   "execution_count": null,
   "metadata": {},
   "outputs": [],
   "source": [
    "def gendata():\n",
    "    for key,value in vnexpressContent.items():\n",
    "         for item in value:\n",
    "            yield {\n",
    "               \"_index\": \"journal\",\n",
    "               \"_type\": key,\n",
    "               \"_id\": item['id'],\n",
    "               \"doc\": item\n",
    "            }  \n",
    "\n",
    "\n",
    "helpers.bulk(es, gendata())\n"
   ]
  }
 ],
 "metadata": {
  "interpreter": {
   "hash": "b3ba2566441a7c06988d0923437866b63cedc61552a5af99d1f4fb67d367b25f"
  },
  "kernelspec": {
   "display_name": "Python 3.9.7 ('base')",
   "language": "python",
   "name": "python3"
  },
  "language_info": {
   "codemirror_mode": {
    "name": "ipython",
    "version": 3
   },
   "file_extension": ".py",
   "mimetype": "text/x-python",
   "name": "python",
   "nbconvert_exporter": "python",
   "pygments_lexer": "ipython3",
   "version": "3.9.7"
  },
  "orig_nbformat": 4
 },
 "nbformat": 4,
 "nbformat_minor": 2
}
