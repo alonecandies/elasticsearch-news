{
 "cells": [
  {
   "cell_type": "code",
   "execution_count": null,
   "metadata": {},
   "outputs": [],
   "source": [
    "from elasticsearch import Elasticsearch"
   ]
  },
  {
   "cell_type": "code",
   "execution_count": null,
   "metadata": {},
   "outputs": [],
   "source": [
    "client = Elasticsearch(\"http://localhost:9200\")\n",
    "\n",
    "client.info()"
   ]
  },
  {
   "cell_type": "code",
   "execution_count": null,
   "metadata": {},
   "outputs": [],
   "source": [
    "req_body = {'mappings': {\n",
    "    'life': {\n",
    "        'properties': {\n",
    "            'domain': {'type': 'string'},\n",
    "            'URL': {'type': 'string'},\n",
    "            'content': {'type': 'string'},\n",
    "            'date': {'type': 'string'},\n",
    "        }},\n",
    "    'news': {\n",
    "        'properties': {\n",
    "            'domain': {'type': 'string'},\n",
    "            'URL': {'type': 'string'},\n",
    "            'content': {'type': 'string'},\n",
    "            'date': {'type': 'string'},\n",
    "        }   \n",
    "    },\n",
    "    \"world\": {\n",
    "        \"properties\": {\n",
    "            \"domain\": { \"type\": \"string\" },\n",
    "            \"URL\": { \"type\": \"string\" },\n",
    "            \"content\": { \"type\": \"string\" },\n",
    "            \"date\": { \"type\": \"string\" }\n",
    "        }\n",
    "    }\n",
    "}}\n",
    "client.indices.create(index=\"journal\", body=req_body)\n"
   ]
  }
 ],
 "metadata": {
  "language_info": {
   "name": "python"
  },
  "orig_nbformat": 4
 },
 "nbformat": 4,
 "nbformat_minor": 2
}
