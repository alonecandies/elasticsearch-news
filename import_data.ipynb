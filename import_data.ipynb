{
 "cells": [
  {
   "cell_type": "code",
   "execution_count": 19,
   "metadata": {},
   "outputs": [],
   "source": [
    "from elasticsearch import Elasticsearch\n",
    "import os\n",
    "import glob\n"
   ]
  },
  {
   "cell_type": "code",
   "execution_count": null,
   "metadata": {},
   "outputs": [],
   "source": [
    "os.chdir(r'E:\\technologies\\elasticsearch-news-crawl\\newspapers')\n",
    "my_files = glob.glob('*.txt')\n",
    "\n",
    "read_content = []\n",
    "\n",
    "for file in my_files:\n",
    "    if file.endswith(\".txt\"):\n",
    "        with open(file, encoding=\"utf8\") as f:\n",
    "            lines = f.readlines();\n",
    "            domain = \"https://\"+lines[0].split('/')[2]\n",
    "            id = lines[0].split('-')[-1].replace('.html', '').replace('\\n', '')\n",
    "            read_content.append({\n",
    "               'id': id,\n",
    "               'URL': lines[0],\n",
    "               'domain': domain,\n",
    "               'content': lines[2]\n",
    "            })"
   ]
  },
  {
   "cell_type": "code",
   "execution_count": null,
   "metadata": {},
   "outputs": [],
   "source": [
    "client = Elasticsearch(\"http://localhost:9200\")\n",
    "\n",
    "client.info()\n"
   ]
  },
  {
   "cell_type": "code",
   "execution_count": null,
   "metadata": {},
   "outputs": [],
   "source": [
    "def gendata():\n",
    "    for item in read_content:\n",
    "        # Tách field id ra khỏi mảng\n",
    "        temp_item = {k: item[k] for k in set(list(item.keys())) - set(['id'])}\n",
    "        client.index(index=\"journal\", id=item['id'], document=temp_item)\n",
    "\n",
    "gendata()\n"
   ]
  }
 ],
 "metadata": {
  "interpreter": {
   "hash": "ad2bdc8ecc057115af97d19610ffacc2b4e99fae6737bb82f5d7fb13d2f2c186"
  },
  "kernelspec": {
   "display_name": "Python 3.9.7 ('base')",
   "language": "python",
   "name": "python3"
  },
  "language_info": {
   "codemirror_mode": {
    "name": "ipython",
    "version": 3
   },
   "file_extension": ".py",
   "mimetype": "text/x-python",
   "name": "python",
   "nbconvert_exporter": "python",
   "pygments_lexer": "ipython3",
   "version": "3.9.7"
  },
  "orig_nbformat": 4
 },
 "nbformat": 4,
 "nbformat_minor": 2
}
