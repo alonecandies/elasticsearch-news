{
 "cells": [
  {
   "cell_type": "code",
   "execution_count": 1,
   "metadata": {},
   "outputs": [
    {
     "name": "stderr",
     "output_type": "stream",
     "text": [
      "/usr/lib/python3/dist-packages/requests/__init__.py:89: RequestsDependencyWarning: urllib3 (1.26.9) or chardet (3.0.4) doesn't match a supported version!\n",
      "  warnings.warn(\"urllib3 ({}) or chardet ({}) doesn't match a supported \"\n"
     ]
    }
   ],
   "source": [
    "import trafilatura\n",
    "import requests\n",
    "import lxml\n",
    "from elasticsearch import Elasticsearch, helpers\n"
   ]
  },
  {
   "cell_type": "code",
   "execution_count": 2,
   "metadata": {},
   "outputs": [],
   "source": [
    "vietnamnet = {\n",
    "    \"life\": [\"https://vietnamnet.vn/vn/doi-song/gia-dinh/\",\n",
    "             \"https://vietnamnet.vn/vn/doi-song/chuyen-la/\",\n",
    "             \"https://vietnamnet.vn/vn/doi-song/gioi-tre/\",\n",
    "             \"https://vietnamnet.vn/vn/doi-song/tam-su/\",\n",
    "             \"https://vietnamnet.vn/vn/doi-song/am-thuc/\",\n",
    "             \"https://vietnamnet.vn/vn/doi-song/meo-vat/\"],\n",
    "    \"news\": [\"https://vietnamnet.vn/vn/thoi-su/chong-tham-nhung/\",\n",
    "             \"https://vietnamnet.vn/vn/thoi-su/quoc-hoi-khoa-xv/\",\n",
    "             \"https://vietnamnet.vn/vn/thoi-su/an-toan-giao-thong/\"\n",
    "             \"https://vietnamnet.vn/vn/thoi-su/moi-truong/\",\n",
    "             \"https://vietnamnet.vn/vn/thoi-su/clip-nong/\",\n",
    "             \"https://vietnamnet.vn/vn/thoi-su/bhxh-bhyt/\",\n",
    "             \"https://vietnamnet.vn/vn/thoi-su/quoc-phong/\"],\n",
    "    \"world\": [\"https://vietnamnet.vn/vn/the-gioi/binh-luan-quoc-te/\",\n",
    "              \"https://vietnamnet.vn/vn/the-gioi/chan-dung/\",\n",
    "              \"https://vietnamnet.vn/vn/the-gioi/ho-so/\",\n",
    "              \"https://vietnamnet.vn/vn/the-gioi/the-gioi-do-day/\",\n",
    "              \"https://vietnamnet.vn/vn/the-gioi/viet-nam-va-the-gioi/\",\n",
    "              \"https://vietnamnet.vn/vn/the-gioi/quan-su/\"]\n",
    "}\n"
   ]
  },
  {
   "cell_type": "code",
   "execution_count": 4,
   "metadata": {},
   "outputs": [
    {
     "name": "stdout",
     "output_type": "stream",
     "text": [
      "496\n"
     ]
    }
   ],
   "source": [
    "vietnamnetLinks = {\n",
    "    \"life\": [],\n",
    "    \"news\": [],\n",
    "    \"world\": []\n",
    "}\n",
    "headers = {\n",
    "    'User-Agent': 'Mozilla/5.0 (Macintosh; Intel Mac OS X 10_11_5) AppleWebKit/537.36 (KHTML, like Gecko) Chrome/50.0.2661.102 Safari/537.36'}\n",
    "for key, value in vietnamnet.items():\n",
    "    for url in value:\n",
    "        response = requests.get(url, headers=headers)\n",
    "        tree = lxml.html.fromstring(response.content)\n",
    "        title_elem = tree.cssselect('.vnn-title a')\n",
    "        for elem in title_elem:\n",
    "            vietnamnetLinks[key].append(\"https://vietnamnet.vn\"+elem.get('href'))\n",
    "\n",
    "print(len(vietnamnetLinks['life'])+len(vietnamnetLinks['news'])+len(vietnamnetLinks['world']))"
   ]
  },
  {
   "cell_type": "code",
   "execution_count": 5,
   "metadata": {},
   "outputs": [
    {
     "name": "stdout",
     "output_type": "stream",
     "text": [
      "496\n",
      "{'domain': 'https://vietnamnet.vn/', 'URL': 'https://vietnamnet.vn/8x-ha-tinh-hoc-lom-o-xuong-moc-gio-noi-tieng-voi-tac-pham-doc-dao-827945.html', 'content': 'Tuấn Anh cho biết, bản thân đến với nghệ thuật điêu khắc là xuất phát từ đam mê. “Em mồ côi bố khi vừa lên 7 tuổi. Một mình mẹ phải nuôi 6 anh chị em nên cuộc sống rất khó khăn. Học xong bậc phổ thông (năm 2006), em vào Nam học nghề mộc mỹ nghệ. Nhưng vì phải lo cuộc sống cho gia đình nên sau 2 tháng em đành phải nghỉ học để đi làm. Giấc mơ trở thành nghệ nhân đồ mộc chấm dứt từ đó\", Tuấn Anh kể. Để tiếp tục niềm đam mê nghệ thuật điêu khắc, thời gian rảnh rỗi Tuấn Anh thường đến các xưởng mộc để học lỏm từ các thợ. Khi đã tích lũy được một ít vốn trong quá trình đi làm thuê, năm 2014, 8X quyết định về quê mở xưởng vừa làm, vừa tự học. Nói là xưởng nhưng đồ nghề của Tuấn Anh lúc đó chỉ là những bộ cưa truyền thống và mấy cái đục thông dụng. Sản phẩm ban đầu anh làm ra là những vật dụng đơn giản, những bộ bàn ghế chạm khắc từ gốc cây, cái lọ hoa, lục bình… Sau những sản phẩm đơn giản đó, tay nghề của Tuấn Anh ngày càng được nâng lên. Từ những khúc gỗ có hình dáng xù xì, gốc cây có hình dạng như \"quái thú\" Tuấn Anh đã biến thành những tác phẩm có giá trị thẩm mỹ cao. Năm 2016, anh quyết định bỏ ra 200 triệu đồng mua sắm trang thiết bị và nhận làm những tác phẩm đòi hỏi độ tinh xảo và tính nghệ thuật cao. Bằng sự tỉ mỉ, sự kiên trì cùng với đôi bàn tay khéo léo, Tuấn Anh đã dần làm được điều như mong ước. Các tác phẩm phổ biến được Tuấn Anh chú trọng là tượng thờ, tượng phong thủy, bàn ghế chế tác từ gốc cây, các con giáp, tranh tứ linh, tranh bút lửa, tranh lụa tự nhiên, tủ gỗ.... Ngoài ra anh còn có thể làm nhà gỗ với những chi tiết hoa văn độc đáo. Tuấn Anh cho biết, có những tác phẩm phải mất cả mấy tháng trời mới hoàn thành. Hiện nay có rất nhiều người trong vùng biết đến và đặt hàng Tuấn Anh. Nghề điêu khắc trên gỗ giúp Tuấn Anh có thu nhập ổn định lo cho gia đình. Sỹ Thông Thầy giáo miền Tây có bộ sưu tập \\'khổng lồ\\' hơn 500 cây dừa đột biến Đam mê dừa bonsai đã nhiều năm, anh Ngọc bỏ không ít công sức đi tìm kiếm, chăm sóc, nuôi dưỡng để có được hàng trăm gốc dừa đột biến, độc lạ có một không hai.', 'date': '\\n                            06/04/2022 \\xa0 07:08 (GMT+07:00)\\n                        ', 'id': '827945'}\n"
     ]
    }
   ],
   "source": [
    "vietnamnetContent = {\n",
    "    \"life\": [],\n",
    "    \"news\": [],\n",
    "    \"world\": []\n",
    "}\n",
    "for key, value in vietnamnetLinks.items():\n",
    "    for url in value:\n",
    "        if(url.startswith('https://vietnamnet.vn/')):\n",
    "            id = url.split('-')[-1].replace('.html', '')\n",
    "            downloaded = trafilatura.fetch_url(url)\n",
    "            tree = lxml.html.fromstring(str(downloaded))\n",
    "            date_elem = len(tree.cssselect(\"div.breadcrumb-box__time p span\")) and tree.cssselect(\"div.breadcrumb-box__time p span\")[0].text or \"\"\n",
    "            content = trafilatura.extract(downloaded)\n",
    "            content = content.replace('\\n', ' ')\n",
    "            item = {\"domain\": \"https://vietnamnet.vn/\", \"URL\": url,\n",
    "                    \"content\": content, \"date\": date_elem, \"id\": id}\n",
    "            vietnamnetContent[key].append(item)\n",
    "\n",
    "print(len(vietnamnetContent['life'])+len(vietnamnetContent['news'])+len(vietnamnetContent['world']))\n",
    "print(vietnamnetContent['life'][0])"
   ]
  },
  {
   "cell_type": "code",
   "execution_count": 6,
   "metadata": {},
   "outputs": [
    {
     "name": "stderr",
     "output_type": "stream",
     "text": [
      "/home/hplong/.local/lib/python3.8/site-packages/elasticsearch/connection/base.py:209: ElasticsearchWarning: Elasticsearch built-in security features are not enabled. Without authentication, your cluster could be accessible to anyone. See https://www.elastic.co/guide/en/elasticsearch/reference/7.17/security-minimal-setup.html to enable security.\n",
      "  warnings.warn(message, category=ElasticsearchWarning)\n"
     ]
    },
    {
     "data": {
      "text/plain": [
       "{'name': 'HoangPhiLong-20182651',\n",
       " 'cluster_name': 'elasticsearch',\n",
       " 'cluster_uuid': 'jF2zfdDdQqueQik2u6h9Ug',\n",
       " 'version': {'number': '7.17.2',\n",
       "  'build_flavor': 'default',\n",
       "  'build_type': 'deb',\n",
       "  'build_hash': 'de7261de50d90919ae53b0eff9413fd7e5307301',\n",
       "  'build_date': '2022-03-28T15:12:21.446567561Z',\n",
       "  'build_snapshot': False,\n",
       "  'lucene_version': '8.11.1',\n",
       "  'minimum_wire_compatibility_version': '6.8.0',\n",
       "  'minimum_index_compatibility_version': '6.0.0-beta1'},\n",
       " 'tagline': 'You Know, for Search'}"
      ]
     },
     "execution_count": 6,
     "metadata": {},
     "output_type": "execute_result"
    }
   ],
   "source": [
    "client = Elasticsearch(\"http://localhost:9200\")\n",
    "\n",
    "client.info()\n"
   ]
  },
  {
   "cell_type": "code",
   "execution_count": null,
   "metadata": {},
   "outputs": [],
   "source": [
    "def gendata():\n",
    "    for key,value in vietnamnetContent.items():\n",
    "         for item in value:\n",
    "            temp_item = {k: item[k] for k in set(list(item.keys())) - set(['id'])}\n",
    "            temp_item['category'] = key\n",
    "            client.index(index=\"journal\", id=item['id'], document=temp_item)\n",
    "\n",
    "gendata()"
   ]
  }
 ],
 "metadata": {
  "interpreter": {
   "hash": "b3ba2566441a7c06988d0923437866b63cedc61552a5af99d1f4fb67d367b25f"
  },
  "kernelspec": {
   "display_name": "Python 3.9.7 ('base')",
   "language": "python",
   "name": "python3"
  },
  "language_info": {
   "codemirror_mode": {
    "name": "ipython",
    "version": 3
   },
   "file_extension": ".py",
   "mimetype": "text/x-python",
   "name": "python",
   "nbconvert_exporter": "python",
   "pygments_lexer": "ipython3",
   "version": "3.8.10"
  },
  "orig_nbformat": 4
 },
 "nbformat": 4,
 "nbformat_minor": 2
}
