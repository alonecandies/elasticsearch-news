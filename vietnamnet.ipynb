{
 "cells": [
  {
   "cell_type": "code",
   "execution_count": 1,
   "metadata": {},
   "outputs": [],
   "source": [
    "import trafilatura\n",
    "import requests\n",
    "import lxml\n",
    "from elasticsearch import Elasticsearch, helpers\n"
   ]
  },
  {
   "cell_type": "code",
   "execution_count": 2,
   "metadata": {},
   "outputs": [],
   "source": [
    "vietnamnet = {\n",
    "    \"life\": [\"https://vietnamnet.vn/vn/doi-song/gia-dinh/\",\n",
    "             \"https://vietnamnet.vn/vn/doi-song/chuyen-la/\",\n",
    "             \"https://vietnamnet.vn/vn/doi-song/gioi-tre/\",\n",
    "             \"https://vietnamnet.vn/vn/doi-song/tam-su/\",\n",
    "             \"https://vietnamnet.vn/vn/doi-song/am-thuc/\",\n",
    "             \"https://vietnamnet.vn/vn/doi-song/meo-vat/\"],\n",
    "    \"news\": [\"https://vietnamnet.vn/vn/thoi-su/chong-tham-nhung/\",\n",
    "             \"https://vietnamnet.vn/vn/thoi-su/quoc-hoi-khoa-xv/\",\n",
    "             \"https://vietnamnet.vn/vn/thoi-su/an-toan-giao-thong/\"\n",
    "             \"https://vietnamnet.vn/vn/thoi-su/moi-truong/\",\n",
    "             \"https://vietnamnet.vn/vn/thoi-su/clip-nong/\",\n",
    "             \"https://vietnamnet.vn/vn/thoi-su/bhxh-bhyt/\",\n",
    "             \"https://vietnamnet.vn/vn/thoi-su/quoc-phong/\"],\n",
    "    \"world\": [\"https://vietnamnet.vn/vn/the-gioi/binh-luan-quoc-te/\",\n",
    "              \"https://vietnamnet.vn/vn/the-gioi/chan-dung/\",\n",
    "              \"https://vietnamnet.vn/vn/the-gioi/ho-so/\",\n",
    "              \"https://vietnamnet.vn/vn/the-gioi/the-gioi-do-day/\",\n",
    "              \"https://vietnamnet.vn/vn/the-gioi/viet-nam-va-the-gioi/\",\n",
    "              \"https://vietnamnet.vn/vn/the-gioi/quan-su/\"]\n",
    "}\n"
   ]
  },
  {
   "cell_type": "code",
   "execution_count": 9,
   "metadata": {},
   "outputs": [
    {
     "name": "stdout",
     "output_type": "stream",
     "text": [
      "783\n"
     ]
    }
   ],
   "source": [
    "vietnamnetLinks = {\n",
    "    \"life\": [],\n",
    "    \"news\": [],\n",
    "    \"world\": []\n",
    "}\n",
    "headers = {\n",
    "    'User-Agent': 'Mozilla/5.0 (Macintosh; Intel Mac OS X 10_11_5) AppleWebKit/537.36 (KHTML, like Gecko) Chrome/50.0.2661.102 Safari/537.36'}\n",
    "for key, value in vietnamnet.items():\n",
    "    for url in value:\n",
    "        response = requests.get(url, headers=headers)\n",
    "        tree = lxml.html.fromstring(response.content)\n",
    "        title_elem = tree.cssselect('a.title')\n",
    "        for elem in title_elem:\n",
    "            vietnamnetLinks[key].append(\"https://vietnamnet.vn\"+elem.get('href'))\n",
    "\n",
    "print(len(vietnamnetLinks['life'])+len(vietnamnetLinks['news'])+len(vietnamnetLinks['world']))"
   ]
  },
  {
   "cell_type": "code",
   "execution_count": 8,
   "metadata": {},
   "outputs": [
    {
     "name": "stdout",
     "output_type": "stream",
     "text": [
      "728834\n",
      "816312\n",
      "814528\n",
      "828148\n",
      "807124\n",
      "810382\n",
      "814281\n",
      "827868\n",
      "827879\n",
      "827931\n",
      "827475\n"
     ]
    },
    {
     "ename": "KeyboardInterrupt",
     "evalue": "",
     "output_type": "error",
     "traceback": [
      "\u001b[1;31m---------------------------------------------------------------------------\u001b[0m",
      "\u001b[1;31mKeyboardInterrupt\u001b[0m                         Traceback (most recent call last)",
      "\u001b[1;32m~\\AppData\\Local\\Temp/ipykernel_6276/2044852248.py\u001b[0m in \u001b[0;36m<module>\u001b[1;34m\u001b[0m\n\u001b[0;32m      9\u001b[0m             \u001b[0mid\u001b[0m \u001b[1;33m=\u001b[0m \u001b[0murl\u001b[0m\u001b[1;33m.\u001b[0m\u001b[0msplit\u001b[0m\u001b[1;33m(\u001b[0m\u001b[1;34m'-'\u001b[0m\u001b[1;33m)\u001b[0m\u001b[1;33m[\u001b[0m\u001b[1;33m-\u001b[0m\u001b[1;36m1\u001b[0m\u001b[1;33m]\u001b[0m\u001b[1;33m.\u001b[0m\u001b[0mreplace\u001b[0m\u001b[1;33m(\u001b[0m\u001b[1;34m'.html'\u001b[0m\u001b[1;33m,\u001b[0m \u001b[1;34m''\u001b[0m\u001b[1;33m)\u001b[0m\u001b[1;33m\u001b[0m\u001b[1;33m\u001b[0m\u001b[0m\n\u001b[0;32m     10\u001b[0m             \u001b[0mprint\u001b[0m\u001b[1;33m(\u001b[0m\u001b[0mid\u001b[0m\u001b[1;33m)\u001b[0m\u001b[1;33m\u001b[0m\u001b[1;33m\u001b[0m\u001b[0m\n\u001b[1;32m---> 11\u001b[1;33m             \u001b[0mdownloaded\u001b[0m \u001b[1;33m=\u001b[0m \u001b[0mtrafilatura\u001b[0m\u001b[1;33m.\u001b[0m\u001b[0mfetch_url\u001b[0m\u001b[1;33m(\u001b[0m\u001b[0murl\u001b[0m\u001b[1;33m)\u001b[0m\u001b[1;33m\u001b[0m\u001b[1;33m\u001b[0m\u001b[0m\n\u001b[0m\u001b[0;32m     12\u001b[0m             \u001b[0mtree\u001b[0m \u001b[1;33m=\u001b[0m \u001b[0mlxml\u001b[0m\u001b[1;33m.\u001b[0m\u001b[0mhtml\u001b[0m\u001b[1;33m.\u001b[0m\u001b[0mfromstring\u001b[0m\u001b[1;33m(\u001b[0m\u001b[0mstr\u001b[0m\u001b[1;33m(\u001b[0m\u001b[0mdownloaded\u001b[0m\u001b[1;33m)\u001b[0m\u001b[1;33m)\u001b[0m\u001b[1;33m\u001b[0m\u001b[1;33m\u001b[0m\u001b[0m\n\u001b[0;32m     13\u001b[0m             \u001b[0mdate_elem\u001b[0m \u001b[1;33m=\u001b[0m \u001b[0mlen\u001b[0m\u001b[1;33m(\u001b[0m\u001b[0mtree\u001b[0m\u001b[1;33m.\u001b[0m\u001b[0mcssselect\u001b[0m\u001b[1;33m(\u001b[0m\u001b[1;34m\"div.breadcrumb-box__time p span\"\u001b[0m\u001b[1;33m)\u001b[0m\u001b[1;33m)\u001b[0m \u001b[1;32mand\u001b[0m \u001b[0mtree\u001b[0m\u001b[1;33m.\u001b[0m\u001b[0mcssselect\u001b[0m\u001b[1;33m(\u001b[0m\u001b[1;34m\"div.breadcrumb-box__time p span\"\u001b[0m\u001b[1;33m)\u001b[0m\u001b[1;33m[\u001b[0m\u001b[1;36m0\u001b[0m\u001b[1;33m]\u001b[0m\u001b[1;33m.\u001b[0m\u001b[0mtext\u001b[0m \u001b[1;32mor\u001b[0m \u001b[1;34m\"\"\u001b[0m\u001b[1;33m\u001b[0m\u001b[1;33m\u001b[0m\u001b[0m\n",
      "\u001b[1;32mC:\\ProgramData\\Anaconda3\\lib\\site-packages\\trafilatura\\downloads.py\u001b[0m in \u001b[0;36mfetch_url\u001b[1;34m(url, decode, no_ssl, config)\u001b[0m\n\u001b[0;32m    156\u001b[0m         \u001b[0mresponse\u001b[0m \u001b[1;33m=\u001b[0m \u001b[0m_send_request\u001b[0m\u001b[1;33m(\u001b[0m\u001b[0murl\u001b[0m\u001b[1;33m,\u001b[0m \u001b[0mno_ssl\u001b[0m\u001b[1;33m,\u001b[0m \u001b[0mconfig\u001b[0m\u001b[1;33m)\u001b[0m\u001b[1;33m\u001b[0m\u001b[1;33m\u001b[0m\u001b[0m\n\u001b[0;32m    157\u001b[0m     \u001b[1;32melse\u001b[0m\u001b[1;33m:\u001b[0m\u001b[1;33m\u001b[0m\u001b[1;33m\u001b[0m\u001b[0m\n\u001b[1;32m--> 158\u001b[1;33m         \u001b[0mresponse\u001b[0m \u001b[1;33m=\u001b[0m \u001b[0m_send_pycurl_request\u001b[0m\u001b[1;33m(\u001b[0m\u001b[0murl\u001b[0m\u001b[1;33m,\u001b[0m \u001b[0mno_ssl\u001b[0m\u001b[1;33m,\u001b[0m \u001b[0mconfig\u001b[0m\u001b[1;33m)\u001b[0m\u001b[1;33m\u001b[0m\u001b[1;33m\u001b[0m\u001b[0m\n\u001b[0m\u001b[0;32m    159\u001b[0m     \u001b[1;32mif\u001b[0m \u001b[0mresponse\u001b[0m \u001b[1;32mis\u001b[0m \u001b[1;32mnot\u001b[0m \u001b[1;32mNone\u001b[0m\u001b[1;33m:\u001b[0m\u001b[1;33m\u001b[0m\u001b[1;33m\u001b[0m\u001b[0m\n\u001b[0;32m    160\u001b[0m         \u001b[1;32mif\u001b[0m \u001b[0mresponse\u001b[0m \u001b[1;33m!=\u001b[0m \u001b[1;34m''\u001b[0m\u001b[1;33m:\u001b[0m\u001b[1;33m\u001b[0m\u001b[1;33m\u001b[0m\u001b[0m\n",
      "\u001b[1;32mC:\\ProgramData\\Anaconda3\\lib\\site-packages\\trafilatura\\downloads.py\u001b[0m in \u001b[0;36m_send_pycurl_request\u001b[1;34m(url, no_ssl, config)\u001b[0m\n\u001b[0;32m    301\u001b[0m     \u001b[1;31m# send request\u001b[0m\u001b[1;33m\u001b[0m\u001b[1;33m\u001b[0m\u001b[0m\n\u001b[0;32m    302\u001b[0m     \u001b[1;32mtry\u001b[0m\u001b[1;33m:\u001b[0m\u001b[1;33m\u001b[0m\u001b[1;33m\u001b[0m\u001b[0m\n\u001b[1;32m--> 303\u001b[1;33m         \u001b[0mbufferbytes\u001b[0m \u001b[1;33m=\u001b[0m \u001b[0mcurl\u001b[0m\u001b[1;33m.\u001b[0m\u001b[0mperform_rb\u001b[0m\u001b[1;33m(\u001b[0m\u001b[1;33m)\u001b[0m\u001b[1;33m\u001b[0m\u001b[1;33m\u001b[0m\u001b[0m\n\u001b[0m\u001b[0;32m    304\u001b[0m     \u001b[1;32mexcept\u001b[0m \u001b[0mpycurl\u001b[0m\u001b[1;33m.\u001b[0m\u001b[0merror\u001b[0m \u001b[1;32mas\u001b[0m \u001b[0merr\u001b[0m\u001b[1;33m:\u001b[0m\u001b[1;33m\u001b[0m\u001b[1;33m\u001b[0m\u001b[0m\n\u001b[0;32m    305\u001b[0m         \u001b[0mlogging\u001b[0m\u001b[1;33m.\u001b[0m\u001b[0merror\u001b[0m\u001b[1;33m(\u001b[0m\u001b[1;34m'pycurl: %s %s'\u001b[0m\u001b[1;33m,\u001b[0m \u001b[0murl\u001b[0m\u001b[1;33m,\u001b[0m \u001b[0merr\u001b[0m\u001b[1;33m)\u001b[0m\u001b[1;33m\u001b[0m\u001b[1;33m\u001b[0m\u001b[0m\n",
      "\u001b[1;31mKeyboardInterrupt\u001b[0m: "
     ]
    }
   ],
   "source": [
    "vietnamnetContent = {\n",
    "    \"life\": [],\n",
    "    \"news\": [],\n",
    "    \"world\": []\n",
    "}\n",
    "for key, value in vietnamnetLinks.items():\n",
    "    for url in value:\n",
    "        if(url.startswith('https://vietnamnet.vn/')):\n",
    "            id = url.split('-')[-1].replace('.html', '')\n",
    "            downloaded = trafilatura.fetch_url(url)\n",
    "            tree = lxml.html.fromstring(str(downloaded))\n",
    "            date_elem = len(tree.cssselect(\"div.breadcrumb-box__time p span\")) and tree.cssselect(\"div.breadcrumb-box__time p span\")[0].text or \"\"\n",
    "            content = trafilatura.extract(downloaded)\n",
    "            content = content.replace('\\n', ' ')\n",
    "            item = {\"domain\": \"https://vietnamnet.vn/\", \"URL\": url,\n",
    "                    \"content\": content, \"date\": date_elem, \"id\": id}\n",
    "            vietnamnetContent[key].append(item)\n",
    "\n",
    "print(len(vietnamnetContent['life'])+len(vietnamnetContent['news'])+len(vietnamnetContent['world']))\n",
    "print(vietnamnetContent['life'][0])"
   ]
  },
  {
   "cell_type": "code",
   "execution_count": null,
   "metadata": {},
   "outputs": [],
   "source": [
    "client = Elasticsearch(\"http://localhost:9200\")\n",
    "\n",
    "client.info()\n"
   ]
  },
  {
   "cell_type": "code",
   "execution_count": null,
   "metadata": {},
   "outputs": [],
   "source": [
    "def gendata():\n",
    "    for key, value in vietnamnetContent.items():\n",
    "        for item in value:\n",
    "            yield {\n",
    "                \"_index\": \"journal\",\n",
    "                \"_type\": key,\n",
    "                \"_id\": item['id'],\n",
    "                \"doc\": item\n",
    "            }\n",
    "\n",
    "\n",
    "helpers.bulk(es, gendata())\n"
   ]
  }
 ],
 "metadata": {
  "interpreter": {
   "hash": "b3ba2566441a7c06988d0923437866b63cedc61552a5af99d1f4fb67d367b25f"
  },
  "kernelspec": {
   "display_name": "Python 3.9.7 ('base')",
   "language": "python",
   "name": "python3"
  },
  "language_info": {
   "codemirror_mode": {
    "name": "ipython",
    "version": 3
   },
   "file_extension": ".py",
   "mimetype": "text/x-python",
   "name": "python",
   "nbconvert_exporter": "python",
   "pygments_lexer": "ipython3",
   "version": "3.9.7"
  },
  "orig_nbformat": 4
 },
 "nbformat": 4,
 "nbformat_minor": 2
}
