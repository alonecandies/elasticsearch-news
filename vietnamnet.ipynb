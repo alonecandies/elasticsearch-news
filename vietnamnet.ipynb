{
 "cells": [
  {
   "cell_type": "code",
   "execution_count": 1,
   "metadata": {},
   "outputs": [],
   "source": [
    "import trafilatura\n",
    "import requests\n",
    "import lxml\n",
    "from elasticsearch import Elasticsearch\n"
   ]
  },
  {
   "cell_type": "code",
   "execution_count": 2,
   "metadata": {},
   "outputs": [],
   "source": [
    "vietnamnet = {\n",
    "    \"Đời sống\":\n",
    "    [\"https://vietnamnet.vn/doi-song/gia-dinh\",\n",
    "     \"https://vietnamnet.vn/doi-song/chuyen-la\",\n",
    "     \"https://vietnamnet.vn/doi-song/gioi-tre\",\n",
    "     \"https://vietnamnet.vn/doi-song/tam-su\",\n",
    "     \"https://vietnamnet.vn/doi-song/am-thuc\",\n",
    "     \"https://vietnamnet.vn/doi-song/meo-vat\", ],\n",
    "    \"Thời sự\":\n",
    "    [\"https://vietnamnet.vn/thoi-su/chong-tham-nhung\",\n",
    "     \"https://vietnamnet.vn/thoi-su/quoc-hoi-khoa-xv\",\n",
    "     \"https://vietnamnet.vn/thoi-su/an-toan-giao-thong\",\n",
    "     \"https://vietnamnet.vn/thoi-su/moi-truong\",\n",
    "     \"https://vietnamnet.vn/thoi-su/clip-nong\",\n",
    "     \"https://vietnamnet.vn/thoi-su/bhxh-bhyt\",\n",
    "     \"https://vietnamnet.vn/thoi-su/quoc-phong\", ],\n",
    "    \"Quốc tế\":\n",
    "    [\"https://vietnamnet.vn/the-gioi/binh-luan-quoc-te\",\n",
    "     \"https://vietnamnet.vn/the-gioi/chan-dung\",\n",
    "     \"https://vietnamnet.vn/the-gioi/ho-so\",\n",
    "     \"https://vietnamnet.vn/the-gioi/the-gioi-do-day\",\n",
    "     \"https://vietnamnet.vn/the-gioi/viet-nam-va-the-gioi\",\n",
    "     \"https://vietnamnet.vn/the-gioi/quan-su\", ],\n",
    "    \"Kinh doanh\":\n",
    "    [\"https://vietnamnet.vn/kinh-doanh\",\n",
    "     \"https://vietnamnet.vn/kinh-doanh/tai-chinh\",\n",
    "     \"https://vietnamnet.vn/kinh-doanh/dau-tu\",\n",
    "     \"https://vietnamnet.vn/kinh-doanh/thi-truong\",\n",
    "     \"https://vietnamnet.vn/kinh-doanh/doanh-nhan\",\n",
    "     \"https://vietnamnet.vn/kinh-doanh/tu-van-tai-chinh\",\n",
    "     \"https://vietnamnet.vn/kinh-doanh/diem-tin-dung-cong-dan-4-0\", ],\n",
    "    \"Giải trí\":\n",
    "    [\"https://vietnamnet.vn/giai-tri\",\n",
    "     \"https://vietnamnet.vn/giai-tri/the-gioi-sao\",\n",
    "     \"https://vietnamnet.vn/giai-tri/thoi-trang\",\n",
    "     \"https://vietnamnet.vn/giai-tri/nhac\",\n",
    "     \"https://vietnamnet.vn/giai-tri/phim\",\n",
    "     \"https://vietnamnet.vn/giai-tri/truyen-hinh\",\n",
    "     \"https://vietnamnet.vn/giai-tri/sach\",\n",
    "     \"https://vietnamnet.vn/giai-tri/di-san-my-thuat-san-khau\", ],\n",
    "    \"Thể thao\":\n",
    "    [\"https://vietnamnet.vn/thong-tin-unesco\",\n",
    "     \"https://vietnamnet.vn/the-thao\",\n",
    "     \"https://vietnamnet.vn/the-thao/bong-da-viet-nam\",\n",
    "     \"https://vietnamnet.vn/the-thao/bong-da-quoc-te\",\n",
    "     \"https://vietnamnet.vn/the-thao/hau-truong\",\n",
    "     \"https://vietnamnet.vn/the-thao/cac-mon-khac\",\n",
    "     \"https://vietnamnet.vn/the-thao/xem-truc-tiep-bong-da\",\n",
    "     \"https://vietnamnet.vn/the-thao/du-lieu-bong-da\",\n",
    "     \"https://vietnamnet.vn/the-thao/tin-chuyen-nhuong\",\n",
    "     \"https://vietnamnet.vn/the-thao/video-the-thao\", ],\n",
    "    \"Sức khỏe\":\n",
    "    [\"https://vietnamnet.vn/suc-khoe\",\n",
    "     \"https://vietnamnet.vn/suc-khoe/lam-dep\",\n",
    "     \"https://vietnamnet.vn/suc-khoe/tu-van-suc-khoe\",\n",
    "     \"https://vietnamnet.vn/suc-khoe/benh\", ],\n",
    "    \"Pháp luật\":\n",
    "    [\"https://vietnamnet.vn/phap-luat\",\n",
    "     \"https://vietnamnet.vn/phap-luat/ho-so-vu-an\",\n",
    "     \"https://vietnamnet.vn/phap-luat/tu-van-phap-luat\",\n",
    "     \"https://vietnamnet.vn/phap-luat/ky-su-phap-dinh\", ],\n",
    "    \"Oto - xe máy\":\n",
    "    [\"https://vietnamnet.vn/oto-xe-may\",\n",
    "     \"https://vietnamnet.vn/oto-xe-may/xe-moi\",\n",
    "     \"https://vietnamnet.vn/oto-xe-may/kham-pha\",\n",
    "     \"https://vietnamnet.vn/oto-xe-may/sau-tay-lai\",\n",
    "     \"https://vietnamnet.vn/oto-xe-may/dien-dan\",\n",
    "     \"https://vietnamnet.vn/oto-xe-may/tu-van\",\n",
    "     \"https://vietnamnet.vn/oto-xe-may/danh-gia-xe\",\n",
    "     \"https://vietnamnet.vn/oto-xe-may/gia-xe\", ],\n",
    "    \"Công nghệ\":\n",
    "    [\"https://vietnamnet.vn/cong-nghe\",\n",
    "     \"https://vietnamnet.vn/cong-nghe/cong-dong-mang\",\n",
    "     \"https://vietnamnet.vn/cong-nghe/ung-dung\",\n",
    "     \"https://vietnamnet.vn/cong-nghe/san-pham\",\n",
    "     \"https://vietnamnet.vn/cong-nghe/vien-thong\",\n",
    "     \"https://vietnamnet.vn/cong-nghe/bao-mat\", ],\n",
    "    \"Bất động sản\":\n",
    "    [\"https://vietnamnet.vn/bat-dong-san\",\n",
    "     \"https://vietnamnet.vn/bat-dong-san/du-an\",\n",
    "     \"https://vietnamnet.vn/bat-dong-san/noi-that\",\n",
    "     \"https://vietnamnet.vn/bat-dong-san/kinh-nghiem-tu-van\",\n",
    "     \"https://vietnamnet.vn/bat-dong-san/thi-truong\",\n",
    "     \"https://vietnamnet.vn/bat-dong-san/nha-dep\",\n",
    "     \"https://vietnamnet.vn/bat-dong-san/kim-oanh-group\", ],\n",
    "    \"Bạn đọc\":\n",
    "    [\"https://vietnamnet.vn/ban-doc\",\n",
    "     \"https://vietnamnet.vn/ban-doc/hoi-am\",\n",
    "     \"https://vietnamnet.vn/ban-doc/chia-se\",\n",
    "     \"https://vietnamnet.vn/ban-doc/tho\",\n",
    "     \"https://vietnamnet.vn/ban-doc/ngay-mai-tuoi-sang\", ]\n",
    "}\n"
   ]
  },
  {
   "cell_type": "code",
   "execution_count": 3,
   "metadata": {},
   "outputs": [],
   "source": [
    "for key, value in vietnamnet.items():\n",
    "    url_array = []\n",
    "    for url in value:\n",
    "        for i in range(55,65):\n",
    "            url_array.append(url + \"-page\" + str(i))\n",
    "    vietnamnet[key] += url_array\n"
   ]
  },
  {
   "cell_type": "code",
   "execution_count": 4,
   "metadata": {},
   "outputs": [
    {
     "name": "stdout",
     "output_type": "stream",
     "text": [
      "Đời sống 2382\n",
      "Thời sự 1666\n",
      "Quốc tế 2126\n",
      "Kinh doanh 2660\n",
      "Giải trí 3072\n",
      "Thể thao 1682\n",
      "Sức khỏe 1508\n",
      "Pháp luật 1101\n",
      "Oto - xe máy 1063\n",
      "Công nghệ 2422\n",
      "Bất động sản 2447\n",
      "Bạn đọc 1218\n"
     ]
    }
   ],
   "source": [
    "vietnamnetLinks = {}\n",
    "for key in vietnamnet:\n",
    "    vietnamnetLinks[key] = []\n",
    "headers = {\n",
    "    'User-Agent': 'Mozilla/5.0 (Macintosh; Intel Mac OS X 10_11_5) AppleWebKit/537.36 (KHTML, like Gecko) Chrome/50.0.2661.102 Safari/537.36'}\n",
    "for key, value in vietnamnet.items():\n",
    "    for url in value:\n",
    "        try:\n",
    "            response = requests.get(url, headers=headers)\n",
    "            tree = lxml.html.fromstring(response.content)\n",
    "            title_elem = tree.cssselect('.vnn-title a')\n",
    "            for elem in title_elem:\n",
    "                vietnamnetLinks[key].append(\"https://vietnamnet.vn\"+elem.get('href'))\n",
    "        except:\n",
    "            pass\n",
    "\n",
    "for key in vietnamnetLinks:\n",
    "    print(key, len(vietnamnetLinks[key]))"
   ]
  },
  {
   "cell_type": "code",
   "execution_count": 5,
   "metadata": {},
   "outputs": [
    {
     "name": "stdout",
     "output_type": "stream",
     "text": [
      "Đời sống 1242\n",
      "Thời sự 1096\n",
      "Quốc tế 1242\n",
      "Kinh doanh 1520\n",
      "Giải trí 1552\n",
      "Thể thao 352\n",
      "Sức khỏe 938\n",
      "Pháp luật 531\n",
      "Oto - xe máy 303\n",
      "Công nghệ 1352\n",
      "Bất động sản 1523\n",
      "Bạn đọc 647\n"
     ]
    }
   ],
   "source": [
    "vietnamnetContent = {}\n",
    "for key in vietnamnet:\n",
    "    vietnamnetContent[key] = []\n",
    "for key, value in vietnamnetLinks.items():\n",
    "    for url in value:\n",
    "        if(url.startswith('https://vietnamnet.vn/')):\n",
    "            try:\n",
    "                id = url.split('-')[-1].replace('.html', '')\n",
    "                downloaded = trafilatura.fetch_url(url)\n",
    "                tree = lxml.html.fromstring(str(downloaded))\n",
    "                date_elem = len(tree.cssselect(\"div.breadcrumb-box__time p span\")\n",
    "                                ) and tree.cssselect(\"div.breadcrumb-box__time p span\")[0].text or \"\"\n",
    "                content = trafilatura.extract(downloaded)\n",
    "                content = content.replace('\\n', ' ')\n",
    "                item = {\"domain\": \"https://vietnamnet.vn/\", \"URL\": url,\n",
    "                        \"content\": content, \"date\": date_elem, \"id\": id}\n",
    "                vietnamnetContent[key].append(item)\n",
    "            except:\n",
    "                pass\n",
    "\n",
    "# for key in vietnamnetContent:\n",
    "    print(key, len(vietnamnetContent[key]))"
   ]
  },
  {
   "cell_type": "code",
   "execution_count": 6,
   "metadata": {},
   "outputs": [
    {
     "name": "stderr",
     "output_type": "stream",
     "text": [
      "/home/anh-nh/.local/lib/python3.9/site-packages/elasticsearch/connection/base.py:209: ElasticsearchWarning: Elasticsearch built-in security features are not enabled. Without authentication, your cluster could be accessible to anyone. See https://www.elastic.co/guide/en/elasticsearch/reference/7.17/security-minimal-setup.html to enable security.\n",
      "  warnings.warn(message, category=ElasticsearchWarning)\n"
     ]
    },
    {
     "data": {
      "text/plain": [
       "{'name': 'anhnh-Vostro-3578',\n",
       " 'cluster_name': 'elasticsearch',\n",
       " 'cluster_uuid': 'j_KLsaXnT3u6trvp-MtsaA',\n",
       " 'version': {'number': '7.17.3',\n",
       "  'build_flavor': 'default',\n",
       "  'build_type': 'deb',\n",
       "  'build_hash': '5ad023604c8d7416c9eb6c0eadb62b14e766caff',\n",
       "  'build_date': '2022-04-19T08:11:19.070913226Z',\n",
       "  'build_snapshot': False,\n",
       "  'lucene_version': '8.11.1',\n",
       "  'minimum_wire_compatibility_version': '6.8.0',\n",
       "  'minimum_index_compatibility_version': '6.0.0-beta1'},\n",
       " 'tagline': 'You Know, for Search'}"
      ]
     },
     "execution_count": 6,
     "metadata": {},
     "output_type": "execute_result"
    }
   ],
   "source": [
    "client = Elasticsearch(\"http://localhost:9200\")\n",
    "\n",
    "client.info()\n"
   ]
  },
  {
   "cell_type": "code",
   "execution_count": 7,
   "metadata": {},
   "outputs": [],
   "source": [
    "def gendata():\n",
    "    for key,value in vietnamnetContent.items():\n",
    "         for item in value:\n",
    "            temp_item = {k: item[k] for k in set(list(item.keys())) - set(['id'])}\n",
    "            temp_item['category'] = key\n",
    "            client.index(index=\"journal\", id=item['id'], document=temp_item)\n",
    "\n",
    "gendata()"
   ]
  }
 ],
 "metadata": {
  "interpreter": {
   "hash": "916dbcbb3f70747c44a77c7bcd40155683ae19c65e1c03b4aa3499c5328201f1"
  },
  "kernelspec": {
   "display_name": "Python 3.9.5 64-bit",
   "language": "python",
   "name": "python3"
  },
  "language_info": {
   "codemirror_mode": {
    "name": "ipython",
    "version": 3
   },
   "file_extension": ".py",
   "mimetype": "text/x-python",
   "name": "python",
   "nbconvert_exporter": "python",
   "pygments_lexer": "ipython3",
   "version": "3.9.5"
  },
  "orig_nbformat": 4
 },
 "nbformat": 4,
 "nbformat_minor": 2
}
