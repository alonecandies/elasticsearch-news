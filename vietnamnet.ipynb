{
 "cells": [
  {
   "cell_type": "code",
   "execution_count": 1,
   "metadata": {},
   "outputs": [],
   "source": [
    "import trafilatura\n",
    "import requests\n",
    "import lxml\n",
    "from elasticsearch import Elasticsearch\n"
   ]
  },
  {
   "cell_type": "code",
   "execution_count": 2,
   "metadata": {},
   "outputs": [],
   "source": [
    "vietnamnet = {\n",
    "    \"Đời sống\":\n",
    "    [\"https://vietnamnet.vn/vn/doi-song/gia-dinh/\",\n",
    "     \"https://vietnamnet.vn/vn/doi-song/chuyen-la/\",\n",
    "     \"https://vietnamnet.vn/vn/doi-song/gioi-tre/\",\n",
    "     \"https://vietnamnet.vn/vn/doi-song/tam-su/\",\n",
    "     \"https://vietnamnet.vn/vn/doi-song/am-thuc/\",\n",
    "     \"https://vietnamnet.vn/vn/doi-song/meo-vat/\", ],\n",
    "    \"Thời sự\":\n",
    "    [\"https://vietnamnet.vn/vn/thoi-su/chong-tham-nhung/\",\n",
    "     \"https://vietnamnet.vn/vn/thoi-su/quoc-hoi-khoa-xv/\",\n",
    "     \"https://vietnamnet.vn/vn/thoi-su/an-toan-giao-thong/\",\n",
    "     \"https://vietnamnet.vn/vn/thoi-su/moi-truong/\",\n",
    "     \"https://vietnamnet.vn/vn/thoi-su/clip-nong/\",\n",
    "     \"https://vietnamnet.vn/vn/thoi-su/bhxh-bhyt/\",\n",
    "     \"https://vietnamnet.vn/vn/thoi-su/quoc-phong/\", ],\n",
    "    \"Quốc tế\":\n",
    "    [\"https://vietnamnet.vn/vn/the-gioi/binh-luan-quoc-te/\",\n",
    "     \"https://vietnamnet.vn/vn/the-gioi/chan-dung/\",\n",
    "     \"https://vietnamnet.vn/vn/the-gioi/ho-so/\",\n",
    "     \"https://vietnamnet.vn/vn/the-gioi/the-gioi-do-day/\",\n",
    "     \"https://vietnamnet.vn/vn/the-gioi/viet-nam-va-the-gioi/\",\n",
    "     \"https://vietnamnet.vn/vn/the-gioi/quan-su/\", ],\n",
    "    \"Kinh doanh\":\n",
    "    [\"https://vietnamnet.vn/kinh-doanh\",\n",
    "     \"https://vietnamnet.vn/kinh-doanh/tai-chinh\",\n",
    "     \"https://vietnamnet.vn/kinh-doanh/dau-tu\",\n",
    "     \"https://vietnamnet.vn/kinh-doanh/thi-truong\",\n",
    "     \"https://vietnamnet.vn/kinh-doanh/doanh-nhan\",\n",
    "     \"https://vietnamnet.vn/kinh-doanh/tu-van-tai-chinh\",\n",
    "     \"https://vietnamnet.vn/kinh-doanh/diem-tin-dung-cong-dan-4-0\", ],\n",
    "    \"Giải trí\":\n",
    "    [\"https://vietnamnet.vn/giai-tri\",\n",
    "     \"https://vietnamnet.vn/giai-tri/the-gioi-sao\",\n",
    "     \"https://vietnamnet.vn/giai-tri/thoi-trang\",\n",
    "     \"https://vietnamnet.vn/giai-tri/nhac\",\n",
    "     \"https://vietnamnet.vn/giai-tri/phim\",\n",
    "     \"https://vietnamnet.vn/giai-tri/truyen-hinh\",\n",
    "     \"https://vietnamnet.vn/giai-tri/sach\",\n",
    "     \"https://vietnamnet.vn/giai-tri/di-san-my-thuat-san-khau\", ],\n",
    "    \"Thể thao\":\n",
    "    [\"https://vietnamnet.vn/thong-tin-unesco\",\n",
    "     \"https://vietnamnet.vn/the-thao\",\n",
    "     \"https://vietnamnet.vn/the-thao/bong-da-viet-nam\",\n",
    "     \"https://vietnamnet.vn/the-thao/bong-da-quoc-te\",\n",
    "     \"https://vietnamnet.vn/the-thao/hau-truong\",\n",
    "     \"https://vietnamnet.vn/the-thao/cac-mon-khac\",\n",
    "     \"https://vietnamnet.vn/the-thao/xem-truc-tiep-bong-da\",\n",
    "     \"https://vietnamnet.vn/the-thao/du-lieu-bong-da\",\n",
    "     \"https://vietnamnet.vn/the-thao/tin-chuyen-nhuong\",\n",
    "     \"https://vietnamnet.vn/the-thao/video-the-thao\", ],\n",
    "    \"Sức khỏe\":\n",
    "    [\"https://vietnamnet.vn/suc-khoe\",\n",
    "     \"https://vietnamnet.vn/suc-khoe/lam-dep\",\n",
    "     \"https://vietnamnet.vn/suc-khoe/tu-van-suc-khoe\",\n",
    "     \"https://vietnamnet.vn/suc-khoe/benh\", ],\n",
    "    \"Pháp luật\":\n",
    "    [\"https://vietnamnet.vn/phap-luat\",\n",
    "     \"https://vietnamnet.vn/phap-luat/ho-so-vu-an\",\n",
    "     \"https://vietnamnet.vn/phap-luat/tu-van-phap-luat\",\n",
    "     \"https://vietnamnet.vn/phap-luat/ky-su-phap-dinh\", ],\n",
    "    \"Oto - xe máy\":\n",
    "    [\"https://vietnamnet.vn/oto-xe-may\",\n",
    "     \"https://vietnamnet.vn/oto-xe-may/xe-moi\",\n",
    "     \"https://vietnamnet.vn/oto-xe-may/kham-pha\",\n",
    "     \"https://vietnamnet.vn/oto-xe-may/sau-tay-lai\",\n",
    "     \"https://vietnamnet.vn/oto-xe-may/dien-dan\",\n",
    "     \"https://vietnamnet.vn/oto-xe-may/tu-van\",\n",
    "     \"https://vietnamnet.vn/oto-xe-may/danh-gia-xe\",\n",
    "     \"https://vietnamnet.vn/oto-xe-may/gia-xe\", ],\n",
    "    \"Công nghệ\":\n",
    "    [\"https://vietnamnet.vn/cong-nghe\",\n",
    "     \"https://vietnamnet.vn/cong-nghe/cong-dong-mang\",\n",
    "     \"https://vietnamnet.vn/cong-nghe/ung-dung\",\n",
    "     \"https://vietnamnet.vn/cong-nghe/san-pham\",\n",
    "     \"https://vietnamnet.vn/cong-nghe/vien-thong\",\n",
    "     \"https://vietnamnet.vn/cong-nghe/bao-mat\", ],\n",
    "    \"Bất động sản\":\n",
    "    [\"https://vietnamnet.vn/bat-dong-san\",\n",
    "     \"https://vietnamnet.vn/bat-dong-san/du-an\",\n",
    "     \"https://vietnamnet.vn/bat-dong-san/noi-that\",\n",
    "     \"https://vietnamnet.vn/bat-dong-san/kinh-nghiem-tu-van\",\n",
    "     \"https://vietnamnet.vn/bat-dong-san/thi-truong\",\n",
    "     \"https://vietnamnet.vn/bat-dong-san/nha-dep\",\n",
    "     \"https://vietnamnet.vn/bat-dong-san/kim-oanh-group\", ],\n",
    "    \"Bạn đọc\":\n",
    "    [\"https://vietnamnet.vn/ban-doc\",\n",
    "     \"https://vietnamnet.vn/ban-doc/hoi-am\",\n",
    "     \"https://vietnamnet.vn/ban-doc/chia-se\",\n",
    "     \"https://vietnamnet.vn/ban-doc/tho\",\n",
    "     \"https://vietnamnet.vn/ban-doc/ngay-mai-tuoi-sang\", ]\n",
    "}\n"
   ]
  },
  {
   "cell_type": "code",
   "execution_count": 4,
   "metadata": {},
   "outputs": [],
   "source": [
    "vietnamnetLinks = {}\n",
    "for key in vietnamnet:\n",
    "    vietnamnetLinks[key] = []\n",
    "headers = {\n",
    "    'User-Agent': 'Mozilla/5.0 (Macintosh; Intel Mac OS X 10_11_5) AppleWebKit/537.36 (KHTML, like Gecko) Chrome/50.0.2661.102 Safari/537.36'}\n",
    "for key, value in vietnamnet.items():\n",
    "    for url in value:\n",
    "        response = requests.get(url, headers=headers)\n",
    "        tree = lxml.html.fromstring(response.content)\n",
    "        title_elem = tree.cssselect('.vnn-title a')\n",
    "        for elem in title_elem:\n",
    "            vietnamnetLinks[key].append(\"https://vietnamnet.vn\"+elem.get('href'))"
   ]
  },
  {
   "cell_type": "code",
   "execution_count": 5,
   "metadata": {},
   "outputs": [
    {
     "name": "stderr",
     "output_type": "stream",
     "text": [
      "ERROR:root:pycurl: https://vietnamnet.vn/tuyen-futsal-viet-nam-tuot-chien-thang-tran-ra-quan-827735.html (28, 'Operation timed out after 30011 milliseconds with 147067 bytes received')\n",
      "ERROR:trafilatura.core:not enough text None\n",
      "ERROR:root:pycurl: https://vietnamnet.vn/phong-thuy-bo-tri-nha-cua-nam-dan-2022-khong-nen-bo-qua-816328.html (28, 'Operation timed out after 30002 milliseconds with 114308 bytes received')\n",
      "ERROR:root:pycurl: https://vietnamnet.vn/nha-cap-4-mai-bang-len-ngoi-duoc-ua-chuong-xay-nhieu-823831.html (28, 'Operation timed out after 30010 milliseconds with 114308 bytes received')\n",
      "ERROR:trafilatura.downloads:not a 200 response: 404 for URL https://vietnamnet.vn/ngon-lua-tagore-818515.html\n"
     ]
    },
    {
     "name": "stdout",
     "output_type": "stream",
     "text": [
      "Đời sống 186\n",
      "Thời sự 180\n",
      "Quốc tế 186\n",
      "Kinh doanh 233\n",
      "Giải trí 248\n",
      "Thể thao 271\n",
      "Sức khỏe 124\n",
      "Pháp luật 134\n",
      "Oto - xe máy 235\n",
      "Công nghệ 186\n",
      "Bất động sản 208\n",
      "Bạn đọc 148\n"
     ]
    }
   ],
   "source": [
    "vietnamnetContent = {}\n",
    "for key in vietnamnet:\n",
    "    vietnamnetContent[key] = []\n",
    "for key, value in vietnamnetLinks.items():\n",
    "    for url in value:\n",
    "        if(url.startswith('https://vietnamnet.vn/')):\n",
    "            try:\n",
    "                id = url.split('-')[-1].replace('.html', '')\n",
    "                downloaded = trafilatura.fetch_url(url)\n",
    "                tree = lxml.html.fromstring(str(downloaded))\n",
    "                date_elem = len(tree.cssselect(\"div.breadcrumb-box__time p span\")) and tree.cssselect(\"div.breadcrumb-box__time p span\")[0].text or \"\"\n",
    "                content = trafilatura.extract(downloaded)\n",
    "                content = content.replace('\\n', ' ')\n",
    "                item = {\"domain\": \"https://vietnamnet.vn/\", \"URL\": url,\n",
    "                        \"content\": content, \"date\": date_elem, \"id\": id}\n",
    "                vietnamnetContent[key].append(item)\n",
    "            except:\n",
    "                pass\n",
    "\n",
    "for key in vietnamnetContent:\n",
    "    print(key, len(vietnamnetContent[key]))\n"
   ]
  },
  {
   "cell_type": "code",
   "execution_count": 6,
   "metadata": {},
   "outputs": [
    {
     "name": "stderr",
     "output_type": "stream",
     "text": [
      "/home/hplong/.local/lib/python3.8/site-packages/elasticsearch/connection/base.py:209: ElasticsearchWarning: Elasticsearch built-in security features are not enabled. Without authentication, your cluster could be accessible to anyone. See https://www.elastic.co/guide/en/elasticsearch/reference/7.17/security-minimal-setup.html to enable security.\n",
      "  warnings.warn(message, category=ElasticsearchWarning)\n"
     ]
    },
    {
     "data": {
      "text/plain": [
       "{'name': 'HoangPhiLong-20182651',\n",
       " 'cluster_name': 'elasticsearch',\n",
       " 'cluster_uuid': 'jF2zfdDdQqueQik2u6h9Ug',\n",
       " 'version': {'number': '7.17.2',\n",
       "  'build_flavor': 'default',\n",
       "  'build_type': 'deb',\n",
       "  'build_hash': 'de7261de50d90919ae53b0eff9413fd7e5307301',\n",
       "  'build_date': '2022-03-28T15:12:21.446567561Z',\n",
       "  'build_snapshot': False,\n",
       "  'lucene_version': '8.11.1',\n",
       "  'minimum_wire_compatibility_version': '6.8.0',\n",
       "  'minimum_index_compatibility_version': '6.0.0-beta1'},\n",
       " 'tagline': 'You Know, for Search'}"
      ]
     },
     "execution_count": 6,
     "metadata": {},
     "output_type": "execute_result"
    }
   ],
   "source": [
    "client = Elasticsearch(\"http://localhost:9200\")\n",
    "\n",
    "client.info()\n"
   ]
  },
  {
   "cell_type": "code",
   "execution_count": null,
   "metadata": {},
   "outputs": [],
   "source": [
    "def gendata():\n",
    "    for key,value in vietnamnetContent.items():\n",
    "         for item in value:\n",
    "            temp_item = {k: item[k] for k in set(list(item.keys())) - set(['id'])}\n",
    "            temp_item['category'] = key\n",
    "            client.index(index=\"journal\", id=item['id'], document=temp_item)\n",
    "\n",
    "gendata()"
   ]
  }
 ],
 "metadata": {
  "interpreter": {
   "hash": "b3ba2566441a7c06988d0923437866b63cedc61552a5af99d1f4fb67d367b25f"
  },
  "kernelspec": {
   "display_name": "Python 3.9.7 ('base')",
   "language": "python",
   "name": "python3"
  },
  "language_info": {
   "codemirror_mode": {
    "name": "ipython",
    "version": 3
   },
   "file_extension": ".py",
   "mimetype": "text/x-python",
   "name": "python",
   "nbconvert_exporter": "python",
   "pygments_lexer": "ipython3",
   "version": "3.9.7"
  },
  "orig_nbformat": 4
 },
 "nbformat": 4,
 "nbformat_minor": 2
}
